{
 "cells": [
  {
   "cell_type": "code",
   "execution_count": 3,
   "id": "48e64a2d",
   "metadata": {},
   "outputs": [],
   "source": [
    "import numpy as np\n",
    "import pandas as pd\n",
    "import matplotlib.pyplot as plt\n",
    "import seaborn as sns\n",
    "from tensorflow.python.keras import models,layers,optimizers\n",
    "import tensorflow\n",
    "from tensorflow.keras.preprocessing.text import Tokenizer,text_to_word_sequence\n",
    "from tensorflow.keras.preprocessing.sequence import pad_sequences\n",
    "import bz2\n",
    "import re\n",
    "import re\n",
    "import nltk"
   ]
  },
  {
   "cell_type": "markdown",
   "id": "7f609e66",
   "metadata": {},
   "source": [
    "## Self-Test Kits"
   ]
  },
  {
   "cell_type": "code",
   "execution_count": 4,
   "id": "5d98f506",
   "metadata": {},
   "outputs": [],
   "source": [
    "df=pd.read_csv('Amazon_scrap_data_3')"
   ]
  },
  {
   "cell_type": "code",
   "execution_count": 5,
   "id": "503c151b",
   "metadata": {},
   "outputs": [
    {
     "data": {
      "text/html": [
       "<div>\n",
       "<style scoped>\n",
       "    .dataframe tbody tr th:only-of-type {\n",
       "        vertical-align: middle;\n",
       "    }\n",
       "\n",
       "    .dataframe tbody tr th {\n",
       "        vertical-align: top;\n",
       "    }\n",
       "\n",
       "    .dataframe thead th {\n",
       "        text-align: right;\n",
       "    }\n",
       "</style>\n",
       "<table border=\"1\" class=\"dataframe\">\n",
       "  <thead>\n",
       "    <tr style=\"text-align: right;\">\n",
       "      <th></th>\n",
       "      <th>Unnamed: 0</th>\n",
       "      <th>Customer_Name</th>\n",
       "      <th>Customer_Rating</th>\n",
       "      <th>Review_Date</th>\n",
       "      <th>Customer_Review</th>\n",
       "    </tr>\n",
       "  </thead>\n",
       "  <tbody>\n",
       "    <tr>\n",
       "      <th>0</th>\n",
       "      <td>0</td>\n",
       "      <td>Nikunj Joshi</td>\n",
       "      <td>5.0 out of 5 stars</td>\n",
       "      <td>Reviewed in India on 29 December 2021</td>\n",
       "      <td>\\n\\n  I got a false positive. Scared me to bit...</td>\n",
       "    </tr>\n",
       "    <tr>\n",
       "      <th>1</th>\n",
       "      <td>1</td>\n",
       "      <td>Vasu</td>\n",
       "      <td>5.0 out of 5 stars</td>\n",
       "      <td>Reviewed in India on 16 February 2022</td>\n",
       "      <td>\\n\\n\\n\\n\\n                    The media could ...</td>\n",
       "    </tr>\n",
       "    <tr>\n",
       "      <th>2</th>\n",
       "      <td>2</td>\n",
       "      <td>Amazon Customer</td>\n",
       "      <td>1.0 out of 5 stars</td>\n",
       "      <td>Reviewed in India on 7 January 2022</td>\n",
       "      <td>\\n\\n  The instructions manual is VERY SIMPLE t...</td>\n",
       "    </tr>\n",
       "    <tr>\n",
       "      <th>3</th>\n",
       "      <td>3</td>\n",
       "      <td>Shaurya G.</td>\n",
       "      <td>1.0 out of 5 stars</td>\n",
       "      <td>Reviewed in India on 6 February 2022</td>\n",
       "      <td>\\n\\n  CoviFind home test is a relief in such d...</td>\n",
       "    </tr>\n",
       "    <tr>\n",
       "      <th>4</th>\n",
       "      <td>4</td>\n",
       "      <td>Manan Shah</td>\n",
       "      <td>1.0 out of 5 stars</td>\n",
       "      <td>Reviewed in India on 24 July 2021</td>\n",
       "      <td>\\n\\n  This kit is too dangerous and ambiguous....</td>\n",
       "    </tr>\n",
       "  </tbody>\n",
       "</table>\n",
       "</div>"
      ],
      "text/plain": [
       "   Unnamed: 0    Customer_Name     Customer_Rating  \\\n",
       "0           0    Nikunj Joshi   5.0 out of 5 stars   \n",
       "1           1             Vasu  5.0 out of 5 stars   \n",
       "2           2  Amazon Customer  1.0 out of 5 stars   \n",
       "3           3       Shaurya G.  1.0 out of 5 stars   \n",
       "4           4       Manan Shah  1.0 out of 5 stars   \n",
       "\n",
       "                             Review_Date  \\\n",
       "0  Reviewed in India on 29 December 2021   \n",
       "1  Reviewed in India on 16 February 2022   \n",
       "2    Reviewed in India on 7 January 2022   \n",
       "3   Reviewed in India on 6 February 2022   \n",
       "4      Reviewed in India on 24 July 2021   \n",
       "\n",
       "                                     Customer_Review  \n",
       "0  \\n\\n  I got a false positive. Scared me to bit...  \n",
       "1  \\n\\n\\n\\n\\n                    The media could ...  \n",
       "2  \\n\\n  The instructions manual is VERY SIMPLE t...  \n",
       "3  \\n\\n  CoviFind home test is a relief in such d...  \n",
       "4  \\n\\n  This kit is too dangerous and ambiguous....  "
      ]
     },
     "execution_count": 5,
     "metadata": {},
     "output_type": "execute_result"
    }
   ],
   "source": [
    "df.head()"
   ]
  },
  {
   "cell_type": "code",
   "execution_count": 6,
   "id": "6c13684f",
   "metadata": {},
   "outputs": [],
   "source": [
    "df.drop(['Unnamed: 0'],axis=1,inplace=True)"
   ]
  },
  {
   "cell_type": "code",
   "execution_count": 7,
   "id": "dbf9f9f8",
   "metadata": {},
   "outputs": [],
   "source": [
    "df.drop_duplicates(inplace=True)"
   ]
  },
  {
   "cell_type": "code",
   "execution_count": 8,
   "id": "59748211",
   "metadata": {},
   "outputs": [],
   "source": [
    "df.dropna(inplace=True)"
   ]
  },
  {
   "cell_type": "code",
   "execution_count": 9,
   "id": "875f787b",
   "metadata": {},
   "outputs": [
    {
     "data": {
      "text/plain": [
       "(256, 4)"
      ]
     },
     "execution_count": 9,
     "metadata": {},
     "output_type": "execute_result"
    }
   ],
   "source": [
    "df.shape"
   ]
  },
  {
   "cell_type": "code",
   "execution_count": 10,
   "id": "70534d4b",
   "metadata": {},
   "outputs": [],
   "source": [
    "#data cleaning\n",
    "clean=[]\n",
    "for i in df['Customer_Review']:\n",
    "    clean.append(i)\n"
   ]
  },
  {
   "cell_type": "code",
   "execution_count": 11,
   "id": "8caf35bc",
   "metadata": {},
   "outputs": [],
   "source": [
    "\n",
    "clean[:]=[ i.lstrip('\\n') for i in clean]"
   ]
  },
  {
   "cell_type": "code",
   "execution_count": 12,
   "id": "0b8f91ba",
   "metadata": {},
   "outputs": [],
   "source": [
    "clean[:]=[ i.rstrip('\\n') for i in clean]"
   ]
  },
  {
   "cell_type": "code",
   "execution_count": 13,
   "id": "ec4031cf",
   "metadata": {},
   "outputs": [],
   "source": [
    "clean2=[]\n",
    "for i in clean:\n",
    "    clean2.append(i.strip('The media could not be loaded.\\n                \\n\\n\\n\\n\\n  \\xa0'))"
   ]
  },
  {
   "cell_type": "code",
   "execution_count": 14,
   "id": "1eda5cf8",
   "metadata": {},
   "outputs": [],
   "source": [
    "df['Customer_Review']=clean2"
   ]
  },
  {
   "cell_type": "code",
   "execution_count": 15,
   "id": "dc3bfdb2",
   "metadata": {},
   "outputs": [
    {
     "data": {
      "text/plain": [
       "256"
      ]
     },
     "execution_count": 15,
     "metadata": {},
     "output_type": "execute_result"
    }
   ],
   "source": [
    "len(df['Customer_Review'])"
   ]
  },
  {
   "cell_type": "code",
   "execution_count": 16,
   "id": "1b5b2e4f",
   "metadata": {},
   "outputs": [
    {
     "name": "stderr",
     "output_type": "stream",
     "text": [
      "[nltk_data] Downloading package stopwords to\n",
      "[nltk_data]     C:\\Users\\chera\\AppData\\Roaming\\nltk_data...\n",
      "[nltk_data]   Unzipping corpora\\stopwords.zip.\n"
     ]
    }
   ],
   "source": [
    "nltk.download('stopwords')\n",
    "from nltk.corpus import stopwords\n",
    "from nltk.stem.porter import PorterStemmer\n",
    "ps=PorterStemmer()\n",
    "all_stopwords=stopwords.words('english')\n",
    "all_stopwords.remove('not')"
   ]
  },
  {
   "cell_type": "code",
   "execution_count": 17,
   "id": "27d907f1",
   "metadata": {},
   "outputs": [],
   "source": [
    "def remove_special_characters(text, remove_digits=False):\n",
    "    pattern = r'[^a-zA-z0-9\\s]' if not remove_digits else r'[^a-zA-z\\s]'\n",
    "    text = re.sub(pattern, '', text)\n",
    "    return text"
   ]
  },
  {
   "cell_type": "code",
   "execution_count": 18,
   "id": "21606beb",
   "metadata": {},
   "outputs": [],
   "source": [
    "corpus3=[]\n",
    "for i in df['Customer_Review']:\n",
    "    corpus3.append(remove_special_characters(i))"
   ]
  },
  {
   "cell_type": "code",
   "execution_count": 21,
   "id": "744f1b79",
   "metadata": {},
   "outputs": [],
   "source": [
    "from textblob import TextBlob"
   ]
  },
  {
   "cell_type": "code",
   "execution_count": 22,
   "id": "c4ed1f75",
   "metadata": {},
   "outputs": [],
   "source": [
    "x3=pd.Series(corpus3)"
   ]
  },
  {
   "cell_type": "code",
   "execution_count": 23,
   "id": "f0089e5d",
   "metadata": {},
   "outputs": [
    {
     "data": {
      "text/html": [
       "<div>\n",
       "<style scoped>\n",
       "    .dataframe tbody tr th:only-of-type {\n",
       "        vertical-align: middle;\n",
       "    }\n",
       "\n",
       "    .dataframe tbody tr th {\n",
       "        vertical-align: top;\n",
       "    }\n",
       "\n",
       "    .dataframe thead th {\n",
       "        text-align: right;\n",
       "    }\n",
       "</style>\n",
       "<table border=\"1\" class=\"dataframe\">\n",
       "  <thead>\n",
       "    <tr style=\"text-align: right;\">\n",
       "      <th></th>\n",
       "      <th>Customer_Name</th>\n",
       "      <th>Customer_Rating</th>\n",
       "      <th>Review_Date</th>\n",
       "      <th>Customer_Review</th>\n",
       "      <th>Sentiment_polarity</th>\n",
       "    </tr>\n",
       "  </thead>\n",
       "  <tbody>\n",
       "    <tr>\n",
       "      <th>0</th>\n",
       "      <td>Nikunj Joshi</td>\n",
       "      <td>5.0 out of 5 stars</td>\n",
       "      <td>Reviewed in India on 29 December 2021</td>\n",
       "      <td>I got a false positive. Scared me to bits, but...</td>\n",
       "      <td>0.003030</td>\n",
       "    </tr>\n",
       "    <tr>\n",
       "      <th>1</th>\n",
       "      <td>Vasu</td>\n",
       "      <td>5.0 out of 5 stars</td>\n",
       "      <td>Reviewed in India on 16 February 2022</td>\n",
       "      <td>quid inside the buffer tube leaked as you can ...</td>\n",
       "      <td>0.175000</td>\n",
       "    </tr>\n",
       "    <tr>\n",
       "      <th>2</th>\n",
       "      <td>Amazon Customer</td>\n",
       "      <td>1.0 out of 5 stars</td>\n",
       "      <td>Reviewed in India on 7 January 2022</td>\n",
       "      <td>structions manual is VERY SIMPLE to understand...</td>\n",
       "      <td>0.166667</td>\n",
       "    </tr>\n",
       "    <tr>\n",
       "      <th>3</th>\n",
       "      <td>Shaurya G.</td>\n",
       "      <td>1.0 out of 5 stars</td>\n",
       "      <td>Reviewed in India on 6 February 2022</td>\n",
       "      <td>CoviFind home test is a relief in such difficu...</td>\n",
       "      <td>0.079018</td>\n",
       "    </tr>\n",
       "    <tr>\n",
       "      <th>4</th>\n",
       "      <td>Manan Shah</td>\n",
       "      <td>1.0 out of 5 stars</td>\n",
       "      <td>Reviewed in India on 24 July 2021</td>\n",
       "      <td>s kit is too dangerous and ambiguous.It gave m...</td>\n",
       "      <td>-0.141667</td>\n",
       "    </tr>\n",
       "  </tbody>\n",
       "</table>\n",
       "</div>"
      ],
      "text/plain": [
       "     Customer_Name     Customer_Rating                            Review_Date  \\\n",
       "0    Nikunj Joshi   5.0 out of 5 stars  Reviewed in India on 29 December 2021   \n",
       "1             Vasu  5.0 out of 5 stars  Reviewed in India on 16 February 2022   \n",
       "2  Amazon Customer  1.0 out of 5 stars    Reviewed in India on 7 January 2022   \n",
       "3       Shaurya G.  1.0 out of 5 stars   Reviewed in India on 6 February 2022   \n",
       "4       Manan Shah  1.0 out of 5 stars      Reviewed in India on 24 July 2021   \n",
       "\n",
       "                                     Customer_Review  Sentiment_polarity  \n",
       "0  I got a false positive. Scared me to bits, but...            0.003030  \n",
       "1  quid inside the buffer tube leaked as you can ...            0.175000  \n",
       "2  structions manual is VERY SIMPLE to understand...            0.166667  \n",
       "3  CoviFind home test is a relief in such difficu...            0.079018  \n",
       "4  s kit is too dangerous and ambiguous.It gave m...           -0.141667  "
      ]
     },
     "execution_count": 23,
     "metadata": {},
     "output_type": "execute_result"
    }
   ],
   "source": [
    "def find_pol(review):\n",
    "    return TextBlob(review).sentiment.polarity\n",
    "df['Sentiment_polarity']=x3.apply(find_pol)\n",
    "df.head()"
   ]
  },
  {
   "cell_type": "code",
   "execution_count": 24,
   "id": "d2be020e",
   "metadata": {},
   "outputs": [
    {
     "name": "stderr",
     "output_type": "stream",
     "text": [
      "C:\\Users\\chera\\anaconda3\\lib\\site-packages\\seaborn\\distributions.py:2557: FutureWarning: `distplot` is a deprecated function and will be removed in a future version. Please adapt your code to use either `displot` (a figure-level function with similar flexibility) or `histplot` (an axes-level function for histograms).\n",
      "  warnings.warn(msg, FutureWarning)\n"
     ]
    },
    {
     "data": {
      "text/plain": [
       "<AxesSubplot:xlabel='Sentiment_polarity', ylabel='Density'>"
      ]
     },
     "execution_count": 24,
     "metadata": {},
     "output_type": "execute_result"
    },
    {
     "data": {
      "image/png": "[encoded data removed]",
      "text/plain": [
       "<Figure size 432x288 with 1 Axes>"
      ]
     },
     "metadata": {
      "needs_background": "light"
     },
     "output_type": "display_data"
    }
   ],
   "source": [
    "sns.distplot(df['Sentiment_polarity'])"
   ]
  },
  {
   "cell_type": "code",
   "execution_count": 25,
   "id": "e7163549",
   "metadata": {},
   "outputs": [
    {
     "data": {
      "text/plain": [
       "<AxesSubplot:xlabel='Customer_Rating', ylabel='Sentiment_polarity'>"
      ]
     },
     "execution_count": 25,
     "metadata": {},
     "output_type": "execute_result"
    },
    {
     "data": {
      "image/png": "[encoded data removed]",
      "text/plain": [
       "<Figure size 432x288 with 1 Axes>"
      ]
     },
     "metadata": {
      "needs_background": "light"
     },
     "output_type": "display_data"
    }
   ],
   "source": [
    "#infrence (11)\n",
    "plt.xticks(rotation='vertical')\n",
    "sns.barplot(x='Customer_Rating',y='Sentiment_polarity',data=df)"
   ]
  },
  {
   "cell_type": "code",
   "execution_count": 26,
   "id": "e14f946a",
   "metadata": {},
   "outputs": [
    {
     "data": {
      "text/html": [
       "<div>\n",
       "<style scoped>\n",
       "    .dataframe tbody tr th:only-of-type {\n",
       "        vertical-align: middle;\n",
       "    }\n",
       "\n",
       "    .dataframe tbody tr th {\n",
       "        vertical-align: top;\n",
       "    }\n",
       "\n",
       "    .dataframe thead th {\n",
       "        text-align: right;\n",
       "    }\n",
       "</style>\n",
       "<table border=\"1\" class=\"dataframe\">\n",
       "  <thead>\n",
       "    <tr style=\"text-align: right;\">\n",
       "      <th></th>\n",
       "      <th>Customer_Name</th>\n",
       "      <th>Customer_Rating</th>\n",
       "      <th>Review_Date</th>\n",
       "      <th>Customer_Review</th>\n",
       "      <th>Sentiment_polarity</th>\n",
       "    </tr>\n",
       "  </thead>\n",
       "  <tbody>\n",
       "    <tr>\n",
       "      <th>192</th>\n",
       "      <td>Amazon Customer</td>\n",
       "      <td>4.0 out of 5 stars</td>\n",
       "      <td>Reviewed in India on 7 August 2021</td>\n",
       "      <td>G</td>\n",
       "      <td>1.0</td>\n",
       "    </tr>\n",
       "    <tr>\n",
       "      <th>194</th>\n",
       "      <td>Deepanshu Rao</td>\n",
       "      <td>5.0 out of 5 stars</td>\n",
       "      <td>Reviewed in India on 24 July 2021</td>\n",
       "      <td>Amazing Product for Detecting Covid 19 at H</td>\n",
       "      <td>1.0</td>\n",
       "    </tr>\n",
       "    <tr>\n",
       "      <th>234</th>\n",
       "      <td>Vasu</td>\n",
       "      <td>1.0 out of 5 stars</td>\n",
       "      <td>Reviewed in India on 19 January 2022</td>\n",
       "      <td>It's not useful to test current covid strain W...</td>\n",
       "      <td>1.0</td>\n",
       "    </tr>\n",
       "  </tbody>\n",
       "</table>\n",
       "</div>"
      ],
      "text/plain": [
       "       Customer_Name     Customer_Rating  \\\n",
       "192  Amazon Customer  4.0 out of 5 stars   \n",
       "194   Deepanshu Rao   5.0 out of 5 stars   \n",
       "234             Vasu  1.0 out of 5 stars   \n",
       "\n",
       "                              Review_Date  \\\n",
       "192    Reviewed in India on 7 August 2021   \n",
       "194     Reviewed in India on 24 July 2021   \n",
       "234  Reviewed in India on 19 January 2022   \n",
       "\n",
       "                                       Customer_Review  Sentiment_polarity  \n",
       "192                                                  G                 1.0  \n",
       "194        Amazing Product for Detecting Covid 19 at H                 1.0  \n",
       "234  It's not useful to test current covid strain W...                 1.0  "
      ]
     },
     "execution_count": 26,
     "metadata": {},
     "output_type": "execute_result"
    }
   ],
   "source": [
    "df[df['Sentiment_polarity']==1]"
   ]
  },
  {
   "cell_type": "markdown",
   "id": "9feb4e50",
   "metadata": {},
   "source": [
    "## PPE "
   ]
  },
  {
   "cell_type": "code",
   "execution_count": 27,
   "id": "aa20f74a",
   "metadata": {},
   "outputs": [],
   "source": [
    "df1=pd.read_csv('PPE KIT DATA.csv')"
   ]
  },
  {
   "cell_type": "code",
   "execution_count": 28,
   "id": "957c41e1",
   "metadata": {},
   "outputs": [
    {
     "data": {
      "text/html": [
       "<div>\n",
       "<style scoped>\n",
       "    .dataframe tbody tr th:only-of-type {\n",
       "        vertical-align: middle;\n",
       "    }\n",
       "\n",
       "    .dataframe tbody tr th {\n",
       "        vertical-align: top;\n",
       "    }\n",
       "\n",
       "    .dataframe thead th {\n",
       "        text-align: right;\n",
       "    }\n",
       "</style>\n",
       "<table border=\"1\" class=\"dataframe\">\n",
       "  <thead>\n",
       "    <tr style=\"text-align: right;\">\n",
       "      <th></th>\n",
       "      <th>Customer Name</th>\n",
       "      <th>Date</th>\n",
       "      <th>Ratings</th>\n",
       "      <th>Rewiew title</th>\n",
       "      <th>Review content</th>\n",
       "    </tr>\n",
       "  </thead>\n",
       "  <tbody>\n",
       "    <tr>\n",
       "      <th>0</th>\n",
       "      <td>Hemu123</td>\n",
       "      <td>Reviewed in India on 2 July 2020</td>\n",
       "      <td>5.0 out of 5 stars</td>\n",
       "      <td>Good quality,Good fitting and size. protect ag...</td>\n",
       "      <td>Every item supplied is worth the price, be it ...</td>\n",
       "    </tr>\n",
       "    <tr>\n",
       "      <th>1</th>\n",
       "      <td>Anil kumar</td>\n",
       "      <td>Reviewed in India on 12 August 2020</td>\n",
       "      <td>3.0 out of 5 stars</td>\n",
       "      <td>This PPE Kit is not suitable for people who ha...</td>\n",
       "      <td>This PPE Kit is not suitable for people who ha...</td>\n",
       "    </tr>\n",
       "    <tr>\n",
       "      <th>2</th>\n",
       "      <td>Dr Gargi Mitra Sengupta</td>\n",
       "      <td>Reviewed in India on 17 September 2020</td>\n",
       "      <td>3.0 out of 5 stars</td>\n",
       "      <td>Dalucci PPE</td>\n",
       "      <td>Good PPE..tough but comfortable. The elastic i...</td>\n",
       "    </tr>\n",
       "    <tr>\n",
       "      <th>3</th>\n",
       "      <td>Pratik maheshwari</td>\n",
       "      <td>Reviewed in India on 28 July 2020</td>\n",
       "      <td>1.0 out of 5 stars</td>\n",
       "      <td>Delivering defaulted product.</td>\n",
       "      <td>Got the defaulted product. The chain was not w...</td>\n",
       "    </tr>\n",
       "    <tr>\n",
       "      <th>4</th>\n",
       "      <td>Customer</td>\n",
       "      <td>Reviewed in India on 9 October 2020</td>\n",
       "      <td>1.0 out of 5 stars</td>\n",
       "      <td>Absolute waste of money</td>\n",
       "      <td>Ordered two.  Received two different kits. Onl...</td>\n",
       "    </tr>\n",
       "  </tbody>\n",
       "</table>\n",
       "</div>"
      ],
      "text/plain": [
       "             Customer Name                                    Date  \\\n",
       "0                  Hemu123        Reviewed in India on 2 July 2020   \n",
       "1               Anil kumar     Reviewed in India on 12 August 2020   \n",
       "2  Dr Gargi Mitra Sengupta  Reviewed in India on 17 September 2020   \n",
       "3        Pratik maheshwari       Reviewed in India on 28 July 2020   \n",
       "4                 Customer     Reviewed in India on 9 October 2020   \n",
       "\n",
       "              Ratings                                       Rewiew title  \\\n",
       "0  5.0 out of 5 stars  Good quality,Good fitting and size. protect ag...   \n",
       "1  3.0 out of 5 stars  This PPE Kit is not suitable for people who ha...   \n",
       "2  3.0 out of 5 stars                                        Dalucci PPE   \n",
       "3  1.0 out of 5 stars                      Delivering defaulted product.   \n",
       "4  1.0 out of 5 stars                            Absolute waste of money   \n",
       "\n",
       "                                      Review content  \n",
       "0  Every item supplied is worth the price, be it ...  \n",
       "1  This PPE Kit is not suitable for people who ha...  \n",
       "2  Good PPE..tough but comfortable. The elastic i...  \n",
       "3  Got the defaulted product. The chain was not w...  \n",
       "4  Ordered two.  Received two different kits. Onl...  "
      ]
     },
     "execution_count": 28,
     "metadata": {},
     "output_type": "execute_result"
    }
   ],
   "source": [
    "df1.head()"
   ]
  },
  {
   "cell_type": "markdown",
   "id": "88fa2566",
   "metadata": {},
   "source": [
    "We will be doing sentiment analysis to see how good and how useful these are for People of India.\n",
    "And also use this in our Main Inference to connect with rise in covid cases and how it affects supply and demand during peak times"
   ]
  },
  {
   "cell_type": "code",
   "execution_count": 29,
   "id": "22818d3c",
   "metadata": {},
   "outputs": [],
   "source": [
    "#data cleaning"
   ]
  },
  {
   "cell_type": "code",
   "execution_count": 30,
   "id": "5ef39b57",
   "metadata": {},
   "outputs": [
    {
     "name": "stderr",
     "output_type": "stream",
     "text": [
      "[nltk_data] Downloading package stopwords to\n",
      "[nltk_data]     C:\\Users\\chera\\AppData\\Roaming\\nltk_data...\n",
      "[nltk_data]   Package stopwords is already up-to-date!\n"
     ]
    }
   ],
   "source": [
    "nltk.download('stopwords')\n",
    "from nltk.corpus import stopwords\n",
    "from nltk.stem.porter import PorterStemmer\n",
    "ps=PorterStemmer()\n",
    "all_stopwords=stopwords.words('english')\n",
    "all_stopwords.remove('not')"
   ]
  },
  {
   "cell_type": "code",
   "execution_count": 31,
   "id": "cc8b2873",
   "metadata": {},
   "outputs": [
    {
     "data": {
      "text/plain": [
       "433"
      ]
     },
     "execution_count": 31,
     "metadata": {},
     "output_type": "execute_result"
    }
   ],
   "source": [
    "df1['Review content'].count()"
   ]
  },
  {
   "cell_type": "code",
   "execution_count": 32,
   "id": "531cea21",
   "metadata": {},
   "outputs": [],
   "source": [
    "corups=[]\n",
    "for i in range(0,433):\n",
    "    review=re.sub('[^a-zA-Z]',' ',df1['Review content'][i])\n",
    "    review=review.lower()\n",
    "    review=review.split()\n",
    "    review=[ps.stem(word) for word in review if not word in set(all_stopwords)]\n",
    "    review=' '.join(review)\n",
    "    corups.append(review)"
   ]
  },
  {
   "cell_type": "code",
   "execution_count": 33,
   "id": "04ac7504",
   "metadata": {},
   "outputs": [],
   "source": [
    "#data  transformation"
   ]
  },
  {
   "cell_type": "code",
   "execution_count": 34,
   "id": "5b469cc4",
   "metadata": {},
   "outputs": [],
   "source": [
    "from textblob import TextBlob"
   ]
  },
  {
   "cell_type": "code",
   "execution_count": 35,
   "id": "b761bd00",
   "metadata": {},
   "outputs": [],
   "source": [
    "x=pd.Series(corups)"
   ]
  },
  {
   "cell_type": "code",
   "execution_count": 36,
   "id": "cd2a9b59",
   "metadata": {},
   "outputs": [
    {
     "data": {
      "text/html": [
       "<div>\n",
       "<style scoped>\n",
       "    .dataframe tbody tr th:only-of-type {\n",
       "        vertical-align: middle;\n",
       "    }\n",
       "\n",
       "    .dataframe tbody tr th {\n",
       "        vertical-align: top;\n",
       "    }\n",
       "\n",
       "    .dataframe thead th {\n",
       "        text-align: right;\n",
       "    }\n",
       "</style>\n",
       "<table border=\"1\" class=\"dataframe\">\n",
       "  <thead>\n",
       "    <tr style=\"text-align: right;\">\n",
       "      <th></th>\n",
       "      <th>Customer Name</th>\n",
       "      <th>Date</th>\n",
       "      <th>Ratings</th>\n",
       "      <th>Rewiew title</th>\n",
       "      <th>Review content</th>\n",
       "      <th>Sentiment_polarity</th>\n",
       "    </tr>\n",
       "  </thead>\n",
       "  <tbody>\n",
       "    <tr>\n",
       "      <th>0</th>\n",
       "      <td>Hemu123</td>\n",
       "      <td>Reviewed in India on 2 July 2020</td>\n",
       "      <td>5.0 out of 5 stars</td>\n",
       "      <td>Good quality,Good fitting and size. protect ag...</td>\n",
       "      <td>Every item supplied is worth the price, be it ...</td>\n",
       "      <td>0.470000</td>\n",
       "    </tr>\n",
       "    <tr>\n",
       "      <th>1</th>\n",
       "      <td>Anil kumar</td>\n",
       "      <td>Reviewed in India on 12 August 2020</td>\n",
       "      <td>3.0 out of 5 stars</td>\n",
       "      <td>This PPE Kit is not suitable for people who ha...</td>\n",
       "      <td>This PPE Kit is not suitable for people who ha...</td>\n",
       "      <td>-0.400000</td>\n",
       "    </tr>\n",
       "    <tr>\n",
       "      <th>2</th>\n",
       "      <td>Dr Gargi Mitra Sengupta</td>\n",
       "      <td>Reviewed in India on 17 September 2020</td>\n",
       "      <td>3.0 out of 5 stars</td>\n",
       "      <td>Dalucci PPE</td>\n",
       "      <td>Good PPE..tough but comfortable. The elastic i...</td>\n",
       "      <td>0.119753</td>\n",
       "    </tr>\n",
       "    <tr>\n",
       "      <th>3</th>\n",
       "      <td>Pratik maheshwari</td>\n",
       "      <td>Reviewed in India on 28 July 2020</td>\n",
       "      <td>1.0 out of 5 stars</td>\n",
       "      <td>Delivering defaulted product.</td>\n",
       "      <td>Got the defaulted product. The chain was not w...</td>\n",
       "      <td>-0.200000</td>\n",
       "    </tr>\n",
       "    <tr>\n",
       "      <th>4</th>\n",
       "      <td>Customer</td>\n",
       "      <td>Reviewed in India on 9 October 2020</td>\n",
       "      <td>1.0 out of 5 stars</td>\n",
       "      <td>Absolute waste of money</td>\n",
       "      <td>Ordered two.  Received two different kits. Onl...</td>\n",
       "      <td>0.000000</td>\n",
       "    </tr>\n",
       "  </tbody>\n",
       "</table>\n",
       "</div>"
      ],
      "text/plain": [
       "             Customer Name                                    Date  \\\n",
       "0                  Hemu123        Reviewed in India on 2 July 2020   \n",
       "1               Anil kumar     Reviewed in India on 12 August 2020   \n",
       "2  Dr Gargi Mitra Sengupta  Reviewed in India on 17 September 2020   \n",
       "3        Pratik maheshwari       Reviewed in India on 28 July 2020   \n",
       "4                 Customer     Reviewed in India on 9 October 2020   \n",
       "\n",
       "              Ratings                                       Rewiew title  \\\n",
       "0  5.0 out of 5 stars  Good quality,Good fitting and size. protect ag...   \n",
       "1  3.0 out of 5 stars  This PPE Kit is not suitable for people who ha...   \n",
       "2  3.0 out of 5 stars                                        Dalucci PPE   \n",
       "3  1.0 out of 5 stars                      Delivering defaulted product.   \n",
       "4  1.0 out of 5 stars                            Absolute waste of money   \n",
       "\n",
       "                                      Review content  Sentiment_polarity  \n",
       "0  Every item supplied is worth the price, be it ...            0.470000  \n",
       "1  This PPE Kit is not suitable for people who ha...           -0.400000  \n",
       "2  Good PPE..tough but comfortable. The elastic i...            0.119753  \n",
       "3  Got the defaulted product. The chain was not w...           -0.200000  \n",
       "4  Ordered two.  Received two different kits. Onl...            0.000000  "
      ]
     },
     "execution_count": 36,
     "metadata": {},
     "output_type": "execute_result"
    }
   ],
   "source": [
    "def find_pol(review):\n",
    "    return TextBlob(review).sentiment.polarity\n",
    "df1['Sentiment_polarity']=x.apply(find_pol)\n",
    "df1.head()"
   ]
  },
  {
   "cell_type": "code",
   "execution_count": 37,
   "id": "540aaf28",
   "metadata": {},
   "outputs": [
    {
     "name": "stderr",
     "output_type": "stream",
     "text": [
      "C:\\Users\\chera\\anaconda3\\lib\\site-packages\\seaborn\\distributions.py:2557: FutureWarning: `distplot` is a deprecated function and will be removed in a future version. Please adapt your code to use either `displot` (a figure-level function with similar flexibility) or `histplot` (an axes-level function for histograms).\n",
      "  warnings.warn(msg, FutureWarning)\n"
     ]
    },
    {
     "data": {
      "text/plain": [
       "<AxesSubplot:xlabel='Sentiment_polarity', ylabel='Density'>"
      ]
     },
     "execution_count": 37,
     "metadata": {},
     "output_type": "execute_result"
    },
    {
     "data": {
      "image/png": "[encoded data removed]",
      "text/plain": [
       "<Figure size 432x288 with 1 Axes>"
      ]
     },
     "metadata": {
      "needs_background": "light"
     },
     "output_type": "display_data"
    }
   ],
   "source": [
    "sns.distplot(df1['Sentiment_polarity'])"
   ]
  },
  {
   "cell_type": "code",
   "execution_count": 38,
   "id": "4129e7ed",
   "metadata": {},
   "outputs": [
    {
     "data": {
      "text/plain": [
       "count    433.000000\n",
       "mean       0.233286\n",
       "std        0.421832\n",
       "min       -1.000000\n",
       "25%        0.000000\n",
       "50%        0.266667\n",
       "75%        0.600000\n",
       "max        1.000000\n",
       "Name: Sentiment_polarity, dtype: float64"
      ]
     },
     "execution_count": 38,
     "metadata": {},
     "output_type": "execute_result"
    }
   ],
   "source": [
    "df1['Sentiment_polarity'].describe()"
   ]
  },
  {
   "cell_type": "code",
   "execution_count": 39,
   "id": "35e61754",
   "metadata": {},
   "outputs": [
    {
     "data": {
      "text/plain": [
       "<AxesSubplot:xlabel='Ratings', ylabel='Sentiment_polarity'>"
      ]
     },
     "execution_count": 39,
     "metadata": {},
     "output_type": "execute_result"
    },
    {
     "data": {
      "image/png": "[encoded data removed]",
      "text/plain": [
       "<Figure size 432x288 with 1 Axes>"
      ]
     },
     "metadata": {
      "needs_background": "light"
     },
     "output_type": "display_data"
    }
   ],
   "source": [
    "#infrence (12)\n",
    "plt.xticks(rotation='vertical')\n",
    "sns.barplot(x='Ratings',y='Sentiment_polarity',data=df1)"
   ]
  },
  {
   "cell_type": "code",
   "execution_count": 40,
   "id": "7eb4b023",
   "metadata": {},
   "outputs": [],
   "source": [
    "most_negative_sentmient = df1[df1.Sentiment_polarity==-1]"
   ]
  },
  {
   "cell_type": "code",
   "execution_count": 41,
   "id": "1706feec",
   "metadata": {},
   "outputs": [
    {
     "data": {
      "text/html": [
       "<div>\n",
       "<style scoped>\n",
       "    .dataframe tbody tr th:only-of-type {\n",
       "        vertical-align: middle;\n",
       "    }\n",
       "\n",
       "    .dataframe tbody tr th {\n",
       "        vertical-align: top;\n",
       "    }\n",
       "\n",
       "    .dataframe thead th {\n",
       "        text-align: right;\n",
       "    }\n",
       "</style>\n",
       "<table border=\"1\" class=\"dataframe\">\n",
       "  <thead>\n",
       "    <tr style=\"text-align: right;\">\n",
       "      <th></th>\n",
       "      <th>Customer Name</th>\n",
       "      <th>Date</th>\n",
       "      <th>Ratings</th>\n",
       "      <th>Rewiew title</th>\n",
       "      <th>Review content</th>\n",
       "      <th>Sentiment_polarity</th>\n",
       "    </tr>\n",
       "  </thead>\n",
       "  <tbody>\n",
       "    <tr>\n",
       "      <th>44</th>\n",
       "      <td>RAHUL TEXTILES</td>\n",
       "      <td>Reviewed in India on 19 June 2020</td>\n",
       "      <td>1.0 out of 5 stars</td>\n",
       "      <td>Worst product ,it’s a daylight robbery, encash...</td>\n",
       "      <td>Worst product  , does not meet the minimum qua...</td>\n",
       "      <td>-1.0</td>\n",
       "    </tr>\n",
       "    <tr>\n",
       "      <th>113</th>\n",
       "      <td>Buyer</td>\n",
       "      <td>Reviewed in India on 14 July 2020</td>\n",
       "      <td>1.0 out of 5 stars</td>\n",
       "      <td>Worst 👎</td>\n",
       "      <td>Worst product! Dirty product delivered! Torn p...</td>\n",
       "      <td>-1.0</td>\n",
       "    </tr>\n",
       "    <tr>\n",
       "      <th>136</th>\n",
       "      <td>Rahul Mishra</td>\n",
       "      <td>Reviewed in India on 17 July 2020</td>\n",
       "      <td>1.0 out of 5 stars</td>\n",
       "      <td>This product does not deserve any stars.</td>\n",
       "      <td>The chain went off when I tried to wear it.  T...</td>\n",
       "      <td>-1.0</td>\n",
       "    </tr>\n",
       "    <tr>\n",
       "      <th>183</th>\n",
       "      <td>Product is good but colour is different. I ord...</td>\n",
       "      <td>Reviewed in India on 14 August 2020</td>\n",
       "      <td>1.0 out of 5 stars</td>\n",
       "      <td>Worst product</td>\n",
       "      <td>Worst product.. making quality is zero</td>\n",
       "      <td>-1.0</td>\n",
       "    </tr>\n",
       "    <tr>\n",
       "      <th>225</th>\n",
       "      <td>suman saurabh ghosh</td>\n",
       "      <td>Reviewed in India on 8 August 2020</td>\n",
       "      <td>1.0 out of 5 stars</td>\n",
       "      <td>Worst ppe kit</td>\n",
       "      <td>Worst product..made of plastic. Suffocating..</td>\n",
       "      <td>-1.0</td>\n",
       "    </tr>\n",
       "    <tr>\n",
       "      <th>300</th>\n",
       "      <td>Kamal Deep</td>\n",
       "      <td>Reviewed in India on 8 September 2020</td>\n",
       "      <td>1.0 out of 5 stars</td>\n",
       "      <td>Good product</td>\n",
       "      <td>Worst product .Worst material .Only the gown w...</td>\n",
       "      <td>-1.0</td>\n",
       "    </tr>\n",
       "    <tr>\n",
       "      <th>346</th>\n",
       "      <td>Kaushik Sett</td>\n",
       "      <td>Reviewed in India on 13 May 2021</td>\n",
       "      <td>1.0 out of 5 stars</td>\n",
       "      <td>Very bad product</td>\n",
       "      <td>Worst quality product, looks like used one wit...</td>\n",
       "      <td>-1.0</td>\n",
       "    </tr>\n",
       "    <tr>\n",
       "      <th>353</th>\n",
       "      <td>Narasimhalu</td>\n",
       "      <td>Reviewed in India on 20 May 2021</td>\n",
       "      <td>1.0 out of 5 stars</td>\n",
       "      <td>Bad quality.</td>\n",
       "      <td>Worst quality don't buy and waste your money</td>\n",
       "      <td>-1.0</td>\n",
       "    </tr>\n",
       "  </tbody>\n",
       "</table>\n",
       "</div>"
      ],
      "text/plain": [
       "                                         Customer Name  \\\n",
       "44                                      RAHUL TEXTILES   \n",
       "113                                             Buyer    \n",
       "136                                       Rahul Mishra   \n",
       "183  Product is good but colour is different. I ord...   \n",
       "225                                suman saurabh ghosh   \n",
       "300                                         Kamal Deep   \n",
       "346                                       Kaushik Sett   \n",
       "353                                        Narasimhalu   \n",
       "\n",
       "                                      Date             Ratings  \\\n",
       "44       Reviewed in India on 19 June 2020  1.0 out of 5 stars   \n",
       "113      Reviewed in India on 14 July 2020  1.0 out of 5 stars   \n",
       "136      Reviewed in India on 17 July 2020  1.0 out of 5 stars   \n",
       "183    Reviewed in India on 14 August 2020  1.0 out of 5 stars   \n",
       "225     Reviewed in India on 8 August 2020  1.0 out of 5 stars   \n",
       "300  Reviewed in India on 8 September 2020  1.0 out of 5 stars   \n",
       "346       Reviewed in India on 13 May 2021  1.0 out of 5 stars   \n",
       "353       Reviewed in India on 20 May 2021  1.0 out of 5 stars   \n",
       "\n",
       "                                          Rewiew title  \\\n",
       "44   Worst product ,it’s a daylight robbery, encash...   \n",
       "113                                            Worst 👎   \n",
       "136           This product does not deserve any stars.   \n",
       "183                                      Worst product   \n",
       "225                                      Worst ppe kit   \n",
       "300                                       Good product   \n",
       "346                                   Very bad product   \n",
       "353                                       Bad quality.   \n",
       "\n",
       "                                        Review content  Sentiment_polarity  \n",
       "44   Worst product  , does not meet the minimum qua...                -1.0  \n",
       "113  Worst product! Dirty product delivered! Torn p...                -1.0  \n",
       "136  The chain went off when I tried to wear it.  T...                -1.0  \n",
       "183             Worst product.. making quality is zero                -1.0  \n",
       "225      Worst product..made of plastic. Suffocating..                -1.0  \n",
       "300  Worst product .Worst material .Only the gown w...                -1.0  \n",
       "346  Worst quality product, looks like used one wit...                -1.0  \n",
       "353       Worst quality don't buy and waste your money                -1.0  "
      ]
     },
     "execution_count": 41,
     "metadata": {},
     "output_type": "execute_result"
    }
   ],
   "source": [
    "most_negative_sentmient\n"
   ]
  },
  {
   "cell_type": "code",
   "execution_count": 42,
   "id": "de3a97c3",
   "metadata": {},
   "outputs": [],
   "source": [
    "most_postive_sentmient = df1[df1.Sentiment_polarity==1]"
   ]
  },
  {
   "cell_type": "code",
   "execution_count": 43,
   "id": "d8076be5",
   "metadata": {},
   "outputs": [
    {
     "data": {
      "text/html": [
       "<div>\n",
       "<style scoped>\n",
       "    .dataframe tbody tr th:only-of-type {\n",
       "        vertical-align: middle;\n",
       "    }\n",
       "\n",
       "    .dataframe tbody tr th {\n",
       "        vertical-align: top;\n",
       "    }\n",
       "\n",
       "    .dataframe thead th {\n",
       "        text-align: right;\n",
       "    }\n",
       "</style>\n",
       "<table border=\"1\" class=\"dataframe\">\n",
       "  <thead>\n",
       "    <tr style=\"text-align: right;\">\n",
       "      <th></th>\n",
       "      <th>Customer Name</th>\n",
       "      <th>Date</th>\n",
       "      <th>Ratings</th>\n",
       "      <th>Rewiew title</th>\n",
       "      <th>Review content</th>\n",
       "      <th>Sentiment_polarity</th>\n",
       "    </tr>\n",
       "  </thead>\n",
       "  <tbody>\n",
       "    <tr>\n",
       "      <th>59</th>\n",
       "      <td>NIKHIL</td>\n",
       "      <td>Reviewed in India on 14 July 2020</td>\n",
       "      <td>5.0 out of 5 stars</td>\n",
       "      <td>Amazing Quality</td>\n",
       "      <td>Best Product Amazing QualityEfficient rate I'm...</td>\n",
       "      <td>1.0</td>\n",
       "    </tr>\n",
       "    <tr>\n",
       "      <th>173</th>\n",
       "      <td>Shivangee Mishra</td>\n",
       "      <td>Reviewed in India on 30 August 2020</td>\n",
       "      <td>5.0 out of 5 stars</td>\n",
       "      <td>Value for money</td>\n",
       "      <td>Perfect.Value for Money.I used it during my fl...</td>\n",
       "      <td>1.0</td>\n",
       "    </tr>\n",
       "    <tr>\n",
       "      <th>231</th>\n",
       "      <td>Kamal singh</td>\n",
       "      <td>Reviewed in India on 14 June 2020</td>\n",
       "      <td>5.0 out of 5 stars</td>\n",
       "      <td>best product to fight against corona</td>\n",
       "      <td>Amazing kit and everything is so perfect and c...</td>\n",
       "      <td>1.0</td>\n",
       "    </tr>\n",
       "    <tr>\n",
       "      <th>273</th>\n",
       "      <td>Rahul Pareek</td>\n",
       "      <td>Reviewed in India on 21 January 2022</td>\n",
       "      <td>5.0 out of 5 stars</td>\n",
       "      <td>Best</td>\n",
       "      <td>Best ppe kit. Must buy product👍👍</td>\n",
       "      <td>1.0</td>\n",
       "    </tr>\n",
       "    <tr>\n",
       "      <th>334</th>\n",
       "      <td>Pavan Kumar Kashyap</td>\n",
       "      <td>Reviewed in India on 1 June 2021</td>\n",
       "      <td>5.0 out of 5 stars</td>\n",
       "      <td>It's a marvelous product ,easy to use and safe...</td>\n",
       "      <td>Comfortable to wear...best product</td>\n",
       "      <td>1.0</td>\n",
       "    </tr>\n",
       "    <tr>\n",
       "      <th>429</th>\n",
       "      <td>Sumeet Bhasin</td>\n",
       "      <td>Reviewed in India on 19 May 2021</td>\n",
       "      <td>4.0 out of 5 stars</td>\n",
       "      <td>Great product</td>\n",
       "      <td>Superb quality for suit however head shield is...</td>\n",
       "      <td>1.0</td>\n",
       "    </tr>\n",
       "    <tr>\n",
       "      <th>432</th>\n",
       "      <td>Manish Mamidwar</td>\n",
       "      <td>Reviewed in India on 6 November 2020</td>\n",
       "      <td>5.0 out of 5 stars</td>\n",
       "      <td>Perfect safety kit</td>\n",
       "      <td>\\nQuality of PPE kit perfect and complete set ...</td>\n",
       "      <td>1.0</td>\n",
       "    </tr>\n",
       "  </tbody>\n",
       "</table>\n",
       "</div>"
      ],
      "text/plain": [
       "           Customer Name                                  Date  \\\n",
       "59                NIKHIL     Reviewed in India on 14 July 2020   \n",
       "173     Shivangee Mishra   Reviewed in India on 30 August 2020   \n",
       "231          Kamal singh     Reviewed in India on 14 June 2020   \n",
       "273         Rahul Pareek  Reviewed in India on 21 January 2022   \n",
       "334  Pavan Kumar Kashyap      Reviewed in India on 1 June 2021   \n",
       "429        Sumeet Bhasin      Reviewed in India on 19 May 2021   \n",
       "432      Manish Mamidwar  Reviewed in India on 6 November 2020   \n",
       "\n",
       "                Ratings                                       Rewiew title  \\\n",
       "59   5.0 out of 5 stars                                    Amazing Quality   \n",
       "173  5.0 out of 5 stars                                    Value for money   \n",
       "231  5.0 out of 5 stars               best product to fight against corona   \n",
       "273  5.0 out of 5 stars                                               Best   \n",
       "334  5.0 out of 5 stars  It's a marvelous product ,easy to use and safe...   \n",
       "429  4.0 out of 5 stars                                      Great product   \n",
       "432  5.0 out of 5 stars                                 Perfect safety kit   \n",
       "\n",
       "                                        Review content  Sentiment_polarity  \n",
       "59   Best Product Amazing QualityEfficient rate I'm...                 1.0  \n",
       "173  Perfect.Value for Money.I used it during my fl...                 1.0  \n",
       "231  Amazing kit and everything is so perfect and c...                 1.0  \n",
       "273                   Best ppe kit. Must buy product👍👍                 1.0  \n",
       "334                 Comfortable to wear...best product                 1.0  \n",
       "429  Superb quality for suit however head shield is...                 1.0  \n",
       "432  \\nQuality of PPE kit perfect and complete set ...                 1.0  "
      ]
     },
     "execution_count": 43,
     "metadata": {},
     "output_type": "execute_result"
    }
   ],
   "source": [
    "most_postive_sentmient"
   ]
  }
 ],
 "metadata": {
  "kernelspec": {
   "display_name": "Python 3",
   "language": "python",
   "name": "python3"
  },
  "language_info": {
   "codemirror_mode": {
    "name": "ipython",
    "version": 3
   },
   "file_extension": ".py",
   "mimetype": "text/x-python",
   "name": "python",
   "nbconvert_exporter": "python",
   "pygments_lexer": "ipython3",
   "version": "3.8.8"
  }
 },
 "nbformat": 4,
 "nbformat_minor": 5
}
