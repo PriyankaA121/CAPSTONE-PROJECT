{
 "cells": [
  {
   "cell_type": "code",
   "execution_count": 1,
   "id": "be835fea",
   "metadata": {},
   "outputs": [],
   "source": [
    "import numpy as np\n",
    "import pandas as pd\n",
    "import matplotlib.pyplot as plt\n",
    "import seaborn as sns"
   ]
  },
  {
   "cell_type": "code",
   "execution_count": 2,
   "id": "8b4e5a1d",
   "metadata": {},
   "outputs": [],
   "source": [
    "df=pd.read_csv('Daily_cases_withDate.csv')"
   ]
  },
  {
   "cell_type": "code",
   "execution_count": 3,
   "id": "e541e94e",
   "metadata": {},
   "outputs": [],
   "source": [
    "df.drop('Date',axis=1,inplace=True)\n",
    "#here we are dropping Date column as it conveys the same data"
   ]
  },
  {
   "cell_type": "code",
   "execution_count": 4,
   "id": "23bbbf70",
   "metadata": {},
   "outputs": [
    {
     "name": "stdout",
     "output_type": "stream",
     "text": [
      "<class 'pandas.core.frame.DataFrame'>\n",
      "RangeIndex: 641 entries, 0 to 640\n",
      "Data columns (total 7 columns):\n",
      " #   Column           Non-Null Count  Dtype \n",
      "---  ------           --------------  ----- \n",
      " 0   Date_YMD         641 non-null    object\n",
      " 1   Daily Confirmed  641 non-null    int64 \n",
      " 2   Total Confirmed  641 non-null    int64 \n",
      " 3   Daily Recovered  641 non-null    int64 \n",
      " 4   Total Recovered  641 non-null    int64 \n",
      " 5   Daily Deceased   641 non-null    int64 \n",
      " 6   Total Deceased   641 non-null    int64 \n",
      "dtypes: int64(6), object(1)\n",
      "memory usage: 35.2+ KB\n"
     ]
    }
   ],
   "source": [
    "df.info()"
   ]
  },
  {
   "cell_type": "code",
   "execution_count": 5,
   "id": "c119434b",
   "metadata": {},
   "outputs": [
    {
     "data": {
      "text/plain": [
       "Date_YMD           0\n",
       "Daily Confirmed    0\n",
       "Total Confirmed    0\n",
       "Daily Recovered    0\n",
       "Total Recovered    0\n",
       "Daily Deceased     0\n",
       "Total Deceased     0\n",
       "dtype: int64"
      ]
     },
     "execution_count": 5,
     "metadata": {},
     "output_type": "execute_result"
    }
   ],
   "source": [
    "#checking for null values\n",
    "df.isnull().sum()\n",
    "#there are no null values in the dataset"
   ]
  },
  {
   "cell_type": "code",
   "execution_count": 6,
   "id": "5b56860e",
   "metadata": {},
   "outputs": [
    {
     "data": {
      "text/html": [
       "<div>\n",
       "<style scoped>\n",
       "    .dataframe tbody tr th:only-of-type {\n",
       "        vertical-align: middle;\n",
       "    }\n",
       "\n",
       "    .dataframe tbody tr th {\n",
       "        vertical-align: top;\n",
       "    }\n",
       "\n",
       "    .dataframe thead th {\n",
       "        text-align: right;\n",
       "    }\n",
       "</style>\n",
       "<table border=\"1\" class=\"dataframe\">\n",
       "  <thead>\n",
       "    <tr style=\"text-align: right;\">\n",
       "      <th></th>\n",
       "      <th>Date_YMD</th>\n",
       "      <th>Daily Confirmed</th>\n",
       "      <th>Total Confirmed</th>\n",
       "      <th>Daily Recovered</th>\n",
       "      <th>Total Recovered</th>\n",
       "      <th>Daily Deceased</th>\n",
       "      <th>Total Deceased</th>\n",
       "    </tr>\n",
       "  </thead>\n",
       "  <tbody>\n",
       "  </tbody>\n",
       "</table>\n",
       "</div>"
      ],
      "text/plain": [
       "Empty DataFrame\n",
       "Columns: [Date_YMD, Daily Confirmed, Total Confirmed, Daily Recovered, Total Recovered, Daily Deceased, Total Deceased]\n",
       "Index: []"
      ]
     },
     "execution_count": 6,
     "metadata": {},
     "output_type": "execute_result"
    }
   ],
   "source": [
    "#checking for duplicate entires\n",
    "df[df.duplicated()]\n",
    "#there are no duplicate entries in the data set"
   ]
  },
  {
   "cell_type": "code",
   "execution_count": 7,
   "id": "887f74f2",
   "metadata": {},
   "outputs": [],
   "source": [
    "num_col=df.select_dtypes(np.number)"
   ]
  },
  {
   "cell_type": "code",
   "execution_count": 8,
   "id": "30f2f5ec",
   "metadata": {},
   "outputs": [],
   "source": [
    "\n",
    "#removing negative values \n",
    "for col in num_col:\n",
    "    q1 = df[col].quantile(0.25)\n",
    "    q3 = df[col].quantile(0.75)\n",
    "    iqr = q3-q1\n",
    "    ll = q1 - (1.5*iqr)\n",
    "    ul = q3 + (1.5*iqr)\n",
    "    for ind in df[col].index:\n",
    "        if  df.loc[ind,col]<ll:\n",
    "            df.loc[ind,col]=ll\n",
    "        else:\n",
    "            pass"
   ]
  },
  {
   "cell_type": "code",
   "execution_count": 9,
   "id": "6f83fd41",
   "metadata": {},
   "outputs": [
    {
     "data": {
      "text/html": [
       "<div>\n",
       "<style scoped>\n",
       "    .dataframe tbody tr th:only-of-type {\n",
       "        vertical-align: middle;\n",
       "    }\n",
       "\n",
       "    .dataframe tbody tr th {\n",
       "        vertical-align: top;\n",
       "    }\n",
       "\n",
       "    .dataframe thead th {\n",
       "        text-align: right;\n",
       "    }\n",
       "</style>\n",
       "<table border=\"1\" class=\"dataframe\">\n",
       "  <thead>\n",
       "    <tr style=\"text-align: right;\">\n",
       "      <th></th>\n",
       "      <th>Daily Confirmed</th>\n",
       "      <th>Total Confirmed</th>\n",
       "      <th>Daily Recovered</th>\n",
       "      <th>Total Recovered</th>\n",
       "      <th>Daily Deceased</th>\n",
       "      <th>Total Deceased</th>\n",
       "    </tr>\n",
       "  </thead>\n",
       "  <tbody>\n",
       "    <tr>\n",
       "      <th>Daily Confirmed</th>\n",
       "      <td>1.000000</td>\n",
       "      <td>0.245865</td>\n",
       "      <td>0.919745</td>\n",
       "      <td>0.189828</td>\n",
       "      <td>0.842196</td>\n",
       "      <td>0.180485</td>\n",
       "    </tr>\n",
       "    <tr>\n",
       "      <th>Total Confirmed</th>\n",
       "      <td>0.245865</td>\n",
       "      <td>1.000000</td>\n",
       "      <td>0.333657</td>\n",
       "      <td>0.998257</td>\n",
       "      <td>0.337445</td>\n",
       "      <td>0.995855</td>\n",
       "    </tr>\n",
       "    <tr>\n",
       "      <th>Daily Recovered</th>\n",
       "      <td>0.919745</td>\n",
       "      <td>0.333657</td>\n",
       "      <td>1.000000</td>\n",
       "      <td>0.278638</td>\n",
       "      <td>0.932707</td>\n",
       "      <td>0.264011</td>\n",
       "    </tr>\n",
       "    <tr>\n",
       "      <th>Total Recovered</th>\n",
       "      <td>0.189828</td>\n",
       "      <td>0.998257</td>\n",
       "      <td>0.278638</td>\n",
       "      <td>1.000000</td>\n",
       "      <td>0.287028</td>\n",
       "      <td>0.998138</td>\n",
       "    </tr>\n",
       "    <tr>\n",
       "      <th>Daily Deceased</th>\n",
       "      <td>0.842196</td>\n",
       "      <td>0.337445</td>\n",
       "      <td>0.932707</td>\n",
       "      <td>0.287028</td>\n",
       "      <td>1.000000</td>\n",
       "      <td>0.271664</td>\n",
       "    </tr>\n",
       "    <tr>\n",
       "      <th>Total Deceased</th>\n",
       "      <td>0.180485</td>\n",
       "      <td>0.995855</td>\n",
       "      <td>0.264011</td>\n",
       "      <td>0.998138</td>\n",
       "      <td>0.271664</td>\n",
       "      <td>1.000000</td>\n",
       "    </tr>\n",
       "  </tbody>\n",
       "</table>\n",
       "</div>"
      ],
      "text/plain": [
       "                 Daily Confirmed  Total Confirmed  Daily Recovered  \\\n",
       "Daily Confirmed         1.000000         0.245865         0.919745   \n",
       "Total Confirmed         0.245865         1.000000         0.333657   \n",
       "Daily Recovered         0.919745         0.333657         1.000000   \n",
       "Total Recovered         0.189828         0.998257         0.278638   \n",
       "Daily Deceased          0.842196         0.337445         0.932707   \n",
       "Total Deceased          0.180485         0.995855         0.264011   \n",
       "\n",
       "                 Total Recovered  Daily Deceased  Total Deceased  \n",
       "Daily Confirmed         0.189828        0.842196        0.180485  \n",
       "Total Confirmed         0.998257        0.337445        0.995855  \n",
       "Daily Recovered         0.278638        0.932707        0.264011  \n",
       "Total Recovered         1.000000        0.287028        0.998138  \n",
       "Daily Deceased          0.287028        1.000000        0.271664  \n",
       "Total Deceased          0.998138        0.271664        1.000000  "
      ]
     },
     "execution_count": 9,
     "metadata": {},
     "output_type": "execute_result"
    }
   ],
   "source": [
    "#checking for  relationship between variables\n",
    "df.corr()"
   ]
  },
  {
   "cell_type": "code",
   "execution_count": 10,
   "id": "58d5cab3",
   "metadata": {},
   "outputs": [
    {
     "data": {
      "text/plain": [
       "0    1\n",
       "1    0\n",
       "2    0\n",
       "3    1\n",
       "4    1\n",
       "Name: Daily Confirmed, dtype: int64"
      ]
     },
     "execution_count": 10,
     "metadata": {},
     "output_type": "execute_result"
    }
   ],
   "source": [
    "# let us consider Daily_confirmed as our target variable and other variables as our independent varaible\n",
    "df['Daily Confirmed'].head()"
   ]
  },
  {
   "cell_type": "code",
   "execution_count": 11,
   "id": "d7297c7a",
   "metadata": {},
   "outputs": [
    {
     "data": {
      "image/png": "[encoded data removed]",
      "text/plain": [
       "<Figure size 1080x360 with 1 Axes>"
      ]
     },
     "metadata": {
      "needs_background": "light"
     },
     "output_type": "display_data"
    }
   ],
   "source": [
    "#visualizing the data\n",
    "plt.figure(figsize=[15,5])\n",
    "df.groupby('Date_YMD')['Daily Confirmed'].sum().plot(kind='line')\n",
    "plt.tight_layout()"
   ]
  },
  {
   "cell_type": "code",
   "execution_count": 12,
   "id": "2958b5c2",
   "metadata": {},
   "outputs": [
    {
     "data": {
      "image/png": "[encoded data removed]",
      "text/plain": [
       "<Figure size 1080x360 with 1 Axes>"
      ]
     },
     "metadata": {
      "needs_background": "light"
     },
     "output_type": "display_data"
    }
   ],
   "source": [
    "#visualizing the data\n",
    "plt.figure(figsize=[15,5])\n",
    "df.groupby('Date_YMD')['Total Confirmed'].sum().plot(kind='line')\n",
    "plt.tight_layout()"
   ]
  },
  {
   "cell_type": "code",
   "execution_count": 13,
   "id": "d3b16c0a",
   "metadata": {},
   "outputs": [],
   "source": [
    "#here total confirmed and daily confirmed convay the same data so we are just considering Daily Confirmed,Daily Recovered,Daily Deceased column\n"
   ]
  },
  {
   "cell_type": "code",
   "execution_count": 14,
   "id": "1f29e6ea",
   "metadata": {},
   "outputs": [
    {
     "data": {
      "image/png": "[encoded data removed]",
      "text/plain": [
       "<Figure size 1080x360 with 1 Axes>"
      ]
     },
     "metadata": {
      "needs_background": "light"
     },
     "output_type": "display_data"
    }
   ],
   "source": [
    "#visualising the data\n",
    "plt.figure(figsize=[15,5])\n",
    "df.groupby('Date_YMD')['Daily Recovered'].sum().plot(kind='line')\n",
    "plt.tight_layout()"
   ]
  },
  {
   "cell_type": "code",
   "execution_count": 15,
   "id": "0cbc6240",
   "metadata": {},
   "outputs": [
    {
     "data": {
      "image/png": "[encoded data removed]",
      "text/plain": [
       "<Figure size 1080x360 with 1 Axes>"
      ]
     },
     "metadata": {
      "needs_background": "light"
     },
     "output_type": "display_data"
    }
   ],
   "source": [
    "plt.figure(figsize=[15,5])\n",
    "df.groupby('Date_YMD')['Daily Deceased'].sum().plot(kind='line')\n",
    "plt.tight_layout()"
   ]
  },
  {
   "cell_type": "code",
   "execution_count": 16,
   "id": "70db493c",
   "metadata": {},
   "outputs": [
    {
     "name": "stderr",
     "output_type": "stream",
     "text": [
      "C:\\Users\\chera\\anaconda3\\lib\\site-packages\\seaborn\\_decorators.py:36: FutureWarning: Pass the following variables as keyword args: x, y. From version 0.12, the only valid positional argument will be `data`, and passing other arguments without an explicit keyword will result in an error or misinterpretation.\n",
      "  warnings.warn(\n"
     ]
    },
    {
     "data": {
      "text/plain": [
       "<AxesSubplot:xlabel='Daily Confirmed', ylabel='Daily Recovered'>"
      ]
     },
     "execution_count": 16,
     "metadata": {},
     "output_type": "execute_result"
    },
    {
     "data": {
      "image/png": "[encoded data removed]",
      "text/plain": [
       "<Figure size 432x288 with 1 Axes>"
      ]
     },
     "metadata": {
      "needs_background": "light"
     },
     "output_type": "display_data"
    }
   ],
   "source": [
    "sns.scatterplot(df['Daily Confirmed'],df['Daily Recovered'])\n",
    "#we can cay that as the number of cases increased rapidly the number of recovered cases also have been increasing following a positive realationship"
   ]
  },
  {
   "cell_type": "code",
   "execution_count": 17,
   "id": "3b982bf5",
   "metadata": {},
   "outputs": [
    {
     "name": "stderr",
     "output_type": "stream",
     "text": [
      "C:\\Users\\chera\\anaconda3\\lib\\site-packages\\seaborn\\_decorators.py:36: FutureWarning: Pass the following variables as keyword args: x, y. From version 0.12, the only valid positional argument will be `data`, and passing other arguments without an explicit keyword will result in an error or misinterpretation.\n",
      "  warnings.warn(\n"
     ]
    },
    {
     "data": {
      "text/plain": [
       "<AxesSubplot:xlabel='Daily Confirmed', ylabel='Daily Deceased'>"
      ]
     },
     "execution_count": 17,
     "metadata": {},
     "output_type": "execute_result"
    },
    {
     "data": {
      "image/png": "[encoded data removed]",
      "text/plain": [
       "<Figure size 432x288 with 1 Axes>"
      ]
     },
     "metadata": {
      "needs_background": "light"
     },
     "output_type": "display_data"
    }
   ],
   "source": [
    "sns.scatterplot(df['Daily Confirmed'],df['Daily Deceased'])\n",
    "#we can also see as the number of cases increasing the number of people are also getting Deseased"
   ]
  },
  {
   "cell_type": "markdown",
   "id": "5e9464b5",
   "metadata": {},
   "source": [
    " Statistical Analayis on the Target variable .\n",
    "\n",
    "Hypothesis: H0:Daily_confirmed_cases <=60000\n",
    "\n",
    "HA:Daily_confirmed_cases >60000"
   ]
  },
  {
   "cell_type": "code",
   "execution_count": 18,
   "id": "e7e73472",
   "metadata": {},
   "outputs": [],
   "source": [
    "#*****************************************************\n",
    "#inference(3)"
   ]
  },
  {
   "cell_type": "code",
   "execution_count": 19,
   "id": "5b93f646",
   "metadata": {},
   "outputs": [],
   "source": [
    "#lets take alpha values as 0.01 as for owr buisness need \n",
    "alpha=0.01"
   ]
  },
  {
   "cell_type": "code",
   "execution_count": 20,
   "id": "5b5a3f76",
   "metadata": {},
   "outputs": [],
   "source": [
    "import scipy.stats as st"
   ]
  },
  {
   "cell_type": "code",
   "execution_count": 21,
   "id": "16d33ec6",
   "metadata": {},
   "outputs": [],
   "source": [
    "xbar=df['Daily Confirmed'].mean()\n",
    "s=df['Daily Confirmed'].std(ddof=1)\n",
    "mue=60000\n",
    "n=len(df['Daily Confirmed'])\n",
    "se=s/np.sqrt(n)\n",
    "t_stat=(xbar-mue)/se#t test \n",
    "t_critic=st.t.isf(alpha,n-1)"
   ]
  },
  {
   "cell_type": "code",
   "execution_count": 22,
   "id": "dc9d3b47",
   "metadata": {},
   "outputs": [],
   "source": [
    "#p value for the t test\n",
    "p_value=st.t.cdf(t_stat,n-1)"
   ]
  },
  {
   "cell_type": "code",
   "execution_count": 23,
   "id": "4024d7ac",
   "metadata": {},
   "outputs": [
    {
     "data": {
      "text/plain": [
       "(53448.519090860835, 53526.20477809392)"
      ]
     },
     "execution_count": 23,
     "metadata": {},
     "output_type": "execute_result"
    }
   ],
   "source": [
    "#critical value approch\n",
    "st.t.interval(alpha,n-1,xbar,se)\n",
    "#with 99% confidence interval say that the average total cases lies between 53448 and 53526"
   ]
  },
  {
   "cell_type": "code",
   "execution_count": 24,
   "id": "c81fd385",
   "metadata": {},
   "outputs": [
    {
     "name": "stdout",
     "output_type": "stream",
     "text": [
      "0.01796019720309002 -2.1022623313521605 2.3321885424342335\n"
     ]
    }
   ],
   "source": [
    "print(p_value,t_stat,t_critic)"
   ]
  },
  {
   "cell_type": "markdown",
   "id": "e142ca1f",
   "metadata": {},
   "source": [
    "Since P value is less than alpha we fail reject H0 so this says on average the daily confirmed cases are less than or equal to 55000 every day but as we increase the Average cases to a 60000 the p value is getting rejected by this shows the on average the no of cases day wise will range between 55000 and 60000"
   ]
  },
  {
   "cell_type": "markdown",
   "id": "48d6862a",
   "metadata": {},
   "source": [
    "Building a model with Total Daily Cases as  (target Variable) and Other variables as independent."
   ]
  },
  {
   "cell_type": "markdown",
   "id": "31352b9e",
   "metadata": {},
   "source": [
    "Since our Target variable is Continuous we will be doing a Regression Analysis"
   ]
  },
  {
   "cell_type": "code",
   "execution_count": 25,
   "id": "a375f307",
   "metadata": {},
   "outputs": [],
   "source": [
    "import statsmodels.api as sm\n",
    "from sklearn.model_selection import train_test_split\n",
    "from statsmodels.stats.outliers_influence import variance_inflation_factor\n",
    "from statsmodels.graphics.gofplots import qqplot\n",
    "from scipy.stats import shapiro"
   ]
  },
  {
   "cell_type": "code",
   "execution_count": 26,
   "id": "954ef1f7",
   "metadata": {},
   "outputs": [],
   "source": [
    "# 'metrics' from sklearn is used for evaluating the model performance\n",
    "from sklearn.metrics import mean_absolute_error\n",
    "from sklearn.metrics import mean_squared_error\n",
    "from statsmodels.stats.stattools import durbin_watson"
   ]
  },
  {
   "cell_type": "code",
   "execution_count": 27,
   "id": "b4695a98",
   "metadata": {},
   "outputs": [],
   "source": [
    "df.drop(['Date_YMD','Total Confirmed','Total Recovered','Total Deceased'],axis=1,inplace=True)\n",
    "#since we are doing analysis on Daily Cases we are removing Total cases related columns and date column"
   ]
  },
  {
   "cell_type": "code",
   "execution_count": 28,
   "id": "ad08a50b",
   "metadata": {},
   "outputs": [],
   "source": [
    "X=df.drop('Daily Confirmed',axis=1)\n",
    "sm_X=sm.add_constant(X)\n",
    "y=df['Daily Confirmed']"
   ]
  },
  {
   "cell_type": "code",
   "execution_count": 29,
   "id": "7aad3584",
   "metadata": {},
   "outputs": [],
   "source": [
    "X_train,X_test,y_train,y_test=train_test_split(sm_X,y,test_size=0.3,random_state=101)\n",
    "#so we are splitting the data into train and test with test size 0.3"
   ]
  },
  {
   "cell_type": "code",
   "execution_count": 30,
   "id": "3216fdf3",
   "metadata": {},
   "outputs": [],
   "source": [
    "#building a basic model\n",
    "model=sm.OLS(y_train,X_train).fit()"
   ]
  },
  {
   "cell_type": "code",
   "execution_count": 31,
   "id": "d335e9da",
   "metadata": {},
   "outputs": [
    {
     "data": {
      "text/html": [
       "<table class=\"simpletable\">\n",
       "<caption>OLS Regression Results</caption>\n",
       "<tr>\n",
       "  <th>Dep. Variable:</th>     <td>Daily Confirmed</td> <th>  R-squared:         </th> <td>   0.845</td> \n",
       "</tr>\n",
       "<tr>\n",
       "  <th>Model:</th>                   <td>OLS</td>       <th>  Adj. R-squared:    </th> <td>   0.844</td> \n",
       "</tr>\n",
       "<tr>\n",
       "  <th>Method:</th>             <td>Least Squares</td>  <th>  F-statistic:       </th> <td>   1210.</td> \n",
       "</tr>\n",
       "<tr>\n",
       "  <th>Date:</th>             <td>Sun, 12 Jun 2022</td> <th>  Prob (F-statistic):</th> <td>1.17e-180</td>\n",
       "</tr>\n",
       "<tr>\n",
       "  <th>Time:</th>                 <td>19:25:19</td>     <th>  Log-Likelihood:    </th> <td> -5301.3</td> \n",
       "</tr>\n",
       "<tr>\n",
       "  <th>No. Observations:</th>      <td>   448</td>      <th>  AIC:               </th> <td>1.061e+04</td>\n",
       "</tr>\n",
       "<tr>\n",
       "  <th>Df Residuals:</th>          <td>   445</td>      <th>  BIC:               </th> <td>1.062e+04</td>\n",
       "</tr>\n",
       "<tr>\n",
       "  <th>Df Model:</th>              <td>     2</td>      <th>                     </th>     <td> </td>    \n",
       "</tr>\n",
       "<tr>\n",
       "  <th>Covariance Type:</th>      <td>nonrobust</td>    <th>                     </th>     <td> </td>    \n",
       "</tr>\n",
       "</table>\n",
       "<table class=\"simpletable\">\n",
       "<tr>\n",
       "         <td></td>            <th>coef</th>     <th>std err</th>      <th>t</th>      <th>P>|t|</th>  <th>[0.025</th>    <th>0.975]</th>  \n",
       "</tr>\n",
       "<tr>\n",
       "  <th>const</th>           <td> 4352.1304</td> <td> 1972.630</td> <td>    2.206</td> <td> 0.028</td> <td>  475.302</td> <td> 8228.959</td>\n",
       "</tr>\n",
       "<tr>\n",
       "  <th>Daily Recovered</th> <td>    1.0616</td> <td>    0.059</td> <td>   17.885</td> <td> 0.000</td> <td>    0.945</td> <td>    1.178</td>\n",
       "</tr>\n",
       "<tr>\n",
       "  <th>Daily Deceased</th>  <td>   -8.9254</td> <td>    4.719</td> <td>   -1.891</td> <td> 0.059</td> <td>  -18.201</td> <td>    0.350</td>\n",
       "</tr>\n",
       "</table>\n",
       "<table class=\"simpletable\">\n",
       "<tr>\n",
       "  <th>Omnibus:</th>       <td>138.010</td> <th>  Durbin-Watson:     </th> <td>   1.769</td> \n",
       "</tr>\n",
       "<tr>\n",
       "  <th>Prob(Omnibus):</th> <td> 0.000</td>  <th>  Jarque-Bera (JB):  </th> <td>1185.524</td> \n",
       "</tr>\n",
       "<tr>\n",
       "  <th>Skew:</th>          <td> 1.065</td>  <th>  Prob(JB):          </th> <td>3.69e-258</td>\n",
       "</tr>\n",
       "<tr>\n",
       "  <th>Kurtosis:</th>      <td>10.679</td>  <th>  Cond. No.          </th> <td>1.24e+05</td> \n",
       "</tr>\n",
       "</table><br/><br/>Notes:<br/>[1] Standard Errors assume that the covariance matrix of the errors is correctly specified.<br/>[2] The condition number is large, 1.24e+05. This might indicate that there are<br/>strong multicollinearity or other numerical problems."
      ],
      "text/plain": [
       "<class 'statsmodels.iolib.summary.Summary'>\n",
       "\"\"\"\n",
       "                            OLS Regression Results                            \n",
       "==============================================================================\n",
       "Dep. Variable:        Daily Confirmed   R-squared:                       0.845\n",
       "Model:                            OLS   Adj. R-squared:                  0.844\n",
       "Method:                 Least Squares   F-statistic:                     1210.\n",
       "Date:                Sun, 12 Jun 2022   Prob (F-statistic):          1.17e-180\n",
       "Time:                        19:25:19   Log-Likelihood:                -5301.3\n",
       "No. Observations:                 448   AIC:                         1.061e+04\n",
       "Df Residuals:                     445   BIC:                         1.062e+04\n",
       "Df Model:                           2                                         \n",
       "Covariance Type:            nonrobust                                         \n",
       "===================================================================================\n",
       "                      coef    std err          t      P>|t|      [0.025      0.975]\n",
       "-----------------------------------------------------------------------------------\n",
       "const            4352.1304   1972.630      2.206      0.028     475.302    8228.959\n",
       "Daily Recovered     1.0616      0.059     17.885      0.000       0.945       1.178\n",
       "Daily Deceased     -8.9254      4.719     -1.891      0.059     -18.201       0.350\n",
       "==============================================================================\n",
       "Omnibus:                      138.010   Durbin-Watson:                   1.769\n",
       "Prob(Omnibus):                  0.000   Jarque-Bera (JB):             1185.524\n",
       "Skew:                           1.065   Prob(JB):                    3.69e-258\n",
       "Kurtosis:                      10.679   Cond. No.                     1.24e+05\n",
       "==============================================================================\n",
       "\n",
       "Notes:\n",
       "[1] Standard Errors assume that the covariance matrix of the errors is correctly specified.\n",
       "[2] The condition number is large, 1.24e+05. This might indicate that there are\n",
       "strong multicollinearity or other numerical problems.\n",
       "\"\"\""
      ]
     },
     "execution_count": 31,
     "metadata": {},
     "output_type": "execute_result"
    }
   ],
   "source": [
    "model.summary()"
   ]
  },
  {
   "cell_type": "code",
   "execution_count": 32,
   "id": "6f97a56c",
   "metadata": {},
   "outputs": [
    {
     "name": "stdout",
     "output_type": "stream",
     "text": [
      "RMSE for train data: 33336.184388461654\n"
     ]
    }
   ],
   "source": [
    "#predicting the train data to check the performance\n",
    "y_train_predicted=model.predict(X_train)\n",
    "#calculating the MAE for the train data\n",
    "mse=mean_squared_error(y_train,y_train_predicted)\n",
    "#calculating the RMSE\n",
    "print('RMSE for train data:',np.sqrt(mse))"
   ]
  },
  {
   "cell_type": "code",
   "execution_count": 33,
   "id": "7ec99ebb",
   "metadata": {},
   "outputs": [
    {
     "name": "stdout",
     "output_type": "stream",
     "text": [
      "RMSE for test data: 22975.692421546162\n"
     ]
    }
   ],
   "source": [
    "#predicting the test data to check the performance\n",
    "y_test_predicted=model.predict(X_test)\n",
    "#calculating the MAE for the test data\n",
    "mse=mean_squared_error(y_test,y_test_predicted)\n",
    "#calculating the RMSE\n",
    "print('RMSE for test data:',np.sqrt(mse))"
   ]
  },
  {
   "cell_type": "markdown",
   "id": "ccd38ec2",
   "metadata": {},
   "source": [
    "since the RMSE for train and test  data  is not  that significant we can say the model is not performing well in the test stage,But the model is explaining 84%  of the data"
   ]
  },
  {
   "cell_type": "markdown",
   "id": "195f7c98",
   "metadata": {},
   "source": [
    "### Fine Tune "
   ]
  },
  {
   "cell_type": "markdown",
   "id": "c148caf4",
   "metadata": {},
   "source": [
    "We are going to fine tune to model by transforming the features and using different models."
   ]
  },
  {
   "cell_type": "code",
   "execution_count": 35,
   "id": "1b8fa52a",
   "metadata": {},
   "outputs": [
    {
     "data": {
      "text/plain": [
       "Daily Recovered    2.799960\n",
       "Daily Deceased     2.481664\n",
       "dtype: float64"
      ]
     },
     "execution_count": 35,
     "metadata": {},
     "output_type": "execute_result"
    }
   ],
   "source": [
    "#checking for skweness in the features\n",
    "X.skew()"
   ]
  },
  {
   "cell_type": "code",
   "execution_count": 36,
   "id": "645bcbf5",
   "metadata": {},
   "outputs": [],
   "source": [
    "#transforming the independent and dependent variable\n",
    "X=np.sqrt(X)\n",
    "y=np.sqrt(y)"
   ]
  },
  {
   "cell_type": "code",
   "execution_count": 37,
   "id": "f0085e19",
   "metadata": {},
   "outputs": [],
   "source": [
    "#splitting the data set and building a model with the tunned features"
   ]
  },
  {
   "cell_type": "code",
   "execution_count": 38,
   "id": "2c6126cd",
   "metadata": {},
   "outputs": [],
   "source": [
    "X_train,X_test,y_train,y_test=train_test_split(X,y,test_size=0.3,random_state=101)\n",
    "#so we are splitting the data into train and test with test size 0.3"
   ]
  },
  {
   "cell_type": "code",
   "execution_count": 39,
   "id": "8c199e03",
   "metadata": {},
   "outputs": [],
   "source": [
    "from sklearn.linear_model import LinearRegression\n",
    "from sklearn.model_selection import cross_val_score\n",
    "from sklearn.ensemble  import RandomForestRegressor\n",
    "from sklearn.model_selection import GridSearchCV\n",
    "from sklearn.linear_model import ElasticNet\n",
    "from xgboost import XGBRegressor"
   ]
  },
  {
   "cell_type": "code",
   "execution_count": 40,
   "id": "dfd7a92c",
   "metadata": {},
   "outputs": [
    {
     "data": {
      "text/plain": [
       "LinearRegression()"
      ]
     },
     "execution_count": 40,
     "metadata": {},
     "output_type": "execute_result"
    }
   ],
   "source": [
    "#Linear regression model(model:2)\n",
    "lr=LinearRegression()\n",
    "lr.fit(X_train,y_train)"
   ]
  },
  {
   "cell_type": "code",
   "execution_count": 41,
   "id": "b50d3c90",
   "metadata": {},
   "outputs": [
    {
     "name": "stdout",
     "output_type": "stream",
     "text": [
      "RMSE of train data 41.02756349373323\n"
     ]
    }
   ],
   "source": [
    "y_train_predict=lr.predict(X_train)\n",
    "print('RMSE of train data',np.sqrt(mean_squared_error(y_train,y_train_predict)))"
   ]
  },
  {
   "cell_type": "code",
   "execution_count": 42,
   "id": "9a2c458f",
   "metadata": {},
   "outputs": [
    {
     "name": "stdout",
     "output_type": "stream",
     "text": [
      "RMSE of test data 33.53130785792868\n"
     ]
    }
   ],
   "source": [
    "y_test_predict=lr.predict(X_test)\n",
    "print('RMSE of test data',np.sqrt(mean_squared_error(y_test,y_test_predict)))"
   ]
  },
  {
   "cell_type": "code",
   "execution_count": 43,
   "id": "d0fcafbd",
   "metadata": {},
   "outputs": [
    {
     "name": "stdout",
     "output_type": "stream",
     "text": [
      "[0.89876158 0.87692059 0.90461975 0.90404213 0.88384697 0.94215152\n",
      " 0.91825965 0.95204469 0.91416737 0.90788606]\n"
     ]
    }
   ],
   "source": [
    "#bias variance trade off\n",
    "\n",
    "scores = cross_val_score(lr,X_train,y_train,cv=10,scoring='r2')\n",
    "print(scores)"
   ]
  },
  {
   "cell_type": "code",
   "execution_count": 44,
   "id": "8a48d12c",
   "metadata": {},
   "outputs": [
    {
     "name": "stdout",
     "output_type": "stream",
     "text": [
      "Bias: 0.08972997106175973\n",
      "Variance: 0.0242179839152051\n"
     ]
    }
   ],
   "source": [
    "print('Bias:',1-np.mean(scores))\n",
    "print('Variance:',np.std(scores)/np.mean(scores))"
   ]
  },
  {
   "cell_type": "code",
   "execution_count": 45,
   "id": "f6b0344d",
   "metadata": {},
   "outputs": [],
   "source": [
    "#Random Forest model :(model:3)\n",
    "rf=RandomForestRegressor(n_estimators=100,max_depth=6)"
   ]
  },
  {
   "cell_type": "code",
   "execution_count": 46,
   "id": "86c99cf7",
   "metadata": {},
   "outputs": [
    {
     "data": {
      "text/plain": [
       "RandomForestRegressor(max_depth=6)"
      ]
     },
     "execution_count": 46,
     "metadata": {},
     "output_type": "execute_result"
    }
   ],
   "source": [
    "rf.fit(X_train,y_train)"
   ]
  },
  {
   "cell_type": "code",
   "execution_count": 47,
   "id": "87c95794",
   "metadata": {},
   "outputs": [],
   "source": [
    "y_train_predict=rf.predict(X_train)\n",
    "y_test_predict=rf.predict(X_test)"
   ]
  },
  {
   "cell_type": "code",
   "execution_count": 48,
   "id": "117792fe",
   "metadata": {},
   "outputs": [
    {
     "name": "stdout",
     "output_type": "stream",
     "text": [
      "RMSE of train: 24.06498817320641\n",
      "RMSE of test: 37.38305934885093\n"
     ]
    }
   ],
   "source": [
    "print('RMSE of train:',np.sqrt(mean_squared_error(y_train,y_train_predict)))\n",
    "print('RMSE of test:',np.sqrt(mean_squared_error(y_test,y_test_predict)))"
   ]
  },
  {
   "cell_type": "code",
   "execution_count": 49,
   "id": "1cda04de",
   "metadata": {},
   "outputs": [
    {
     "name": "stdout",
     "output_type": "stream",
     "text": [
      "[0.93657353 0.77723089 0.90249813 0.90780101 0.90590602 0.90549277\n",
      " 0.90997012 0.93925423 0.91746138 0.91424452]\n"
     ]
    }
   ],
   "source": [
    "#bias variance trade off\n",
    "\n",
    "scores = cross_val_score(rf,X_train,y_train,cv=10,scoring='r2')\n",
    "print(scores)"
   ]
  },
  {
   "cell_type": "code",
   "execution_count": 50,
   "id": "9d8c199b",
   "metadata": {},
   "outputs": [
    {
     "name": "stdout",
     "output_type": "stream",
     "text": [
      "Bias: 0.09835673950977453\n",
      "Variance: 0.04791345286924171\n"
     ]
    }
   ],
   "source": [
    "print('Bias:',1-np.mean(scores))\n",
    "print('Variance:',np.std(scores)/np.mean(scores))"
   ]
  },
  {
   "cell_type": "code",
   "execution_count": 51,
   "id": "055a2ff7",
   "metadata": {},
   "outputs": [
    {
     "name": "stdout",
     "output_type": "stream",
     "text": [
      "Best parameters for ELastic-net Regression:  {'alpha': 8, 'l1_ratio': 0.9} \n",
      "\n"
     ]
    }
   ],
   "source": [
    "#Elasticnet model(model:3)\n",
    "#create a dictionary with hyperparameters and its values\n",
    "tuned_paramaters = [{'alpha':[0.1,0.5,1,1.5,2,2.5,3,3.5,4,5,6,7,8],\n",
    "                      'l1_ratio':[0.5,0.55,0.6,0.65,0.7,0.75,0.8,0.85,0.9]}]\n",
    " \n",
    "# instantiate the ElasticNet() method\n",
    "enet = ElasticNet()\n",
    "\n",
    "# using GridSearchCV to find the optimal value of alpha and l1_ratio\n",
    "# estimator: pass the elastic net regression model\n",
    "# param_grid: pass the list 'tuned_parameters'\n",
    "# cv: number of folds in k-fold i.e. here cv = 10\n",
    "enet_grid = GridSearchCV(estimator = enet, \n",
    "                          param_grid = tuned_paramaters, \n",
    "                          cv = 10)\n",
    "\n",
    "# fit the model on X_train and y_train\n",
    "enet_grid.fit(X_train, y_train)\n",
    "\n",
    "# get the best parameters\n",
    "print('Best parameters for ELastic-net Regression: ', enet_grid.best_params_, '\\n')\n"
   ]
  },
  {
   "cell_type": "code",
   "execution_count": 52,
   "id": "106711dd",
   "metadata": {},
   "outputs": [
    {
     "name": "stdout",
     "output_type": "stream",
     "text": [
      "Root Mean Squared Error (RMSE) on training set:  41.0276\n",
      "Root Mean Squared Error (RMSE) on test set:  33.5317\n"
     ]
    }
   ],
   "source": [
    "enet = ElasticNet(alpha = 0.1,l1_ratio=0.9)\n",
    "enet_model =enet.fit(X_train, y_train)\n",
    "train_pred = enet_model.predict(X_train)\n",
    "mse_train = mean_squared_error(y_train, train_pred)\n",
    "rmse_train = round(np.sqrt(mse_train), 4)\n",
    "print(\"Root Mean Squared Error (RMSE) on training set: \", rmse_train)\n",
    "test_pred = enet_model.predict(X_test)\n",
    "mse_test = mean_squared_error(y_test, test_pred)\n",
    "rmse_test = round(np.sqrt(mse_test), 4)\n",
    "print(\"Root Mean Squared Error (RMSE) on test set: \", rmse_test)"
   ]
  },
  {
   "cell_type": "code",
   "execution_count": 53,
   "id": "a77d98b8",
   "metadata": {},
   "outputs": [
    {
     "name": "stdout",
     "output_type": "stream",
     "text": [
      "[0.89879059 0.87690614 0.90461005 0.90403864 0.88385332 0.94215092\n",
      " 0.91825321 0.95205597 0.91418452 0.90789801]\n"
     ]
    }
   ],
   "source": [
    "#bias variance trade off\n",
    "\n",
    "scores = cross_val_score(enet,X_train,y_train,cv=10,scoring='r2')\n",
    "print(scores)"
   ]
  },
  {
   "cell_type": "code",
   "execution_count": 54,
   "id": "e28d6dda",
   "metadata": {},
   "outputs": [
    {
     "name": "stdout",
     "output_type": "stream",
     "text": [
      "Bias: 0.08972586245382652\n",
      "Variance: 0.024220349170782716\n"
     ]
    }
   ],
   "source": [
    "print('Bias:',1-np.mean(scores))\n",
    "print('Variance:',np.std(scores)/np.mean(scores))"
   ]
  },
  {
   "cell_type": "code",
   "execution_count": 55,
   "id": "d4420a47",
   "metadata": {},
   "outputs": [],
   "source": [
    "df=pd.read_csv('Daily_cases_withDate.csv')"
   ]
  },
  {
   "cell_type": "code",
   "execution_count": 56,
   "id": "eec94b01",
   "metadata": {},
   "outputs": [],
   "source": [
    "df['Date_YMD']=pd.to_datetime(df['Date_YMD'])"
   ]
  },
  {
   "cell_type": "code",
   "execution_count": 57,
   "id": "5689c771",
   "metadata": {},
   "outputs": [],
   "source": [
    "a=df.groupby([df.Date_YMD.dt.year,df.Date_YMD.dt.month])['Total Confirmed'].sum()"
   ]
  },
  {
   "cell_type": "code",
   "execution_count": 58,
   "id": "759a9a89",
   "metadata": {},
   "outputs": [
    {
     "data": {
      "image/png": "[encoded data removed]",
      "text/plain": [
       "<Figure size 864x432 with 1 Axes>"
      ]
     },
     "metadata": {
      "needs_background": "light"
     },
     "output_type": "display_data"
    }
   ],
   "source": [
    "#infrence***(2)\n",
    "plt.figure(figsize=(12,6))\n",
    "a.plot(kind='bar')\n",
    "plt.tight_layout()"
   ]
  }
 ],
 "metadata": {
  "kernelspec": {
   "display_name": "Python 3",
   "language": "python",
   "name": "python3"
  },
  "language_info": {
   "codemirror_mode": {
    "name": "ipython",
    "version": 3
   },
   "file_extension": ".py",
   "mimetype": "text/x-python",
   "name": "python",
   "nbconvert_exporter": "python",
   "pygments_lexer": "ipython3",
   "version": "3.8.8"
  }
 },
 "nbformat": 4,
 "nbformat_minor": 5
}
