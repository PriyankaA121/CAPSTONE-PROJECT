{
 "cells": [
  {
   "cell_type": "code",
   "execution_count": 2,
   "id": "02311c49",
   "metadata": {},
   "outputs": [],
   "source": [
    "import numpy as np\n",
    "import pandas as pd\n",
    "import matplotlib.pyplot as plt\n",
    "import seaborn as sns\n",
    "import plotly as pt"
   ]
  },
  {
   "cell_type": "code",
   "execution_count": 3,
   "id": "99ac080b",
   "metadata": {},
   "outputs": [],
   "source": [
    "df=pd.read_csv('CasesState&Date_wise.csv')"
   ]
  },
  {
   "cell_type": "code",
   "execution_count": 4,
   "id": "c2c86d8a",
   "metadata": {},
   "outputs": [
    {
     "data": {
      "text/html": [
       "<div>\n",
       "<style scoped>\n",
       "    .dataframe tbody tr th:only-of-type {\n",
       "        vertical-align: middle;\n",
       "    }\n",
       "\n",
       "    .dataframe tbody tr th {\n",
       "        vertical-align: top;\n",
       "    }\n",
       "\n",
       "    .dataframe thead th {\n",
       "        text-align: right;\n",
       "    }\n",
       "</style>\n",
       "<table border=\"1\" class=\"dataframe\">\n",
       "  <thead>\n",
       "    <tr style=\"text-align: right;\">\n",
       "      <th></th>\n",
       "      <th>Date</th>\n",
       "      <th>Name of State / UT</th>\n",
       "      <th>Latitude</th>\n",
       "      <th>Longitude</th>\n",
       "      <th>Total Confirmed cases</th>\n",
       "      <th>Death</th>\n",
       "      <th>Cured/Discharged/Migrated</th>\n",
       "      <th>New cases</th>\n",
       "      <th>New deaths</th>\n",
       "      <th>New recovered</th>\n",
       "    </tr>\n",
       "  </thead>\n",
       "  <tbody>\n",
       "    <tr>\n",
       "      <th>0</th>\n",
       "      <td>1/30/2020</td>\n",
       "      <td>Kerala</td>\n",
       "      <td>10.8505</td>\n",
       "      <td>76.2711</td>\n",
       "      <td>1</td>\n",
       "      <td>0</td>\n",
       "      <td>0</td>\n",
       "      <td>0</td>\n",
       "      <td>0</td>\n",
       "      <td>0</td>\n",
       "    </tr>\n",
       "    <tr>\n",
       "      <th>1</th>\n",
       "      <td>1/31/2020</td>\n",
       "      <td>Kerala</td>\n",
       "      <td>10.8505</td>\n",
       "      <td>76.2711</td>\n",
       "      <td>1</td>\n",
       "      <td>0</td>\n",
       "      <td>0</td>\n",
       "      <td>0</td>\n",
       "      <td>0</td>\n",
       "      <td>0</td>\n",
       "    </tr>\n",
       "    <tr>\n",
       "      <th>2</th>\n",
       "      <td>2/1/2020</td>\n",
       "      <td>Kerala</td>\n",
       "      <td>10.8505</td>\n",
       "      <td>76.2711</td>\n",
       "      <td>2</td>\n",
       "      <td>0</td>\n",
       "      <td>0</td>\n",
       "      <td>1</td>\n",
       "      <td>0</td>\n",
       "      <td>0</td>\n",
       "    </tr>\n",
       "    <tr>\n",
       "      <th>3</th>\n",
       "      <td>2/2/2020</td>\n",
       "      <td>Kerala</td>\n",
       "      <td>10.8505</td>\n",
       "      <td>76.2711</td>\n",
       "      <td>3</td>\n",
       "      <td>0</td>\n",
       "      <td>0</td>\n",
       "      <td>1</td>\n",
       "      <td>0</td>\n",
       "      <td>0</td>\n",
       "    </tr>\n",
       "    <tr>\n",
       "      <th>4</th>\n",
       "      <td>2/3/2020</td>\n",
       "      <td>Kerala</td>\n",
       "      <td>10.8505</td>\n",
       "      <td>76.2711</td>\n",
       "      <td>3</td>\n",
       "      <td>0</td>\n",
       "      <td>0</td>\n",
       "      <td>0</td>\n",
       "      <td>0</td>\n",
       "      <td>0</td>\n",
       "    </tr>\n",
       "    <tr>\n",
       "      <th>...</th>\n",
       "      <td>...</td>\n",
       "      <td>...</td>\n",
       "      <td>...</td>\n",
       "      <td>...</td>\n",
       "      <td>...</td>\n",
       "      <td>...</td>\n",
       "      <td>...</td>\n",
       "      <td>...</td>\n",
       "      <td>...</td>\n",
       "      <td>...</td>\n",
       "    </tr>\n",
       "    <tr>\n",
       "      <th>4687</th>\n",
       "      <td>8/6/2020</td>\n",
       "      <td>Telangana</td>\n",
       "      <td>18.1124</td>\n",
       "      <td>79.0193</td>\n",
       "      <td>73050</td>\n",
       "      <td>589</td>\n",
       "      <td>52103</td>\n",
       "      <td>2092</td>\n",
       "      <td>0</td>\n",
       "      <td>1289</td>\n",
       "    </tr>\n",
       "    <tr>\n",
       "      <th>4688</th>\n",
       "      <td>8/6/2020</td>\n",
       "      <td>Tripura</td>\n",
       "      <td>23.9408</td>\n",
       "      <td>91.9882</td>\n",
       "      <td>5725</td>\n",
       "      <td>31</td>\n",
       "      <td>3793</td>\n",
       "      <td>97</td>\n",
       "      <td>0</td>\n",
       "      <td>68</td>\n",
       "    </tr>\n",
       "    <tr>\n",
       "      <th>4689</th>\n",
       "      <td>8/6/2020</td>\n",
       "      <td>Uttar Pradesh</td>\n",
       "      <td>26.8467</td>\n",
       "      <td>80.9462</td>\n",
       "      <td>104388</td>\n",
       "      <td>1857</td>\n",
       "      <td>60558</td>\n",
       "      <td>4078</td>\n",
       "      <td>0</td>\n",
       "      <td>3287</td>\n",
       "    </tr>\n",
       "    <tr>\n",
       "      <th>4690</th>\n",
       "      <td>8/6/2020</td>\n",
       "      <td>Uttarakhand</td>\n",
       "      <td>30.0668</td>\n",
       "      <td>79.0193</td>\n",
       "      <td>8254</td>\n",
       "      <td>98</td>\n",
       "      <td>5233</td>\n",
       "      <td>246</td>\n",
       "      <td>0</td>\n",
       "      <td>386</td>\n",
       "    </tr>\n",
       "    <tr>\n",
       "      <th>4691</th>\n",
       "      <td>8/6/2020</td>\n",
       "      <td>West Bengal</td>\n",
       "      <td>22.9868</td>\n",
       "      <td>87.8550</td>\n",
       "      <td>83800</td>\n",
       "      <td>1846</td>\n",
       "      <td>58962</td>\n",
       "      <td>2816</td>\n",
       "      <td>0</td>\n",
       "      <td>2078</td>\n",
       "    </tr>\n",
       "  </tbody>\n",
       "</table>\n",
       "<p>4692 rows × 10 columns</p>\n",
       "</div>"
      ],
      "text/plain": [
       "           Date Name of State / UT  Latitude  Longitude  \\\n",
       "0     1/30/2020             Kerala   10.8505    76.2711   \n",
       "1     1/31/2020             Kerala   10.8505    76.2711   \n",
       "2      2/1/2020             Kerala   10.8505    76.2711   \n",
       "3      2/2/2020             Kerala   10.8505    76.2711   \n",
       "4      2/3/2020             Kerala   10.8505    76.2711   \n",
       "...         ...                ...       ...        ...   \n",
       "4687   8/6/2020          Telangana   18.1124    79.0193   \n",
       "4688   8/6/2020            Tripura   23.9408    91.9882   \n",
       "4689   8/6/2020      Uttar Pradesh   26.8467    80.9462   \n",
       "4690   8/6/2020        Uttarakhand   30.0668    79.0193   \n",
       "4691   8/6/2020        West Bengal   22.9868    87.8550   \n",
       "\n",
       "      Total Confirmed cases Death  Cured/Discharged/Migrated  New cases  \\\n",
       "0                         1     0                          0          0   \n",
       "1                         1     0                          0          0   \n",
       "2                         2     0                          0          1   \n",
       "3                         3     0                          0          1   \n",
       "4                         3     0                          0          0   \n",
       "...                     ...   ...                        ...        ...   \n",
       "4687                  73050   589                      52103       2092   \n",
       "4688                   5725    31                       3793         97   \n",
       "4689                 104388  1857                      60558       4078   \n",
       "4690                   8254    98                       5233        246   \n",
       "4691                  83800  1846                      58962       2816   \n",
       "\n",
       "      New deaths  New recovered  \n",
       "0              0              0  \n",
       "1              0              0  \n",
       "2              0              0  \n",
       "3              0              0  \n",
       "4              0              0  \n",
       "...          ...            ...  \n",
       "4687           0           1289  \n",
       "4688           0             68  \n",
       "4689           0           3287  \n",
       "4690           0            386  \n",
       "4691           0           2078  \n",
       "\n",
       "[4692 rows x 10 columns]"
      ]
     },
     "execution_count": 4,
     "metadata": {},
     "output_type": "execute_result"
    }
   ],
   "source": [
    "df"
   ]
  },
  {
   "cell_type": "code",
   "execution_count": 5,
   "id": "46ef4b50",
   "metadata": {},
   "outputs": [
    {
     "name": "stdout",
     "output_type": "stream",
     "text": [
      "<class 'pandas.core.frame.DataFrame'>\n",
      "RangeIndex: 4692 entries, 0 to 4691\n",
      "Data columns (total 10 columns):\n",
      " #   Column                     Non-Null Count  Dtype  \n",
      "---  ------                     --------------  -----  \n",
      " 0   Date                       4692 non-null   object \n",
      " 1   Name of State / UT         4692 non-null   object \n",
      " 2   Latitude                   4692 non-null   float64\n",
      " 3   Longitude                  4692 non-null   float64\n",
      " 4   Total Confirmed cases      4692 non-null   int64  \n",
      " 5   Death                      4692 non-null   object \n",
      " 6   Cured/Discharged/Migrated  4692 non-null   int64  \n",
      " 7   New cases                  4692 non-null   int64  \n",
      " 8   New deaths                 4692 non-null   int64  \n",
      " 9   New recovered              4692 non-null   int64  \n",
      "dtypes: float64(2), int64(5), object(3)\n",
      "memory usage: 366.7+ KB\n"
     ]
    }
   ],
   "source": [
    "df.info()"
   ]
  },
  {
   "cell_type": "code",
   "execution_count": 6,
   "id": "5f374fbe",
   "metadata": {},
   "outputs": [
    {
     "data": {
      "text/plain": [
       "0          0\n",
       "1          0\n",
       "2          0\n",
       "3          0\n",
       "4          0\n",
       "        ... \n",
       "4687     589\n",
       "4688      31\n",
       "4689    1857\n",
       "4690      98\n",
       "4691    1846\n",
       "Name: Death, Length: 4692, dtype: object"
      ]
     },
     "execution_count": 6,
     "metadata": {},
     "output_type": "execute_result"
    }
   ],
   "source": [
    "df['Death']\n",
    "#changing the object to numeric data"
   ]
  },
  {
   "cell_type": "code",
   "execution_count": 7,
   "id": "849bc45e",
   "metadata": {},
   "outputs": [],
   "source": [
    "df['Death'].replace('0#',0,inplace=True)"
   ]
  },
  {
   "cell_type": "code",
   "execution_count": 8,
   "id": "70548586",
   "metadata": {},
   "outputs": [],
   "source": [
    "df['Death']=df['Death'].astype('int64')\n",
    "#removing the garbage variable and type converting the object to numeric"
   ]
  },
  {
   "cell_type": "code",
   "execution_count": 9,
   "id": "6401f480",
   "metadata": {},
   "outputs": [
    {
     "data": {
      "text/plain": [
       "Date                          object\n",
       "Name of State / UT            object\n",
       "Latitude                     float64\n",
       "Longitude                    float64\n",
       "Total Confirmed cases          int64\n",
       "Death                          int64\n",
       "Cured/Discharged/Migrated      int64\n",
       "New cases                      int64\n",
       "New deaths                     int64\n",
       "New recovered                  int64\n",
       "dtype: object"
      ]
     },
     "execution_count": 9,
     "metadata": {},
     "output_type": "execute_result"
    }
   ],
   "source": [
    "df.dtypes"
   ]
  },
  {
   "cell_type": "markdown",
   "id": "66afeb4c",
   "metadata": {},
   "source": [
    "Here we are removing the insignificant variables Latitude and Longitude  because that columns is not needed in prediction even Date is not needed for prediction right now we will be needed for other analsis.\n",
    "We also will be removing New Deaths column as it has null values entirely."
   ]
  },
  {
   "cell_type": "code",
   "execution_count": 10,
   "id": "001f6e68",
   "metadata": {},
   "outputs": [
    {
     "data": {
      "text/plain": [
       "Date                         0\n",
       "Name of State / UT           0\n",
       "Latitude                     0\n",
       "Longitude                    0\n",
       "Total Confirmed cases        0\n",
       "Death                        0\n",
       "Cured/Discharged/Migrated    0\n",
       "New cases                    0\n",
       "New deaths                   0\n",
       "New recovered                0\n",
       "dtype: int64"
      ]
     },
     "execution_count": 10,
     "metadata": {},
     "output_type": "execute_result"
    }
   ],
   "source": [
    "#checking for null values\n",
    "df.isnull().sum()"
   ]
  },
  {
   "cell_type": "code",
   "execution_count": 11,
   "id": "bd61ff6f",
   "metadata": {},
   "outputs": [
    {
     "data": {
      "text/html": [
       "<div>\n",
       "<style scoped>\n",
       "    .dataframe tbody tr th:only-of-type {\n",
       "        vertical-align: middle;\n",
       "    }\n",
       "\n",
       "    .dataframe tbody tr th {\n",
       "        vertical-align: top;\n",
       "    }\n",
       "\n",
       "    .dataframe thead th {\n",
       "        text-align: right;\n",
       "    }\n",
       "</style>\n",
       "<table border=\"1\" class=\"dataframe\">\n",
       "  <thead>\n",
       "    <tr style=\"text-align: right;\">\n",
       "      <th></th>\n",
       "      <th>Date</th>\n",
       "      <th>Name of State / UT</th>\n",
       "      <th>Latitude</th>\n",
       "      <th>Longitude</th>\n",
       "      <th>Total Confirmed cases</th>\n",
       "      <th>Death</th>\n",
       "      <th>Cured/Discharged/Migrated</th>\n",
       "      <th>New cases</th>\n",
       "      <th>New deaths</th>\n",
       "      <th>New recovered</th>\n",
       "    </tr>\n",
       "  </thead>\n",
       "  <tbody>\n",
       "  </tbody>\n",
       "</table>\n",
       "</div>"
      ],
      "text/plain": [
       "Empty DataFrame\n",
       "Columns: [Date, Name of State / UT, Latitude, Longitude, Total Confirmed cases, Death, Cured/Discharged/Migrated, New cases, New deaths, New recovered]\n",
       "Index: []"
      ]
     },
     "execution_count": 11,
     "metadata": {},
     "output_type": "execute_result"
    }
   ],
   "source": [
    "#checking for duplicate rows\n",
    "df[df.duplicated()]"
   ]
  },
  {
   "cell_type": "code",
   "execution_count": 12,
   "id": "3d0581cb",
   "metadata": {},
   "outputs": [],
   "source": [
    "df.drop(['Latitude','Longitude','New deaths'],axis=1,inplace=True)"
   ]
  },
  {
   "cell_type": "code",
   "execution_count": 13,
   "id": "94393018",
   "metadata": {},
   "outputs": [],
   "source": [
    "num_col=df.select_dtypes(np.number)"
   ]
  },
  {
   "cell_type": "code",
   "execution_count": 14,
   "id": "b4a713b8",
   "metadata": {},
   "outputs": [],
   "source": [
    "#removing negative values \n",
    "for col in num_col:\n",
    "    q1 = df[col].quantile(0.25)\n",
    "    q3 = df[col].quantile(0.75)\n",
    "    iqr = q3-q1\n",
    "    ll = q1 - (1.5*iqr)\n",
    "    ul = q3 + (1.5*iqr)\n",
    "    for ind in df[col].index:\n",
    "        if  df.loc[ind,col]<ll:\n",
    "            df.loc[ind,col]=ll\n",
    "        else:\n",
    "            pass"
   ]
  },
  {
   "cell_type": "code",
   "execution_count": 15,
   "id": "683f056f",
   "metadata": {},
   "outputs": [
    {
     "data": {
      "text/html": [
       "<div>\n",
       "<style scoped>\n",
       "    .dataframe tbody tr th:only-of-type {\n",
       "        vertical-align: middle;\n",
       "    }\n",
       "\n",
       "    .dataframe tbody tr th {\n",
       "        vertical-align: top;\n",
       "    }\n",
       "\n",
       "    .dataframe thead th {\n",
       "        text-align: right;\n",
       "    }\n",
       "</style>\n",
       "<table border=\"1\" class=\"dataframe\">\n",
       "  <thead>\n",
       "    <tr style=\"text-align: right;\">\n",
       "      <th></th>\n",
       "      <th>Total Confirmed cases</th>\n",
       "      <th>Death</th>\n",
       "      <th>Cured/Discharged/Migrated</th>\n",
       "      <th>New cases</th>\n",
       "      <th>New recovered</th>\n",
       "    </tr>\n",
       "  </thead>\n",
       "  <tbody>\n",
       "    <tr>\n",
       "      <th>count</th>\n",
       "      <td>4692.000000</td>\n",
       "      <td>4692.000000</td>\n",
       "      <td>4692.000000</td>\n",
       "      <td>4692.000000</td>\n",
       "      <td>4692.000000</td>\n",
       "    </tr>\n",
       "    <tr>\n",
       "      <th>mean</th>\n",
       "      <td>11393.925192</td>\n",
       "      <td>291.218670</td>\n",
       "      <td>6908.130648</td>\n",
       "      <td>418.643009</td>\n",
       "      <td>283.069054</td>\n",
       "    </tr>\n",
       "    <tr>\n",
       "      <th>std</th>\n",
       "      <td>37208.600846</td>\n",
       "      <td>1213.695272</td>\n",
       "      <td>23390.671258</td>\n",
       "      <td>1259.748923</td>\n",
       "      <td>947.925811</td>\n",
       "    </tr>\n",
       "    <tr>\n",
       "      <th>min</th>\n",
       "      <td>1.000000</td>\n",
       "      <td>0.000000</td>\n",
       "      <td>0.000000</td>\n",
       "      <td>0.000000</td>\n",
       "      <td>-1.000000</td>\n",
       "    </tr>\n",
       "    <tr>\n",
       "      <th>25%</th>\n",
       "      <td>39.000000</td>\n",
       "      <td>0.000000</td>\n",
       "      <td>9.000000</td>\n",
       "      <td>1.000000</td>\n",
       "      <td>0.000000</td>\n",
       "    </tr>\n",
       "    <tr>\n",
       "      <th>50%</th>\n",
       "      <td>619.000000</td>\n",
       "      <td>5.000000</td>\n",
       "      <td>197.500000</td>\n",
       "      <td>26.000000</td>\n",
       "      <td>8.000000</td>\n",
       "    </tr>\n",
       "    <tr>\n",
       "      <th>75%</th>\n",
       "      <td>5233.000000</td>\n",
       "      <td>68.250000</td>\n",
       "      <td>2736.000000</td>\n",
       "      <td>210.250000</td>\n",
       "      <td>119.000000</td>\n",
       "    </tr>\n",
       "    <tr>\n",
       "      <th>max</th>\n",
       "      <td>468265.000000</td>\n",
       "      <td>16476.000000</td>\n",
       "      <td>305521.000000</td>\n",
       "      <td>18366.000000</td>\n",
       "      <td>13401.000000</td>\n",
       "    </tr>\n",
       "  </tbody>\n",
       "</table>\n",
       "</div>"
      ],
      "text/plain": [
       "       Total Confirmed cases         Death  Cured/Discharged/Migrated  \\\n",
       "count            4692.000000   4692.000000                4692.000000   \n",
       "mean            11393.925192    291.218670                6908.130648   \n",
       "std             37208.600846   1213.695272               23390.671258   \n",
       "min                 1.000000      0.000000                   0.000000   \n",
       "25%                39.000000      0.000000                   9.000000   \n",
       "50%               619.000000      5.000000                 197.500000   \n",
       "75%              5233.000000     68.250000                2736.000000   \n",
       "max            468265.000000  16476.000000              305521.000000   \n",
       "\n",
       "          New cases  New recovered  \n",
       "count   4692.000000    4692.000000  \n",
       "mean     418.643009     283.069054  \n",
       "std     1259.748923     947.925811  \n",
       "min        0.000000      -1.000000  \n",
       "25%        1.000000       0.000000  \n",
       "50%       26.000000       8.000000  \n",
       "75%      210.250000     119.000000  \n",
       "max    18366.000000   13401.000000  "
      ]
     },
     "execution_count": 15,
     "metadata": {},
     "output_type": "execute_result"
    }
   ],
   "source": [
    "df.describe()"
   ]
  },
  {
   "cell_type": "markdown",
   "id": "38cf7bbf",
   "metadata": {},
   "source": [
    "We are setting total confirmed Cases as owr target variable as it has a significant relationship with other variables and we need to predict the total cases "
   ]
  },
  {
   "cell_type": "markdown",
   "id": "a7556eca",
   "metadata": {},
   "source": [
    "Checking for Relationship among indpendent and Target variable"
   ]
  },
  {
   "cell_type": "code",
   "execution_count": 16,
   "id": "6c53f90d",
   "metadata": {},
   "outputs": [
    {
     "data": {
      "text/plain": [
       "<AxesSubplot:>"
      ]
     },
     "execution_count": 16,
     "metadata": {},
     "output_type": "execute_result"
    },
    {
     "data": {
      "image/png": "[encoded data removed]",
      "text/plain": [
       "<Figure size 432x288 with 2 Axes>"
      ]
     },
     "metadata": {
      "needs_background": "light"
     },
     "output_type": "display_data"
    }
   ],
   "source": [
    "sns.heatmap(df.corr(),annot=True)"
   ]
  },
  {
   "cell_type": "markdown",
   "id": "7455e7f2",
   "metadata": {},
   "source": [
    "Now will check the relationship between the indpendent variable and target variable through EDA analysis."
   ]
  },
  {
   "cell_type": "code",
   "execution_count": 17,
   "id": "701c3b05",
   "metadata": {},
   "outputs": [
    {
     "data": {
      "image/png": "[encoded data removed]",
      "text/plain": [
       "<Figure size 1080x504 with 1 Axes>"
      ]
     },
     "metadata": {
      "needs_background": "light"
     },
     "output_type": "display_data"
    }
   ],
   "source": [
    "#checking for state wise cases\n",
    "plt.figure(figsize=[15,7])\n",
    "df.groupby('Name of State / UT')['Total Confirmed cases'].sum().plot(kind='bar')\n",
    "plt.tight_layout()"
   ]
  },
  {
   "cell_type": "markdown",
   "id": "81603df7",
   "metadata": {},
   "source": [
    "So as we see Maharashtra has the Highest no of confirmed Cases and Tamil Nadu is leading with Delhi next to it .There are currently many states which have less cases"
   ]
  },
  {
   "cell_type": "markdown",
   "id": "1b8d7a73",
   "metadata": {},
   "source": [
    "Here New Cases and Total Confirmed Cases might have some Intraction or they might  convey the same meaning lets keep that variable  until we fit it to train test split . The above data does not require scaling or transformation ,interaction might be needed \n"
   ]
  },
  {
   "cell_type": "code",
   "execution_count": 18,
   "id": "0c598339",
   "metadata": {},
   "outputs": [
    {
     "name": "stderr",
     "output_type": "stream",
     "text": [
      "C:\\Users\\chera\\anaconda3\\lib\\site-packages\\seaborn\\_decorators.py:36: FutureWarning: Pass the following variables as keyword args: x, y. From version 0.12, the only valid positional argument will be `data`, and passing other arguments without an explicit keyword will result in an error or misinterpretation.\n",
      "  warnings.warn(\n"
     ]
    },
    {
     "data": {
      "image/png": "[encoded data removed]",
      "text/plain": [
       "<Figure size 1296x504 with 1 Axes>"
      ]
     },
     "metadata": {
      "needs_background": "light"
     },
     "output_type": "display_data"
    }
   ],
   "source": [
    "plt.figure(figsize=[18,7])\n",
    "plt.xticks(rotation='vertical')\n",
    "sns.lineplot(df['Date'],df['Total Confirmed cases'])\n",
    "plt.tight_layout()"
   ]
  },
  {
   "cell_type": "markdown",
   "id": "15d3a51e",
   "metadata": {},
   "source": [
    "While seeing the above graph the rise in covid cases are increasing by month from the year 2020 from the month january to August"
   ]
  },
  {
   "cell_type": "code",
   "execution_count": 19,
   "id": "7cbb1938",
   "metadata": {},
   "outputs": [],
   "source": [
    "#lets check if some data is missing then fill it with 0\n",
    "state_cases= df[df['Date']==df['Date'].max()].copy().fillna(0)\n",
    "state_cases.index=state_cases['Name of State / UT'] # set state as index\n",
    "state_cases=state_cases.drop(['Name of State / UT','Date'],axis=1)"
   ]
  },
  {
   "cell_type": "code",
   "execution_count": 20,
   "id": "6455e597",
   "metadata": {},
   "outputs": [
    {
     "data": {
      "text/html": [
       "<style  type=\"text/css\" >\n",
       "#T_ac974_row0_col0{\n",
       "            background-color:  #008066;\n",
       "            color:  #f1f1f1;\n",
       "        }#T_ac974_row0_col1,#T_ac974_row0_col4{\n",
       "            background-color:  #ffff66;\n",
       "            color:  #000000;\n",
       "        }#T_ac974_row0_col2{\n",
       "            background-color:  #54aa66;\n",
       "            color:  #000000;\n",
       "        }#T_ac974_row0_col3{\n",
       "            background-color:  #fdfe66;\n",
       "            color:  #000000;\n",
       "        }</style><table id=\"T_ac974_\" ><thead>    <tr>        <th class=\"blank level0\" ></th>        <th class=\"col_heading level0 col0\" >Total Confirmed cases</th>        <th class=\"col_heading level0 col1\" >Death</th>        <th class=\"col_heading level0 col2\" >Cured/Discharged/Migrated</th>        <th class=\"col_heading level0 col3\" >New cases</th>        <th class=\"col_heading level0 col4\" >New recovered</th>    </tr></thead><tbody>\n",
       "                <tr>\n",
       "                        <th id=\"T_ac974_level0_row0\" class=\"row_heading level0 row0\" >0</th>\n",
       "                        <td id=\"T_ac974_row0_col0\" class=\"data row0 col0\" >1964536.000000</td>\n",
       "                        <td id=\"T_ac974_row0_col1\" class=\"data row0 col1\" >40699.000000</td>\n",
       "                        <td id=\"T_ac974_row0_col2\" class=\"data row0 col2\" >1328336.000000</td>\n",
       "                        <td id=\"T_ac974_row0_col3\" class=\"data row0 col3\" >56282.000000</td>\n",
       "                        <td id=\"T_ac974_row0_col4\" class=\"data row0 col4\" >46121.000000</td>\n",
       "            </tr>\n",
       "    </tbody></table>"
      ],
      "text/plain": [
       "<pandas.io.formats.style.Styler at 0x16a0f9a3c70>"
      ]
     },
     "execution_count": 20,
     "metadata": {},
     "output_type": "execute_result"
    }
   ],
   "source": [
    "df1=pd.DataFrame(pd.to_numeric(state_cases.sum()),dtype=np.float64).transpose()\n",
    "df1.style.background_gradient(cmap='summer_r',axis=1)\n",
    "#summary:"
   ]
  },
  {
   "cell_type": "code",
   "execution_count": 21,
   "id": "1f1a3786",
   "metadata": {},
   "outputs": [
    {
     "data": {
      "text/plain": [
       "Index(['Total Confirmed cases', 'Death', 'Cured/Discharged/Migrated',\n",
       "       'New cases', 'New recovered'],\n",
       "      dtype='object')"
      ]
     },
     "execution_count": 21,
     "metadata": {},
     "output_type": "execute_result"
    }
   ],
   "source": [
    "state_cases.columns"
   ]
  },
  {
   "cell_type": "code",
   "execution_count": 22,
   "id": "65e0ef5a",
   "metadata": {},
   "outputs": [
    {
     "data": {
      "text/html": [
       "<style  type=\"text/css\" >\n",
       "#T_37f42_row0_col0,#T_37f42_row25_col3,#T_37f42_row29_col3,#T_37f42_row32_col3,#T_37f42_row33_col3,#T_37f42_row34_col3{\n",
       "            background-color:  #ffffe5;\n",
       "            color:  #000000;\n",
       "        }#T_37f42_row0_col1{\n",
       "            background-color:  #543005;\n",
       "            color:  #f1f1f1;\n",
       "        }#T_37f42_row0_col2{\n",
       "            background-color:  #4d004b;\n",
       "            color:  #f1f1f1;\n",
       "        }#T_37f42_row0_col3{\n",
       "            background-color:  #662506;\n",
       "            color:  #f1f1f1;\n",
       "        }#T_37f42_row0_col4{\n",
       "            background-color:  #379ac5;\n",
       "            color:  #000000;\n",
       "        }#T_37f42_row1_col0{\n",
       "            background-color:  #9cd687;\n",
       "            color:  #000000;\n",
       "        }#T_37f42_row1_col1{\n",
       "            background-color:  #6abdb2;\n",
       "            color:  #000000;\n",
       "        }#T_37f42_row1_col2{\n",
       "            background-color:  #8a51a5;\n",
       "            color:  #f1f1f1;\n",
       "        }#T_37f42_row1_col3{\n",
       "            background-color:  #fe9829;\n",
       "            color:  #000000;\n",
       "        }#T_37f42_row1_col4{\n",
       "            background-color:  #3c9fc8;\n",
       "            color:  #000000;\n",
       "        }#T_37f42_row2_col0{\n",
       "            background-color:  #4ab062;\n",
       "            color:  #000000;\n",
       "        }#T_37f42_row2_col1{\n",
       "            background-color:  #02675f;\n",
       "            color:  #f1f1f1;\n",
       "        }#T_37f42_row2_col2{\n",
       "            background-color:  #a7c2dd;\n",
       "            color:  #000000;\n",
       "        }#T_37f42_row2_col3{\n",
       "            background-color:  #6c2706;\n",
       "            color:  #f1f1f1;\n",
       "        }#T_37f42_row2_col4{\n",
       "            background-color:  #084081;\n",
       "            color:  #f1f1f1;\n",
       "        }#T_37f42_row3_col0{\n",
       "            background-color:  #349a52;\n",
       "            color:  #000000;\n",
       "        }#T_37f42_row3_col1{\n",
       "            background-color:  #258880;\n",
       "            color:  #000000;\n",
       "        }#T_37f42_row3_col2{\n",
       "            background-color:  #c1d4e7;\n",
       "            color:  #000000;\n",
       "        }#T_37f42_row3_col3{\n",
       "            background-color:  #f88a21;\n",
       "            color:  #000000;\n",
       "        }#T_37f42_row3_col4{\n",
       "            background-color:  #50b4d2;\n",
       "            color:  #000000;\n",
       "        }#T_37f42_row4_col0{\n",
       "            background-color:  #2f934d;\n",
       "            color:  #000000;\n",
       "        }#T_37f42_row4_col1{\n",
       "            background-color:  #55aea5;\n",
       "            color:  #000000;\n",
       "        }#T_37f42_row4_col2{\n",
       "            background-color:  #99b1d4;\n",
       "            color:  #000000;\n",
       "        }#T_37f42_row4_col3,#T_37f42_row8_col3{\n",
       "            background-color:  #fff8c4;\n",
       "            color:  #000000;\n",
       "        }#T_37f42_row4_col4{\n",
       "            background-color:  #e4f5df;\n",
       "            color:  #000000;\n",
       "        }#T_37f42_row5_col0{\n",
       "            background-color:  #1a7d40;\n",
       "            color:  #f1f1f1;\n",
       "        }#T_37f42_row5_col1,#T_37f42_row6_col1{\n",
       "            background-color:  #066b63;\n",
       "            color:  #f1f1f1;\n",
       "        }#T_37f42_row5_col2{\n",
       "            background-color:  #cddeec;\n",
       "            color:  #000000;\n",
       "        }#T_37f42_row5_col3{\n",
       "            background-color:  #febd49;\n",
       "            color:  #000000;\n",
       "        }#T_37f42_row5_col4{\n",
       "            background-color:  #a7ddb5;\n",
       "            color:  #000000;\n",
       "        }#T_37f42_row6_col0{\n",
       "            background-color:  #0e743c;\n",
       "            color:  #f1f1f1;\n",
       "        }#T_37f42_row6_col2{\n",
       "            background-color:  #cedfec;\n",
       "            color:  #000000;\n",
       "        }#T_37f42_row6_col3{\n",
       "            background-color:  #fede86;\n",
       "            color:  #000000;\n",
       "        }#T_37f42_row6_col4,#T_37f42_row9_col4{\n",
       "            background-color:  #ceecc8;\n",
       "            color:  #000000;\n",
       "        }#T_37f42_row7_col0{\n",
       "            background-color:  #086e3a;\n",
       "            color:  #f1f1f1;\n",
       "        }#T_37f42_row7_col1{\n",
       "            background-color:  #004b40;\n",
       "            color:  #f1f1f1;\n",
       "        }#T_37f42_row7_col2{\n",
       "            background-color:  #d4e3ef;\n",
       "            color:  #000000;\n",
       "        }#T_37f42_row7_col3{\n",
       "            background-color:  #feeba2;\n",
       "            color:  #000000;\n",
       "        }#T_37f42_row7_col4{\n",
       "            background-color:  #ddf2d7;\n",
       "            color:  #000000;\n",
       "        }#T_37f42_row8_col0{\n",
       "            background-color:  #056c39;\n",
       "            color:  #f1f1f1;\n",
       "        }#T_37f42_row8_col1{\n",
       "            background-color:  #1d8078;\n",
       "            color:  #000000;\n",
       "        }#T_37f42_row8_col2{\n",
       "            background-color:  #d7e5f0;\n",
       "            color:  #000000;\n",
       "        }#T_37f42_row8_col4{\n",
       "            background-color:  #e1f4dc;\n",
       "            color:  #000000;\n",
       "        }#T_37f42_row9_col0{\n",
       "            background-color:  #036b38;\n",
       "            color:  #f1f1f1;\n",
       "        }#T_37f42_row9_col1{\n",
       "            background-color:  #004439;\n",
       "            color:  #f1f1f1;\n",
       "        }#T_37f42_row9_col2{\n",
       "            background-color:  #ddeaf3;\n",
       "            color:  #000000;\n",
       "        }#T_37f42_row9_col3{\n",
       "            background-color:  #feda7e;\n",
       "            color:  #000000;\n",
       "        }#T_37f42_row10_col0{\n",
       "            background-color:  #006335;\n",
       "            color:  #f1f1f1;\n",
       "        }#T_37f42_row10_col1,#T_37f42_row15_col1,#T_37f42_row19_col1,#T_37f42_row20_col1,#T_37f42_row23_col1{\n",
       "            background-color:  #003e32;\n",
       "            color:  #f1f1f1;\n",
       "        }#T_37f42_row10_col2{\n",
       "            background-color:  #e2edf5;\n",
       "            color:  #000000;\n",
       "        }#T_37f42_row10_col3{\n",
       "            background-color:  #fee89b;\n",
       "            color:  #000000;\n",
       "        }#T_37f42_row10_col4{\n",
       "            background-color:  #d9f0d3;\n",
       "            color:  #000000;\n",
       "        }#T_37f42_row11_col0{\n",
       "            background-color:  #006034;\n",
       "            color:  #f1f1f1;\n",
       "        }#T_37f42_row11_col1{\n",
       "            background-color:  #004e44;\n",
       "            color:  #f1f1f1;\n",
       "        }#T_37f42_row11_col2{\n",
       "            background-color:  #e3eef5;\n",
       "            color:  #000000;\n",
       "        }#T_37f42_row11_col3{\n",
       "            background-color:  #fffbd3;\n",
       "            color:  #000000;\n",
       "        }#T_37f42_row11_col4{\n",
       "            background-color:  #e2f4dd;\n",
       "            color:  #000000;\n",
       "        }#T_37f42_row12_col0{\n",
       "            background-color:  #005c32;\n",
       "            color:  #f1f1f1;\n",
       "        }#T_37f42_row12_col1{\n",
       "            background-color:  #004135;\n",
       "            color:  #f1f1f1;\n",
       "        }#T_37f42_row12_col2,#T_37f42_row14_col2{\n",
       "            background-color:  #e8f1f7;\n",
       "            color:  #000000;\n",
       "        }#T_37f42_row12_col3{\n",
       "            background-color:  #fff7bc;\n",
       "            color:  #000000;\n",
       "        }#T_37f42_row12_col4,#T_37f42_row15_col4{\n",
       "            background-color:  #ddf2d8;\n",
       "            color:  #000000;\n",
       "        }#T_37f42_row13_col0{\n",
       "            background-color:  #005b32;\n",
       "            color:  #f1f1f1;\n",
       "        }#T_37f42_row13_col1,#T_37f42_row17_col1{\n",
       "            background-color:  #00483d;\n",
       "            color:  #f1f1f1;\n",
       "        }#T_37f42_row13_col2{\n",
       "            background-color:  #e4eff6;\n",
       "            color:  #000000;\n",
       "        }#T_37f42_row13_col3{\n",
       "            background-color:  #ffface;\n",
       "            color:  #000000;\n",
       "        }#T_37f42_row13_col4{\n",
       "            background-color:  #e8f6e2;\n",
       "            color:  #000000;\n",
       "        }#T_37f42_row14_col0{\n",
       "            background-color:  #005a31;\n",
       "            color:  #f1f1f1;\n",
       "        }#T_37f42_row14_col1{\n",
       "            background-color:  #015349;\n",
       "            color:  #f1f1f1;\n",
       "        }#T_37f42_row14_col3{\n",
       "            background-color:  #fffbd2;\n",
       "            color:  #000000;\n",
       "        }#T_37f42_row14_col4{\n",
       "            background-color:  #e9f7e3;\n",
       "            color:  #000000;\n",
       "        }#T_37f42_row15_col0{\n",
       "            background-color:  #005530;\n",
       "            color:  #f1f1f1;\n",
       "        }#T_37f42_row15_col2{\n",
       "            background-color:  #edf5f9;\n",
       "            color:  #000000;\n",
       "        }#T_37f42_row15_col3{\n",
       "            background-color:  #fff8c0;\n",
       "            color:  #000000;\n",
       "        }#T_37f42_row16_col0{\n",
       "            background-color:  #00522e;\n",
       "            color:  #f1f1f1;\n",
       "        }#T_37f42_row16_col1{\n",
       "            background-color:  #00463b;\n",
       "            color:  #f1f1f1;\n",
       "        }#T_37f42_row16_col2{\n",
       "            background-color:  #eef6fa;\n",
       "            color:  #000000;\n",
       "        }#T_37f42_row16_col3{\n",
       "            background-color:  #fffcd4;\n",
       "            color:  #000000;\n",
       "        }#T_37f42_row16_col4,#T_37f42_row20_col4{\n",
       "            background-color:  #eff9e9;\n",
       "            color:  #000000;\n",
       "        }#T_37f42_row17_col0{\n",
       "            background-color:  #00502d;\n",
       "            color:  #f1f1f1;\n",
       "        }#T_37f42_row17_col2{\n",
       "            background-color:  #f0f7fa;\n",
       "            color:  #000000;\n",
       "        }#T_37f42_row17_col3{\n",
       "            background-color:  #fffacb;\n",
       "            color:  #000000;\n",
       "        }#T_37f42_row17_col4{\n",
       "            background-color:  #eef8e7;\n",
       "            color:  #000000;\n",
       "        }#T_37f42_row18_col0{\n",
       "            background-color:  #004d2c;\n",
       "            color:  #f1f1f1;\n",
       "        }#T_37f42_row18_col1{\n",
       "            background-color:  #003f34;\n",
       "            color:  #f1f1f1;\n",
       "        }#T_37f42_row18_col2,#T_37f42_row20_col2,#T_37f42_row21_col2{\n",
       "            background-color:  #f4fafc;\n",
       "            color:  #000000;\n",
       "        }#T_37f42_row18_col3{\n",
       "            background-color:  #fff9c7;\n",
       "            color:  #000000;\n",
       "        }#T_37f42_row18_col4{\n",
       "            background-color:  #ecf8e6;\n",
       "            color:  #000000;\n",
       "        }#T_37f42_row19_col0{\n",
       "            background-color:  #004a2b;\n",
       "            color:  #f1f1f1;\n",
       "        }#T_37f42_row19_col2{\n",
       "            background-color:  #f3f9fb;\n",
       "            color:  #000000;\n",
       "        }#T_37f42_row19_col3{\n",
       "            background-color:  #fffee0;\n",
       "            color:  #000000;\n",
       "        }#T_37f42_row19_col4{\n",
       "            background-color:  #f2faeb;\n",
       "            color:  #000000;\n",
       "        }#T_37f42_row20_col0{\n",
       "            background-color:  #00492b;\n",
       "            color:  #f1f1f1;\n",
       "        }#T_37f42_row20_col3{\n",
       "            background-color:  #fffedf;\n",
       "            color:  #000000;\n",
       "        }#T_37f42_row21_col0{\n",
       "            background-color:  #00482a;\n",
       "            color:  #f1f1f1;\n",
       "        }#T_37f42_row21_col1,#T_37f42_row22_col1,#T_37f42_row24_col1,#T_37f42_row25_col1,#T_37f42_row26_col1,#T_37f42_row27_col1,#T_37f42_row28_col1,#T_37f42_row29_col1,#T_37f42_row30_col1,#T_37f42_row31_col1,#T_37f42_row32_col1,#T_37f42_row33_col1,#T_37f42_row34_col1{\n",
       "            background-color:  #003c30;\n",
       "            color:  #f1f1f1;\n",
       "        }#T_37f42_row21_col3{\n",
       "            background-color:  #fffddb;\n",
       "            color:  #000000;\n",
       "        }#T_37f42_row21_col4{\n",
       "            background-color:  #f3fbed;\n",
       "            color:  #000000;\n",
       "        }#T_37f42_row22_col0,#T_37f42_row23_col0{\n",
       "            background-color:  #00472a;\n",
       "            color:  #f1f1f1;\n",
       "        }#T_37f42_row22_col2{\n",
       "            background-color:  #f6fbfc;\n",
       "            color:  #000000;\n",
       "        }#T_37f42_row22_col3,#T_37f42_row26_col3,#T_37f42_row31_col3{\n",
       "            background-color:  #fffee2;\n",
       "            color:  #000000;\n",
       "        }#T_37f42_row22_col4,#T_37f42_row24_col4,#T_37f42_row25_col4,#T_37f42_row28_col4,#T_37f42_row29_col4,#T_37f42_row31_col4{\n",
       "            background-color:  #f6fcef;\n",
       "            color:  #000000;\n",
       "        }#T_37f42_row23_col2,#T_37f42_row24_col2,#T_37f42_row25_col2{\n",
       "            background-color:  #f6fbfd;\n",
       "            color:  #000000;\n",
       "        }#T_37f42_row23_col3{\n",
       "            background-color:  #fffddd;\n",
       "            color:  #000000;\n",
       "        }#T_37f42_row23_col4,#T_37f42_row27_col4{\n",
       "            background-color:  #f5fbee;\n",
       "            color:  #000000;\n",
       "        }#T_37f42_row24_col0,#T_37f42_row25_col0,#T_37f42_row26_col0{\n",
       "            background-color:  #004629;\n",
       "            color:  #f1f1f1;\n",
       "        }#T_37f42_row24_col3,#T_37f42_row27_col3,#T_37f42_row28_col3,#T_37f42_row30_col3{\n",
       "            background-color:  #ffffe4;\n",
       "            color:  #000000;\n",
       "        }#T_37f42_row26_col2,#T_37f42_row27_col2,#T_37f42_row28_col2,#T_37f42_row29_col2,#T_37f42_row30_col2,#T_37f42_row31_col2,#T_37f42_row32_col2,#T_37f42_row33_col2,#T_37f42_row34_col2{\n",
       "            background-color:  #f7fcfd;\n",
       "            color:  #000000;\n",
       "        }#T_37f42_row26_col4,#T_37f42_row30_col4,#T_37f42_row32_col4,#T_37f42_row33_col4,#T_37f42_row34_col4{\n",
       "            background-color:  #f7fcf0;\n",
       "            color:  #000000;\n",
       "        }#T_37f42_row27_col0,#T_37f42_row28_col0,#T_37f42_row29_col0,#T_37f42_row30_col0,#T_37f42_row31_col0,#T_37f42_row32_col0,#T_37f42_row33_col0,#T_37f42_row34_col0{\n",
       "            background-color:  #004529;\n",
       "            color:  #f1f1f1;\n",
       "        }</style><table id=\"T_37f42_\" ><thead>    <tr>        <th class=\"blank level0\" ></th>        <th class=\"col_heading level0 col0\" >Total Confirmed cases</th>        <th class=\"col_heading level0 col1\" >Death</th>        <th class=\"col_heading level0 col2\" >Cured/Discharged/Migrated</th>        <th class=\"col_heading level0 col3\" >New cases</th>        <th class=\"col_heading level0 col4\" >New recovered</th>    </tr>    <tr>        <th class=\"index_name level0\" >Name of State / UT</th>        <th class=\"blank\" ></th>        <th class=\"blank\" ></th>        <th class=\"blank\" ></th>        <th class=\"blank\" ></th>        <th class=\"blank\" ></th>    </tr></thead><tbody>\n",
       "                <tr>\n",
       "                        <th id=\"T_37f42_level0_row0\" class=\"row_heading level0 row0\" >Maharashtra</th>\n",
       "                        <td id=\"T_37f42_row0_col0\" class=\"data row0 col0\" >468265</td>\n",
       "                        <td id=\"T_37f42_row0_col1\" class=\"data row0 col1\" >16476</td>\n",
       "                        <td id=\"T_37f42_row0_col2\" class=\"data row0 col2\" >305521</td>\n",
       "                        <td id=\"T_37f42_row0_col3\" class=\"data row0 col3\" >10309</td>\n",
       "                        <td id=\"T_37f42_row0_col4\" class=\"data row0 col4\" >6165</td>\n",
       "            </tr>\n",
       "            <tr>\n",
       "                        <th id=\"T_37f42_level0_row1\" class=\"row_heading level0 row1\" >Tamil Nadu</th>\n",
       "                        <td id=\"T_37f42_row1_col0\" class=\"data row1 col0\" >273460</td>\n",
       "                        <td id=\"T_37f42_row1_col1\" class=\"data row1 col1\" >4461</td>\n",
       "                        <td id=\"T_37f42_row1_col2\" class=\"data row1 col2\" >214815</td>\n",
       "                        <td id=\"T_37f42_row1_col3\" class=\"data row1 col3\" >5175</td>\n",
       "                        <td id=\"T_37f42_row1_col4\" class=\"data row1 col4\" >6031</td>\n",
       "            </tr>\n",
       "            <tr>\n",
       "                        <th id=\"T_37f42_level0_row2\" class=\"row_heading level0 row2\" >Andhra Pradesh</th>\n",
       "                        <td id=\"T_37f42_row2_col0\" class=\"data row2 col0\" >186461</td>\n",
       "                        <td id=\"T_37f42_row2_col1\" class=\"data row2 col1\" >1681</td>\n",
       "                        <td id=\"T_37f42_row2_col2\" class=\"data row2 col2\" >104354</td>\n",
       "                        <td id=\"T_37f42_row2_col3\" class=\"data row2 col3\" >10128</td>\n",
       "                        <td id=\"T_37f42_row2_col4\" class=\"data row2 col4\" >8729</td>\n",
       "            </tr>\n",
       "            <tr>\n",
       "                        <th id=\"T_37f42_level0_row3\" class=\"row_heading level0 row3\" >Karnataka</th>\n",
       "                        <td id=\"T_37f42_row3_col0\" class=\"data row3 col0\" >151449</td>\n",
       "                        <td id=\"T_37f42_row3_col1\" class=\"data row3 col1\" >2804</td>\n",
       "                        <td id=\"T_37f42_row3_col2\" class=\"data row3 col2\" >74679</td>\n",
       "                        <td id=\"T_37f42_row3_col3\" class=\"data row3 col3\" >5619</td>\n",
       "                        <td id=\"T_37f42_row3_col4\" class=\"data row3 col4\" >5407</td>\n",
       "            </tr>\n",
       "            <tr>\n",
       "                        <th id=\"T_37f42_level0_row4\" class=\"row_heading level0 row4\" >Delhi</th>\n",
       "                        <td id=\"T_37f42_row4_col0\" class=\"data row4 col0\" >140232</td>\n",
       "                        <td id=\"T_37f42_row4_col1\" class=\"data row4 col1\" >4044</td>\n",
       "                        <td id=\"T_37f42_row4_col2\" class=\"data row4 col2\" >126116</td>\n",
       "                        <td id=\"T_37f42_row4_col3\" class=\"data row4 col3\" >1076</td>\n",
       "                        <td id=\"T_37f42_row4_col4\" class=\"data row4 col4\" >890</td>\n",
       "            </tr>\n",
       "            <tr>\n",
       "                        <th id=\"T_37f42_level0_row5\" class=\"row_heading level0 row5\" >Uttar Pradesh</th>\n",
       "                        <td id=\"T_37f42_row5_col0\" class=\"data row5 col0\" >104388</td>\n",
       "                        <td id=\"T_37f42_row5_col1\" class=\"data row5 col1\" >1857</td>\n",
       "                        <td id=\"T_37f42_row5_col2\" class=\"data row5 col2\" >60558</td>\n",
       "                        <td id=\"T_37f42_row5_col3\" class=\"data row5 col3\" >4078</td>\n",
       "                        <td id=\"T_37f42_row5_col4\" class=\"data row5 col4\" >3287</td>\n",
       "            </tr>\n",
       "            <tr>\n",
       "                        <th id=\"T_37f42_level0_row6\" class=\"row_heading level0 row6\" >West Bengal</th>\n",
       "                        <td id=\"T_37f42_row6_col0\" class=\"data row6 col0\" >83800</td>\n",
       "                        <td id=\"T_37f42_row6_col1\" class=\"data row6 col1\" >1846</td>\n",
       "                        <td id=\"T_37f42_row6_col2\" class=\"data row6 col2\" >58962</td>\n",
       "                        <td id=\"T_37f42_row6_col3\" class=\"data row6 col3\" >2816</td>\n",
       "                        <td id=\"T_37f42_row6_col4\" class=\"data row6 col4\" >2078</td>\n",
       "            </tr>\n",
       "            <tr>\n",
       "                        <th id=\"T_37f42_level0_row7\" class=\"row_heading level0 row7\" >Telangana</th>\n",
       "                        <td id=\"T_37f42_row7_col0\" class=\"data row7 col0\" >73050</td>\n",
       "                        <td id=\"T_37f42_row7_col1\" class=\"data row7 col1\" >589</td>\n",
       "                        <td id=\"T_37f42_row7_col2\" class=\"data row7 col2\" >52103</td>\n",
       "                        <td id=\"T_37f42_row7_col3\" class=\"data row7 col3\" >2092</td>\n",
       "                        <td id=\"T_37f42_row7_col4\" class=\"data row7 col4\" >1289</td>\n",
       "            </tr>\n",
       "            <tr>\n",
       "                        <th id=\"T_37f42_level0_row8\" class=\"row_heading level0 row8\" >Gujarat</th>\n",
       "                        <td id=\"T_37f42_row8_col0\" class=\"data row8 col0\" >66669</td>\n",
       "                        <td id=\"T_37f42_row8_col1\" class=\"data row8 col1\" >2556</td>\n",
       "                        <td id=\"T_37f42_row8_col2\" class=\"data row8 col2\" >49433</td>\n",
       "                        <td id=\"T_37f42_row8_col3\" class=\"data row8 col3\" >1070</td>\n",
       "                        <td id=\"T_37f42_row8_col4\" class=\"data row8 col4\" >1057</td>\n",
       "            </tr>\n",
       "            <tr>\n",
       "                        <th id=\"T_37f42_level0_row9\" class=\"row_heading level0 row9\" >Bihar</th>\n",
       "                        <td id=\"T_37f42_row9_col0\" class=\"data row9 col0\" >64770</td>\n",
       "                        <td id=\"T_37f42_row9_col1\" class=\"data row9 col1\" >355</td>\n",
       "                        <td id=\"T_37f42_row9_col2\" class=\"data row9 col2\" >42414</td>\n",
       "                        <td id=\"T_37f42_row9_col3\" class=\"data row9 col3\" >2982</td>\n",
       "                        <td id=\"T_37f42_row9_col4\" class=\"data row9 col4\" >2066</td>\n",
       "            </tr>\n",
       "            <tr>\n",
       "                        <th id=\"T_37f42_level0_row10\" class=\"row_heading level0 row10\" >Assam</th>\n",
       "                        <td id=\"T_37f42_row10_col0\" class=\"data row10 col0\" >50445</td>\n",
       "                        <td id=\"T_37f42_row10_col1\" class=\"data row10 col1\" >121</td>\n",
       "                        <td id=\"T_37f42_row10_col2\" class=\"data row10 col2\" >35892</td>\n",
       "                        <td id=\"T_37f42_row10_col3\" class=\"data row10 col3\" >2284</td>\n",
       "                        <td id=\"T_37f42_row10_col4\" class=\"data row10 col4\" >1471</td>\n",
       "            </tr>\n",
       "            <tr>\n",
       "                        <th id=\"T_37f42_level0_row11\" class=\"row_heading level0 row11\" >Rajasthan</th>\n",
       "                        <td id=\"T_37f42_row11_col0\" class=\"data row11 col0\" >47272</td>\n",
       "                        <td id=\"T_37f42_row11_col1\" class=\"data row11 col1\" >745</td>\n",
       "                        <td id=\"T_37f42_row11_col2\" class=\"data row11 col2\" >33849</td>\n",
       "                        <td id=\"T_37f42_row11_col3\" class=\"data row11 col3\" >593</td>\n",
       "                        <td id=\"T_37f42_row11_col4\" class=\"data row11 col4\" >1017</td>\n",
       "            </tr>\n",
       "            <tr>\n",
       "                        <th id=\"T_37f42_level0_row12\" class=\"row_heading level0 row12\" >Odisha</th>\n",
       "                        <td id=\"T_37f42_row12_col0\" class=\"data row12 col0\" >39018</td>\n",
       "                        <td id=\"T_37f42_row12_col1\" class=\"data row12 col1\" >225</td>\n",
       "                        <td id=\"T_37f42_row12_col2\" class=\"data row12 col2\" >25738</td>\n",
       "                        <td id=\"T_37f42_row12_col3\" class=\"data row12 col3\" >1337</td>\n",
       "                        <td id=\"T_37f42_row12_col4\" class=\"data row12 col4\" >1255</td>\n",
       "            </tr>\n",
       "            <tr>\n",
       "                        <th id=\"T_37f42_level0_row13\" class=\"row_heading level0 row13\" >Haryana</th>\n",
       "                        <td id=\"T_37f42_row13_col0\" class=\"data row13 col0\" >38548</td>\n",
       "                        <td id=\"T_37f42_row13_col1\" class=\"data row13 col1\" >455</td>\n",
       "                        <td id=\"T_37f42_row13_col2\" class=\"data row13 col2\" >31960</td>\n",
       "                        <td id=\"T_37f42_row13_col3\" class=\"data row13 col3\" >752</td>\n",
       "                        <td id=\"T_37f42_row13_col4\" class=\"data row13 col4\" >734</td>\n",
       "            </tr>\n",
       "            <tr>\n",
       "                        <th id=\"T_37f42_level0_row14\" class=\"row_heading level0 row14\" >Madhya Pradesh</th>\n",
       "                        <td id=\"T_37f42_row14_col0\" class=\"data row14 col0\" >35734</td>\n",
       "                        <td id=\"T_37f42_row14_col1\" class=\"data row14 col1\" >929</td>\n",
       "                        <td id=\"T_37f42_row14_col2\" class=\"data row14 col2\" >26064</td>\n",
       "                        <td id=\"T_37f42_row14_col3\" class=\"data row14 col3\" >652</td>\n",
       "                        <td id=\"T_37f42_row14_col4\" class=\"data row14 col4\" >650</td>\n",
       "            </tr>\n",
       "            <tr>\n",
       "                        <th id=\"T_37f42_level0_row15\" class=\"row_heading level0 row15\" >Kerala</th>\n",
       "                        <td id=\"T_37f42_row15_col0\" class=\"data row15 col0\" >29151</td>\n",
       "                        <td id=\"T_37f42_row15_col1\" class=\"data row15 col1\" >94</td>\n",
       "                        <td id=\"T_37f42_row15_col2\" class=\"data row15 col2\" >17533</td>\n",
       "                        <td id=\"T_37f42_row15_col3\" class=\"data row15 col3\" >1195</td>\n",
       "                        <td id=\"T_37f42_row15_col4\" class=\"data row15 col4\" >1234</td>\n",
       "            </tr>\n",
       "            <tr>\n",
       "                        <th id=\"T_37f42_level0_row16\" class=\"row_heading level0 row16\" >Jammu and Kashmir</th>\n",
       "                        <td id=\"T_37f42_row16_col0\" class=\"data row16 col0\" >22955</td>\n",
       "                        <td id=\"T_37f42_row16_col1\" class=\"data row16 col1\" >426</td>\n",
       "                        <td id=\"T_37f42_row16_col2\" class=\"data row16 col2\" >15244</td>\n",
       "                        <td id=\"T_37f42_row16_col3\" class=\"data row16 col3\" >559</td>\n",
       "                        <td id=\"T_37f42_row16_col4\" class=\"data row16 col4\" >388</td>\n",
       "            </tr>\n",
       "            <tr>\n",
       "                        <th id=\"T_37f42_level0_row17\" class=\"row_heading level0 row17\" >Punjab</th>\n",
       "                        <td id=\"T_37f42_row17_col0\" class=\"data row17 col0\" >19856</td>\n",
       "                        <td id=\"T_37f42_row17_col1\" class=\"data row17 col1\" >491</td>\n",
       "                        <td id=\"T_37f42_row17_col2\" class=\"data row17 col2\" >12943</td>\n",
       "                        <td id=\"T_37f42_row17_col3\" class=\"data row17 col3\" >841</td>\n",
       "                        <td id=\"T_37f42_row17_col4\" class=\"data row17 col4\" >452</td>\n",
       "            </tr>\n",
       "            <tr>\n",
       "                        <th id=\"T_37f42_level0_row18\" class=\"row_heading level0 row18\" >Jharkhand</th>\n",
       "                        <td id=\"T_37f42_row18_col0\" class=\"data row18 col0\" >14888</td>\n",
       "                        <td id=\"T_37f42_row18_col1\" class=\"data row18 col1\" >136</td>\n",
       "                        <td id=\"T_37f42_row18_col2\" class=\"data row18 col2\" >5703</td>\n",
       "                        <td id=\"T_37f42_row18_col3\" class=\"data row18 col3\" >948</td>\n",
       "                        <td id=\"T_37f42_row18_col4\" class=\"data row18 col4\" >539</td>\n",
       "            </tr>\n",
       "            <tr>\n",
       "                        <th id=\"T_37f42_level0_row19\" class=\"row_heading level0 row19\" >Chhattisgarh</th>\n",
       "                        <td id=\"T_37f42_row19_col0\" class=\"data row19 col0\" >10407</td>\n",
       "                        <td id=\"T_37f42_row19_col1\" class=\"data row19 col1\" >71</td>\n",
       "                        <td id=\"T_37f42_row19_col2\" class=\"data row19 col2\" >7871</td>\n",
       "                        <td id=\"T_37f42_row19_col3\" class=\"data row19 col3\" >205</td>\n",
       "                        <td id=\"T_37f42_row19_col4\" class=\"data row19 col4\" >258</td>\n",
       "            </tr>\n",
       "            <tr>\n",
       "                        <th id=\"T_37f42_level0_row20\" class=\"row_heading level0 row20\" >Uttarakhand</th>\n",
       "                        <td id=\"T_37f42_row20_col0\" class=\"data row20 col0\" >8254</td>\n",
       "                        <td id=\"T_37f42_row20_col1\" class=\"data row20 col1\" >98</td>\n",
       "                        <td id=\"T_37f42_row20_col2\" class=\"data row20 col2\" >5233</td>\n",
       "                        <td id=\"T_37f42_row20_col3\" class=\"data row20 col3\" >246</td>\n",
       "                        <td id=\"T_37f42_row20_col4\" class=\"data row20 col4\" >386</td>\n",
       "            </tr>\n",
       "            <tr>\n",
       "                        <th id=\"T_37f42_level0_row21\" class=\"row_heading level0 row21\" >Goa</th>\n",
       "                        <td id=\"T_37f42_row21_col0\" class=\"data row21 col0\" >7423</td>\n",
       "                        <td id=\"T_37f42_row21_col1\" class=\"data row21 col1\" >64</td>\n",
       "                        <td id=\"T_37f42_row21_col2\" class=\"data row21 col2\" >5287</td>\n",
       "                        <td id=\"T_37f42_row21_col3\" class=\"data row21 col3\" >348</td>\n",
       "                        <td id=\"T_37f42_row21_col4\" class=\"data row21 col4\" >173</td>\n",
       "            </tr>\n",
       "            <tr>\n",
       "                        <th id=\"T_37f42_level0_row22\" class=\"row_heading level0 row22\" >Tripura</th>\n",
       "                        <td id=\"T_37f42_row22_col0\" class=\"data row22 col0\" >5725</td>\n",
       "                        <td id=\"T_37f42_row22_col1\" class=\"data row22 col1\" >31</td>\n",
       "                        <td id=\"T_37f42_row22_col2\" class=\"data row22 col2\" >3793</td>\n",
       "                        <td id=\"T_37f42_row22_col3\" class=\"data row22 col3\" >97</td>\n",
       "                        <td id=\"T_37f42_row22_col4\" class=\"data row22 col4\" >68</td>\n",
       "            </tr>\n",
       "            <tr>\n",
       "                        <th id=\"T_37f42_level0_row23\" class=\"row_heading level0 row23\" >Puducherry</th>\n",
       "                        <td id=\"T_37f42_row23_col0\" class=\"data row23 col0\" >4433</td>\n",
       "                        <td id=\"T_37f42_row23_col1\" class=\"data row23 col1\" >65</td>\n",
       "                        <td id=\"T_37f42_row23_col2\" class=\"data row23 col2\" >2668</td>\n",
       "                        <td id=\"T_37f42_row23_col3\" class=\"data row23 col3\" >286</td>\n",
       "                        <td id=\"T_37f42_row23_col4\" class=\"data row23 col4\" >131</td>\n",
       "            </tr>\n",
       "            <tr>\n",
       "                        <th id=\"T_37f42_level0_row24\" class=\"row_heading level0 row24\" >Manipur</th>\n",
       "                        <td id=\"T_37f42_row24_col0\" class=\"data row24 col0\" >3093</td>\n",
       "                        <td id=\"T_37f42_row24_col1\" class=\"data row24 col1\" >7</td>\n",
       "                        <td id=\"T_37f42_row24_col2\" class=\"data row24 col2\" >1862</td>\n",
       "                        <td id=\"T_37f42_row24_col3\" class=\"data row24 col3\" >75</td>\n",
       "                        <td id=\"T_37f42_row24_col4\" class=\"data row24 col4\" >48</td>\n",
       "            </tr>\n",
       "            <tr>\n",
       "                        <th id=\"T_37f42_level0_row25\" class=\"row_heading level0 row25\" >Himachal Pradesh</th>\n",
       "                        <td id=\"T_37f42_row25_col0\" class=\"data row25 col0\" >2916</td>\n",
       "                        <td id=\"T_37f42_row25_col1\" class=\"data row25 col1\" >14</td>\n",
       "                        <td id=\"T_37f42_row25_col2\" class=\"data row25 col2\" >1762</td>\n",
       "                        <td id=\"T_37f42_row25_col3\" class=\"data row25 col3\" >37</td>\n",
       "                        <td id=\"T_37f42_row25_col4\" class=\"data row25 col4\" >52</td>\n",
       "            </tr>\n",
       "            <tr>\n",
       "                        <th id=\"T_37f42_level0_row26\" class=\"row_heading level0 row26\" >Nagaland</th>\n",
       "                        <td id=\"T_37f42_row26_col0\" class=\"data row26 col0\" >2498</td>\n",
       "                        <td id=\"T_37f42_row26_col1\" class=\"data row26 col1\" >6</td>\n",
       "                        <td id=\"T_37f42_row26_col2\" class=\"data row26 col2\" >685</td>\n",
       "                        <td id=\"T_37f42_row26_col3\" class=\"data row26 col3\" >93</td>\n",
       "                        <td id=\"T_37f42_row26_col4\" class=\"data row26 col4\" >26</td>\n",
       "            </tr>\n",
       "            <tr>\n",
       "                        <th id=\"T_37f42_level0_row27\" class=\"row_heading level0 row27\" >Arunachal Pradesh</th>\n",
       "                        <td id=\"T_37f42_row27_col0\" class=\"data row27 col0\" >1855</td>\n",
       "                        <td id=\"T_37f42_row27_col1\" class=\"data row27 col1\" >3</td>\n",
       "                        <td id=\"T_37f42_row27_col2\" class=\"data row27 col2\" >1210</td>\n",
       "                        <td id=\"T_37f42_row27_col3\" class=\"data row27 col3\" >65</td>\n",
       "                        <td id=\"T_37f42_row27_col4\" class=\"data row27 col4\" >105</td>\n",
       "            </tr>\n",
       "            <tr>\n",
       "                        <th id=\"T_37f42_level0_row28\" class=\"row_heading level0 row28\" >Ladakh</th>\n",
       "                        <td id=\"T_37f42_row28_col0\" class=\"data row28 col0\" >1592</td>\n",
       "                        <td id=\"T_37f42_row28_col1\" class=\"data row28 col1\" >7</td>\n",
       "                        <td id=\"T_37f42_row28_col2\" class=\"data row28 col2\" >1164</td>\n",
       "                        <td id=\"T_37f42_row28_col3\" class=\"data row28 col3\" >58</td>\n",
       "                        <td id=\"T_37f42_row28_col4\" class=\"data row28 col4\" >37</td>\n",
       "            </tr>\n",
       "            <tr>\n",
       "                        <th id=\"T_37f42_level0_row29\" class=\"row_heading level0 row29\" >Dadra and Nagar Haveli and Daman and Diu</th>\n",
       "                        <td id=\"T_37f42_row29_col0\" class=\"data row29 col0\" >1366</td>\n",
       "                        <td id=\"T_37f42_row29_col1\" class=\"data row29 col1\" >2</td>\n",
       "                        <td id=\"T_37f42_row29_col2\" class=\"data row29 col2\" >960</td>\n",
       "                        <td id=\"T_37f42_row29_col3\" class=\"data row29 col3\" >41</td>\n",
       "                        <td id=\"T_37f42_row29_col4\" class=\"data row29 col4\" >41</td>\n",
       "            </tr>\n",
       "            <tr>\n",
       "                        <th id=\"T_37f42_level0_row30\" class=\"row_heading level0 row30\" >Chandigarh</th>\n",
       "                        <td id=\"T_37f42_row30_col0\" class=\"data row30 col0\" >1270</td>\n",
       "                        <td id=\"T_37f42_row30_col1\" class=\"data row30 col1\" >20</td>\n",
       "                        <td id=\"T_37f42_row30_col2\" class=\"data row30 col2\" >715</td>\n",
       "                        <td id=\"T_37f42_row30_col3\" class=\"data row30 col3\" >64</td>\n",
       "                        <td id=\"T_37f42_row30_col4\" class=\"data row30 col4\" >0</td>\n",
       "            </tr>\n",
       "            <tr>\n",
       "                        <th id=\"T_37f42_level0_row31\" class=\"row_heading level0 row31\" >Andaman and Nicobar Islands</th>\n",
       "                        <td id=\"T_37f42_row31_col0\" class=\"data row31 col0\" >1027</td>\n",
       "                        <td id=\"T_37f42_row31_col1\" class=\"data row31 col1\" >14</td>\n",
       "                        <td id=\"T_37f42_row31_col2\" class=\"data row31 col2\" >326</td>\n",
       "                        <td id=\"T_37f42_row31_col3\" class=\"data row31 col3\" >99</td>\n",
       "                        <td id=\"T_37f42_row31_col4\" class=\"data row31 col4\" >49</td>\n",
       "            </tr>\n",
       "            <tr>\n",
       "                        <th id=\"T_37f42_level0_row32\" class=\"row_heading level0 row32\" >Meghalaya</th>\n",
       "                        <td id=\"T_37f42_row32_col0\" class=\"data row32 col0\" >929</td>\n",
       "                        <td id=\"T_37f42_row32_col1\" class=\"data row32 col1\" >5</td>\n",
       "                        <td id=\"T_37f42_row32_col2\" class=\"data row32 col2\" >330</td>\n",
       "                        <td id=\"T_37f42_row32_col3\" class=\"data row32 col3\" >12</td>\n",
       "                        <td id=\"T_37f42_row32_col4\" class=\"data row32 col4\" >0</td>\n",
       "            </tr>\n",
       "            <tr>\n",
       "                        <th id=\"T_37f42_level0_row33\" class=\"row_heading level0 row33\" >Sikkim</th>\n",
       "                        <td id=\"T_37f42_row33_col0\" class=\"data row33 col0\" >800</td>\n",
       "                        <td id=\"T_37f42_row33_col1\" class=\"data row33 col1\" >1</td>\n",
       "                        <td id=\"T_37f42_row33_col2\" class=\"data row33 col2\" >303</td>\n",
       "                        <td id=\"T_37f42_row33_col3\" class=\"data row33 col3\" >17</td>\n",
       "                        <td id=\"T_37f42_row33_col4\" class=\"data row33 col4\" >4</td>\n",
       "            </tr>\n",
       "            <tr>\n",
       "                        <th id=\"T_37f42_level0_row34\" class=\"row_heading level0 row34\" >Mizoram</th>\n",
       "                        <td id=\"T_37f42_row34_col0\" class=\"data row34 col0\" >537</td>\n",
       "                        <td id=\"T_37f42_row34_col1\" class=\"data row34 col1\" >0</td>\n",
       "                        <td id=\"T_37f42_row34_col2\" class=\"data row34 col2\" >286</td>\n",
       "                        <td id=\"T_37f42_row34_col3\" class=\"data row34 col3\" >33</td>\n",
       "                        <td id=\"T_37f42_row34_col4\" class=\"data row34 col4\" >4</td>\n",
       "            </tr>\n",
       "    </tbody></table>"
      ],
      "text/plain": [
       "<pandas.io.formats.style.Styler at 0x16a0f3e4760>"
      ]
     },
     "execution_count": 22,
     "metadata": {},
     "output_type": "execute_result"
    }
   ],
   "source": [
    "state_cases.sort_values('Total Confirmed cases',ascending=False).style\\\n",
    "    .background_gradient(cmap='YlGn_r',subset=['Total Confirmed cases'])\\\n",
    "    .background_gradient(cmap='BrBG_r',subset=['Death'])\\\n",
    "    .background_gradient(cmap='BuPu',subset=['Cured/Discharged/Migrated'])\\\n",
    "    .background_gradient(cmap='YlOrBr',subset=['New cases'])\\\n",
    "    .background_gradient(cmap='GnBu',subset=['New recovered'])   "
   ]
  },
  {
   "cell_type": "code",
   "execution_count": 23,
   "id": "10e64b78",
   "metadata": {},
   "outputs": [],
   "source": [
    "#Checking if Cured/Discharged/Migrated column have impact on Target variable"
   ]
  },
  {
   "cell_type": "code",
   "execution_count": 24,
   "id": "ad48a347",
   "metadata": {},
   "outputs": [
    {
     "name": "stderr",
     "output_type": "stream",
     "text": [
      "C:\\Users\\chera\\anaconda3\\lib\\site-packages\\seaborn\\_decorators.py:36: FutureWarning: Pass the following variables as keyword args: x, y. From version 0.12, the only valid positional argument will be `data`, and passing other arguments without an explicit keyword will result in an error or misinterpretation.\n",
      "  warnings.warn(\n"
     ]
    },
    {
     "data": {
      "text/plain": [
       "<AxesSubplot:xlabel='Cured/Discharged/Migrated', ylabel='Total Confirmed cases'>"
      ]
     },
     "execution_count": 24,
     "metadata": {},
     "output_type": "execute_result"
    },
    {
     "data": {
      "image/png": "[encoded data removed]",
      "text/plain": [
       "<Figure size 432x288 with 1 Axes>"
      ]
     },
     "metadata": {
      "needs_background": "light"
     },
     "output_type": "display_data"
    }
   ],
   "source": [
    "sns.scatterplot(df['Cured/Discharged/Migrated'],df['Total Confirmed cases'])"
   ]
  },
  {
   "cell_type": "markdown",
   "id": "2499fd99",
   "metadata": {},
   "source": [
    "As we see ,there is a positive relationship between the Cured Cases and confirmed Cases. \n",
    "As an infrence we can say that when the number of cases increases the people who get cured also increase .\n",
    "The impact is positive"
   ]
  },
  {
   "cell_type": "code",
   "execution_count": 25,
   "id": "ddc89cab",
   "metadata": {},
   "outputs": [
    {
     "name": "stderr",
     "output_type": "stream",
     "text": [
      "C:\\Users\\chera\\anaconda3\\lib\\site-packages\\seaborn\\_decorators.py:36: FutureWarning: Pass the following variables as keyword args: x, y. From version 0.12, the only valid positional argument will be `data`, and passing other arguments without an explicit keyword will result in an error or misinterpretation.\n",
      "  warnings.warn(\n"
     ]
    },
    {
     "data": {
      "text/plain": [
       "<AxesSubplot:xlabel='New cases', ylabel='Total Confirmed cases'>"
      ]
     },
     "execution_count": 25,
     "metadata": {},
     "output_type": "execute_result"
    },
    {
     "data": {
      "image/png": "[encoded data removed]",
      "text/plain": [
       "<Figure size 432x288 with 1 Axes>"
      ]
     },
     "metadata": {
      "needs_background": "light"
     },
     "output_type": "display_data"
    }
   ],
   "source": [
    "#does new Cases have an impact on Total Confirmed Cases\n",
    "sns.scatterplot(df['New cases'],df['Total Confirmed cases'])"
   ]
  },
  {
   "cell_type": "markdown",
   "id": "f36da932",
   "metadata": {},
   "source": [
    "Yes we can say there is a positive relationship in this Variable too, as the No of Cases increase total Cases also increase the relationship is positive."
   ]
  },
  {
   "cell_type": "markdown",
   "id": "a8db7481",
   "metadata": {},
   "source": [
    "So  doing Some Statistical Analysis on the Target variable ."
   ]
  },
  {
   "cell_type": "markdown",
   "id": "d813b830",
   "metadata": {},
   "source": [
    "Hypothesis:\n",
    "H0:Total_confirmed_cases <=12000\n",
    "\n",
    "HA:Total_confirmed_cases >12000"
   ]
  },
  {
   "cell_type": "code",
   "execution_count": 26,
   "id": "0d6ab69d",
   "metadata": {},
   "outputs": [],
   "source": [
    "#lets take alpha values as 0.02 as for owr buisness need \n",
    "alpha=0.02"
   ]
  },
  {
   "cell_type": "code",
   "execution_count": 27,
   "id": "5c3c0ca0",
   "metadata": {},
   "outputs": [],
   "source": [
    "import scipy.stats as st"
   ]
  },
  {
   "cell_type": "code",
   "execution_count": 28,
   "id": "89a06c33",
   "metadata": {},
   "outputs": [],
   "source": [
    "#here we are doing a T test because we assume this  data is a sample from a population\n",
    "xbar=df['Total Confirmed cases'].mean()\n",
    "s=df['Total Confirmed cases'].std(ddof=1)\n",
    "mue=12000\n",
    "n=len(df['Total Confirmed cases'])\n",
    "se=s/np.sqrt(n)\n",
    "t_stat=(xbar-mue)/se#t test \n",
    "t_critic=st.t.isf(alpha/2,n-1)"
   ]
  },
  {
   "cell_type": "code",
   "execution_count": 29,
   "id": "e2f51044",
   "metadata": {},
   "outputs": [],
   "source": [
    "#p value for the t test\n",
    "p_value=st.t.cdf(t_stat,n-1)"
   ]
  },
  {
   "cell_type": "code",
   "execution_count": 30,
   "id": "a98c997c",
   "metadata": {},
   "outputs": [
    {
     "data": {
      "text/plain": [
       "(10129.807751627313, 12658.0426320044)"
      ]
     },
     "execution_count": 30,
     "metadata": {},
     "output_type": "execute_result"
    }
   ],
   "source": [
    "#critical value approch\n",
    "st.t.interval(1-alpha,n-1,xbar,se)\n",
    "#with 98% confidence interval say that the average total cases lies between 10129 and 12658"
   ]
  },
  {
   "cell_type": "code",
   "execution_count": 31,
   "id": "09b7b286",
   "metadata": {},
   "outputs": [
    {
     "name": "stdout",
     "output_type": "stream",
     "text": [
      "0.13229590663656116 -1.1157371528567985 2.3271430763115677\n"
     ]
    }
   ],
   "source": [
    "print(p_value,t_stat,t_critic)"
   ]
  },
  {
   "cell_type": "markdown",
   "id": "e5ceba19",
   "metadata": {},
   "source": [
    "Since P value is less than alpha we fail  reject H0 so this says on average the Total confirmed cases are  more than 12000 every year.\n",
    "As the Average cases increases  to more than 13k  the   P value decreases .so we can say on average the number of cases lies between 12000 to 13000 ever year"
   ]
  },
  {
   "cell_type": "markdown",
   "id": "3c95c862",
   "metadata": {},
   "source": [
    "Building a model with Total Confirmed Cases as our (target Variable) and Other variables are independent."
   ]
  },
  {
   "cell_type": "markdown",
   "id": "b76861b8",
   "metadata": {},
   "source": [
    "Since our Target variable is Continuous, we will be doing  Regression Analysis"
   ]
  },
  {
   "cell_type": "code",
   "execution_count": 32,
   "id": "bbea1863",
   "metadata": {},
   "outputs": [],
   "source": [
    "import statsmodels.api as sm\n",
    "from sklearn.model_selection import train_test_split\n",
    "from statsmodels.stats.outliers_influence import variance_inflation_factor\n",
    "from statsmodels.graphics.gofplots import qqplot\n",
    "from scipy.stats import shapiro\n",
    "# 'metrics' from sklearn is used for evaluating the model performance\n",
    "from sklearn.metrics import mean_absolute_error\n",
    "from sklearn.metrics import mean_squared_error\n",
    "from statsmodels.stats.stattools import durbin_watson"
   ]
  },
  {
   "cell_type": "code",
   "execution_count": 33,
   "id": "153abfca",
   "metadata": {},
   "outputs": [],
   "source": [
    "#here we will drop the Date column as it represents time \n",
    "df.drop('Date',axis=1,inplace=True)"
   ]
  },
  {
   "cell_type": "code",
   "execution_count": 34,
   "id": "eb06a1b6",
   "metadata": {},
   "outputs": [
    {
     "data": {
      "text/plain": [
       "40"
      ]
     },
     "execution_count": 34,
     "metadata": {},
     "output_type": "execute_result"
    }
   ],
   "source": [
    "#lets consider the State column as we can see how much each State is contributing and Infering as it has too many variables in it lets consider it for now\n",
    "df['Name of State / UT'].value_counts().count()"
   ]
  },
  {
   "cell_type": "code",
   "execution_count": 35,
   "id": "f9b88ff7",
   "metadata": {},
   "outputs": [],
   "source": [
    "#converting the Categorical varaible into numberic by using Dummies\n",
    "cat_var=pd.get_dummies(df['Name of State / UT'],drop_first=True)\n",
    "num_var=df.drop(['Name of State / UT','Total Confirmed cases'],axis=1)"
   ]
  },
  {
   "cell_type": "code",
   "execution_count": 36,
   "id": "8874e64d",
   "metadata": {},
   "outputs": [],
   "source": [
    "X=pd.concat([cat_var,num_var],axis=1)\n",
    "sm_X=sm.add_constant(X)\n",
    "y=df['Total Confirmed cases']"
   ]
  },
  {
   "cell_type": "code",
   "execution_count": 37,
   "id": "7e4cd564",
   "metadata": {},
   "outputs": [],
   "source": [
    "X_train,X_test,y_train,y_test=train_test_split(sm_X,y,test_size=0.3,random_state=101)\n",
    "#so we are splitting the data into train and test with test size 0.3"
   ]
  },
  {
   "cell_type": "code",
   "execution_count": 38,
   "id": "e900eb2e",
   "metadata": {},
   "outputs": [],
   "source": [
    "X_train=X_train.reset_index(drop=True)\n",
    "X_test=X_test.reset_index(drop=True)\n",
    "y_train=y_train.reset_index(drop=True)\n",
    "y_test=y_test.reset_index(drop=True)"
   ]
  },
  {
   "cell_type": "code",
   "execution_count": 39,
   "id": "5952701e",
   "metadata": {},
   "outputs": [],
   "source": [
    "#building a basic model\n",
    "model=sm.OLS(y_train,X_train).fit()"
   ]
  },
  {
   "cell_type": "code",
   "execution_count": 40,
   "id": "1f980d09",
   "metadata": {},
   "outputs": [
    {
     "data": {
      "text/html": [
       "<table class=\"simpletable\">\n",
       "<caption>OLS Regression Results</caption>\n",
       "<tr>\n",
       "  <th>Dep. Variable:</th>    <td>Total Confirmed cases</td> <th>  R-squared:         </th> <td>   0.991</td> \n",
       "</tr>\n",
       "<tr>\n",
       "  <th>Model:</th>                     <td>OLS</td>          <th>  Adj. R-squared:    </th> <td>   0.991</td> \n",
       "</tr>\n",
       "<tr>\n",
       "  <th>Method:</th>               <td>Least Squares</td>     <th>  F-statistic:       </th> <td>   8451.</td> \n",
       "</tr>\n",
       "<tr>\n",
       "  <th>Date:</th>               <td>Sun, 12 Jun 2022</td>    <th>  Prob (F-statistic):</th>  <td>  0.00</td>  \n",
       "</tr>\n",
       "<tr>\n",
       "  <th>Time:</th>                   <td>19:27:24</td>        <th>  Log-Likelihood:    </th> <td> -31231.</td> \n",
       "</tr>\n",
       "<tr>\n",
       "  <th>No. Observations:</th>        <td>  3284</td>         <th>  AIC:               </th> <td>6.255e+04</td>\n",
       "</tr>\n",
       "<tr>\n",
       "  <th>Df Residuals:</th>            <td>  3240</td>         <th>  BIC:               </th> <td>6.282e+04</td>\n",
       "</tr>\n",
       "<tr>\n",
       "  <th>Df Model:</th>                <td>    43</td>         <th>                     </th>     <td> </td>    \n",
       "</tr>\n",
       "<tr>\n",
       "  <th>Covariance Type:</th>        <td>nonrobust</td>       <th>                     </th>     <td> </td>    \n",
       "</tr>\n",
       "</table>\n",
       "<table class=\"simpletable\">\n",
       "<tr>\n",
       "                      <td></td>                        <th>coef</th>     <th>std err</th>      <th>t</th>      <th>P>|t|</th>  <th>[0.025</th>    <th>0.975]</th>  \n",
       "</tr>\n",
       "<tr>\n",
       "  <th>const</th>                                    <td>    3.7026</td> <td>  352.447</td> <td>    0.011</td> <td> 0.992</td> <td> -687.339</td> <td>  694.744</td>\n",
       "</tr>\n",
       "<tr>\n",
       "  <th>Andhra Pradesh</th>                           <td> 1892.3509</td> <td>  488.517</td> <td>    3.874</td> <td> 0.000</td> <td>  934.518</td> <td> 2850.184</td>\n",
       "</tr>\n",
       "<tr>\n",
       "  <th>Arunachal Pradesh</th>                        <td>   63.9761</td> <td>  501.358</td> <td>    0.128</td> <td> 0.898</td> <td> -919.035</td> <td> 1046.987</td>\n",
       "</tr>\n",
       "<tr>\n",
       "  <th>Assam</th>                                    <td>  409.4581</td> <td>  503.140</td> <td>    0.814</td> <td> 0.416</td> <td> -577.047</td> <td> 1395.963</td>\n",
       "</tr>\n",
       "<tr>\n",
       "  <th>Bihar</th>                                    <td>  438.4961</td> <td>  495.720</td> <td>    0.885</td> <td> 0.376</td> <td> -533.461</td> <td> 1410.453</td>\n",
       "</tr>\n",
       "<tr>\n",
       "  <th>Chandigarh</th>                               <td>   20.1778</td> <td>  486.613</td> <td>    0.041</td> <td> 0.967</td> <td> -933.922</td> <td>  974.277</td>\n",
       "</tr>\n",
       "<tr>\n",
       "  <th>Chhattisgarh</th>                             <td>  170.6755</td> <td>  484.311</td> <td>    0.352</td> <td> 0.725</td> <td> -778.911</td> <td> 1120.262</td>\n",
       "</tr>\n",
       "<tr>\n",
       "  <th>Dadra and Nagar Haveli and Daman and Diu</th> <td>   35.6261</td> <td>  543.837</td> <td>    0.066</td> <td> 0.948</td> <td>-1030.674</td> <td> 1101.926</td>\n",
       "</tr>\n",
       "<tr>\n",
       "  <th>Delhi</th>                                    <td>-2642.9704</td> <td>  483.045</td> <td>   -5.471</td> <td> 0.000</td> <td>-3590.075</td> <td>-1695.865</td>\n",
       "</tr>\n",
       "<tr>\n",
       "  <th>Goa</th>                                      <td>  140.4906</td> <td>  494.290</td> <td>    0.284</td> <td> 0.776</td> <td> -828.663</td> <td> 1109.644</td>\n",
       "</tr>\n",
       "<tr>\n",
       "  <th>Gujarat</th>                                  <td>-3300.3606</td> <td>  489.248</td> <td>   -6.746</td> <td> 0.000</td> <td>-4259.627</td> <td>-2341.095</td>\n",
       "</tr>\n",
       "<tr>\n",
       "  <th>Haryana</th>                                  <td>  153.8107</td> <td>  477.317</td> <td>    0.322</td> <td> 0.747</td> <td> -782.064</td> <td> 1089.685</td>\n",
       "</tr>\n",
       "<tr>\n",
       "  <th>Himachal Pradesh</th>                         <td>   93.5906</td> <td>  477.634</td> <td>    0.196</td> <td> 0.845</td> <td> -842.905</td> <td> 1030.087</td>\n",
       "</tr>\n",
       "<tr>\n",
       "  <th>Jammu and Kashmir</th>                        <td>  804.0931</td> <td>  487.949</td> <td>    1.648</td> <td> 0.099</td> <td> -152.627</td> <td> 1760.813</td>\n",
       "</tr>\n",
       "<tr>\n",
       "  <th>Jharkhand</th>                                <td>  454.4593</td> <td>  489.148</td> <td>    0.929</td> <td> 0.353</td> <td> -504.611</td> <td> 1413.530</td>\n",
       "</tr>\n",
       "<tr>\n",
       "  <th>Karnataka</th>                                <td> 3714.3691</td> <td>  487.743</td> <td>    7.615</td> <td> 0.000</td> <td> 2758.053</td> <td> 4670.685</td>\n",
       "</tr>\n",
       "<tr>\n",
       "  <th>Kerala</th>                                   <td>  633.3395</td> <td>  459.885</td> <td>    1.377</td> <td> 0.169</td> <td> -268.355</td> <td> 1535.034</td>\n",
       "</tr>\n",
       "<tr>\n",
       "  <th>Ladakh</th>                                   <td>   75.2211</td> <td>  497.018</td> <td>    0.151</td> <td> 0.880</td> <td> -899.281</td> <td> 1049.723</td>\n",
       "</tr>\n",
       "<tr>\n",
       "  <th>Madhya Pradesh</th>                           <td> -805.1736</td> <td>  500.418</td> <td>   -1.609</td> <td> 0.108</td> <td>-1786.342</td> <td>  175.995</td>\n",
       "</tr>\n",
       "<tr>\n",
       "  <th>Maharashtra</th>                              <td> 3559.9587</td> <td>  540.577</td> <td>    6.585</td> <td> 0.000</td> <td> 2500.051</td> <td> 4619.866</td>\n",
       "</tr>\n",
       "<tr>\n",
       "  <th>Manipur</th>                                  <td>  142.7436</td> <td>  486.617</td> <td>    0.293</td> <td> 0.769</td> <td> -811.364</td> <td> 1096.851</td>\n",
       "</tr>\n",
       "<tr>\n",
       "  <th>Meghalaya</th>                                <td>   50.6344</td> <td>  517.988</td> <td>    0.098</td> <td> 0.922</td> <td> -964.983</td> <td> 1066.252</td>\n",
       "</tr>\n",
       "<tr>\n",
       "  <th>Mizoram</th>                                  <td>   27.2174</td> <td>  494.263</td> <td>    0.055</td> <td> 0.956</td> <td> -941.883</td> <td>  996.318</td>\n",
       "</tr>\n",
       "<tr>\n",
       "  <th>Nagaland</th>                                 <td>  201.8558</td> <td>  603.639</td> <td>    0.334</td> <td> 0.738</td> <td> -981.697</td> <td> 1385.409</td>\n",
       "</tr>\n",
       "<tr>\n",
       "  <th>Odisha</th>                                   <td>  471.2048</td> <td>  487.203</td> <td>    0.967</td> <td> 0.334</td> <td> -484.053</td> <td> 1426.463</td>\n",
       "</tr>\n",
       "<tr>\n",
       "  <th>Puducherry</th>                               <td>   43.7848</td> <td>  468.891</td> <td>    0.093</td> <td> 0.926</td> <td> -875.568</td> <td>  963.137</td>\n",
       "</tr>\n",
       "<tr>\n",
       "  <th>Punjab</th>                                   <td>  -10.2511</td> <td>  479.811</td> <td>   -0.021</td> <td> 0.983</td> <td> -951.016</td> <td>  930.513</td>\n",
       "</tr>\n",
       "<tr>\n",
       "  <th>Rajasthan</th>                                <td>  -55.3329</td> <td>  470.661</td> <td>   -0.118</td> <td> 0.906</td> <td> -978.157</td> <td>  867.491</td>\n",
       "</tr>\n",
       "<tr>\n",
       "  <th>Sikkim</th>                                   <td>   62.6384</td> <td>  583.402</td> <td>    0.107</td> <td> 0.915</td> <td>-1081.237</td> <td> 1206.514</td>\n",
       "</tr>\n",
       "<tr>\n",
       "  <th>Tamil Nadu</th>                               <td> 3136.1528</td> <td>  501.148</td> <td>    6.258</td> <td> 0.000</td> <td> 2153.553</td> <td> 4118.752</td>\n",
       "</tr>\n",
       "<tr>\n",
       "  <th>Telangana</th>                                <td> 1449.5927</td> <td>  632.373</td> <td>    2.292</td> <td> 0.022</td> <td>  209.702</td> <td> 2689.484</td>\n",
       "</tr>\n",
       "<tr>\n",
       "  <th>Telangana***</th>                             <td> 7625.6441</td> <td> 3317.733</td> <td>    2.298</td> <td> 0.022</td> <td> 1120.577</td> <td> 1.41e+04</td>\n",
       "</tr>\n",
       "<tr>\n",
       "  <th>Telengana</th>                                <td>  119.4891</td> <td>  536.624</td> <td>    0.223</td> <td> 0.824</td> <td> -932.667</td> <td> 1171.645</td>\n",
       "</tr>\n",
       "<tr>\n",
       "  <th>Tripura</th>                                  <td>  199.6833</td> <td>  501.385</td> <td>    0.398</td> <td> 0.690</td> <td> -783.380</td> <td> 1182.747</td>\n",
       "</tr>\n",
       "<tr>\n",
       "  <th>Union Territory of Chandigarh</th>            <td>   -2.7026</td> <td> 3306.239</td> <td>   -0.001</td> <td> 0.999</td> <td>-6485.234</td> <td> 6479.829</td>\n",
       "</tr>\n",
       "<tr>\n",
       "  <th>Union Territory of Jammu and Kashmir</th>     <td>   -2.6801</td> <td> 1214.534</td> <td>   -0.002</td> <td> 0.998</td> <td>-2384.013</td> <td> 2378.653</td>\n",
       "</tr>\n",
       "<tr>\n",
       "  <th>Union Territory of Ladakh</th>                <td>   -1.6665</td> <td> 1097.688</td> <td>   -0.002</td> <td> 0.999</td> <td>-2153.899</td> <td> 2150.566</td>\n",
       "</tr>\n",
       "<tr>\n",
       "  <th>Uttar Pradesh</th>                            <td>  435.7758</td> <td>  480.038</td> <td>    0.908</td> <td> 0.364</td> <td> -505.432</td> <td> 1376.984</td>\n",
       "</tr>\n",
       "<tr>\n",
       "  <th>Uttarakhand</th>                              <td>  140.6289</td> <td>  490.354</td> <td>    0.287</td> <td> 0.774</td> <td> -820.807</td> <td> 1102.065</td>\n",
       "</tr>\n",
       "<tr>\n",
       "  <th>West Bengal</th>                              <td>-1483.1902</td> <td>  487.263</td> <td>   -3.044</td> <td> 0.002</td> <td>-2438.564</td> <td> -527.816</td>\n",
       "</tr>\n",
       "<tr>\n",
       "  <th>Death</th>                                    <td>    7.0004</td> <td>    0.145</td> <td>   48.368</td> <td> 0.000</td> <td>    6.717</td> <td>    7.284</td>\n",
       "</tr>\n",
       "<tr>\n",
       "  <th>Cured/Discharged/Migrated</th>                <td>    1.0327</td> <td>    0.008</td> <td>  128.290</td> <td> 0.000</td> <td>    1.017</td> <td>    1.048</td>\n",
       "</tr>\n",
       "<tr>\n",
       "  <th>New cases</th>                                <td>    4.9097</td> <td>    0.120</td> <td>   40.954</td> <td> 0.000</td> <td>    4.675</td> <td>    5.145</td>\n",
       "</tr>\n",
       "<tr>\n",
       "  <th>New recovered</th>                            <td>   -0.6178</td> <td>    0.180</td> <td>   -3.436</td> <td> 0.001</td> <td>   -0.970</td> <td>   -0.265</td>\n",
       "</tr>\n",
       "</table>\n",
       "<table class=\"simpletable\">\n",
       "<tr>\n",
       "  <th>Omnibus:</th>       <td>2094.784</td> <th>  Durbin-Watson:     </th>  <td>   2.031</td>  \n",
       "</tr>\n",
       "<tr>\n",
       "  <th>Prob(Omnibus):</th>  <td> 0.000</td>  <th>  Jarque-Bera (JB):  </th> <td>1225683.668</td>\n",
       "</tr>\n",
       "<tr>\n",
       "  <th>Skew:</th>           <td>-1.695</td>  <th>  Prob(JB):          </th>  <td>    0.00</td>  \n",
       "</tr>\n",
       "<tr>\n",
       "  <th>Kurtosis:</th>       <td>97.583</td>  <th>  Cond. No.          </th>  <td>1.34e+06</td>  \n",
       "</tr>\n",
       "</table><br/><br/>Notes:<br/>[1] Standard Errors assume that the covariance matrix of the errors is correctly specified.<br/>[2] The condition number is large, 1.34e+06. This might indicate that there are<br/>strong multicollinearity or other numerical problems."
      ],
      "text/plain": [
       "<class 'statsmodels.iolib.summary.Summary'>\n",
       "\"\"\"\n",
       "                              OLS Regression Results                             \n",
       "=================================================================================\n",
       "Dep. Variable:     Total Confirmed cases   R-squared:                       0.991\n",
       "Model:                               OLS   Adj. R-squared:                  0.991\n",
       "Method:                    Least Squares   F-statistic:                     8451.\n",
       "Date:                   Sun, 12 Jun 2022   Prob (F-statistic):               0.00\n",
       "Time:                           19:27:24   Log-Likelihood:                -31231.\n",
       "No. Observations:                   3284   AIC:                         6.255e+04\n",
       "Df Residuals:                       3240   BIC:                         6.282e+04\n",
       "Df Model:                             43                                         \n",
       "Covariance Type:               nonrobust                                         \n",
       "============================================================================================================\n",
       "                                               coef    std err          t      P>|t|      [0.025      0.975]\n",
       "------------------------------------------------------------------------------------------------------------\n",
       "const                                        3.7026    352.447      0.011      0.992    -687.339     694.744\n",
       "Andhra Pradesh                            1892.3509    488.517      3.874      0.000     934.518    2850.184\n",
       "Arunachal Pradesh                           63.9761    501.358      0.128      0.898    -919.035    1046.987\n",
       "Assam                                      409.4581    503.140      0.814      0.416    -577.047    1395.963\n",
       "Bihar                                      438.4961    495.720      0.885      0.376    -533.461    1410.453\n",
       "Chandigarh                                  20.1778    486.613      0.041      0.967    -933.922     974.277\n",
       "Chhattisgarh                               170.6755    484.311      0.352      0.725    -778.911    1120.262\n",
       "Dadra and Nagar Haveli and Daman and Diu    35.6261    543.837      0.066      0.948   -1030.674    1101.926\n",
       "Delhi                                    -2642.9704    483.045     -5.471      0.000   -3590.075   -1695.865\n",
       "Goa                                        140.4906    494.290      0.284      0.776    -828.663    1109.644\n",
       "Gujarat                                  -3300.3606    489.248     -6.746      0.000   -4259.627   -2341.095\n",
       "Haryana                                    153.8107    477.317      0.322      0.747    -782.064    1089.685\n",
       "Himachal Pradesh                            93.5906    477.634      0.196      0.845    -842.905    1030.087\n",
       "Jammu and Kashmir                          804.0931    487.949      1.648      0.099    -152.627    1760.813\n",
       "Jharkhand                                  454.4593    489.148      0.929      0.353    -504.611    1413.530\n",
       "Karnataka                                 3714.3691    487.743      7.615      0.000    2758.053    4670.685\n",
       "Kerala                                     633.3395    459.885      1.377      0.169    -268.355    1535.034\n",
       "Ladakh                                      75.2211    497.018      0.151      0.880    -899.281    1049.723\n",
       "Madhya Pradesh                            -805.1736    500.418     -1.609      0.108   -1786.342     175.995\n",
       "Maharashtra                               3559.9587    540.577      6.585      0.000    2500.051    4619.866\n",
       "Manipur                                    142.7436    486.617      0.293      0.769    -811.364    1096.851\n",
       "Meghalaya                                   50.6344    517.988      0.098      0.922    -964.983    1066.252\n",
       "Mizoram                                     27.2174    494.263      0.055      0.956    -941.883     996.318\n",
       "Nagaland                                   201.8558    603.639      0.334      0.738    -981.697    1385.409\n",
       "Odisha                                     471.2048    487.203      0.967      0.334    -484.053    1426.463\n",
       "Puducherry                                  43.7848    468.891      0.093      0.926    -875.568     963.137\n",
       "Punjab                                     -10.2511    479.811     -0.021      0.983    -951.016     930.513\n",
       "Rajasthan                                  -55.3329    470.661     -0.118      0.906    -978.157     867.491\n",
       "Sikkim                                      62.6384    583.402      0.107      0.915   -1081.237    1206.514\n",
       "Tamil Nadu                                3136.1528    501.148      6.258      0.000    2153.553    4118.752\n",
       "Telangana                                 1449.5927    632.373      2.292      0.022     209.702    2689.484\n",
       "Telangana***                              7625.6441   3317.733      2.298      0.022    1120.577    1.41e+04\n",
       "Telengana                                  119.4891    536.624      0.223      0.824    -932.667    1171.645\n",
       "Tripura                                    199.6833    501.385      0.398      0.690    -783.380    1182.747\n",
       "Union Territory of Chandigarh               -2.7026   3306.239     -0.001      0.999   -6485.234    6479.829\n",
       "Union Territory of Jammu and Kashmir        -2.6801   1214.534     -0.002      0.998   -2384.013    2378.653\n",
       "Union Territory of Ladakh                   -1.6665   1097.688     -0.002      0.999   -2153.899    2150.566\n",
       "Uttar Pradesh                              435.7758    480.038      0.908      0.364    -505.432    1376.984\n",
       "Uttarakhand                                140.6289    490.354      0.287      0.774    -820.807    1102.065\n",
       "West Bengal                              -1483.1902    487.263     -3.044      0.002   -2438.564    -527.816\n",
       "Death                                        7.0004      0.145     48.368      0.000       6.717       7.284\n",
       "Cured/Discharged/Migrated                    1.0327      0.008    128.290      0.000       1.017       1.048\n",
       "New cases                                    4.9097      0.120     40.954      0.000       4.675       5.145\n",
       "New recovered                               -0.6178      0.180     -3.436      0.001      -0.970      -0.265\n",
       "==============================================================================\n",
       "Omnibus:                     2094.784   Durbin-Watson:                   2.031\n",
       "Prob(Omnibus):                  0.000   Jarque-Bera (JB):          1225683.668\n",
       "Skew:                          -1.695   Prob(JB):                         0.00\n",
       "Kurtosis:                      97.583   Cond. No.                     1.34e+06\n",
       "==============================================================================\n",
       "\n",
       "Notes:\n",
       "[1] Standard Errors assume that the covariance matrix of the errors is correctly specified.\n",
       "[2] The condition number is large, 1.34e+06. This might indicate that there are\n",
       "strong multicollinearity or other numerical problems.\n",
       "\"\"\""
      ]
     },
     "execution_count": 40,
     "metadata": {},
     "output_type": "execute_result"
    }
   ],
   "source": [
    "model.summary()"
   ]
  },
  {
   "cell_type": "code",
   "execution_count": 41,
   "id": "60935018",
   "metadata": {},
   "outputs": [
    {
     "name": "stdout",
     "output_type": "stream",
     "text": [
      "RMSE for Train data :  3265.3028862072297\n"
     ]
    }
   ],
   "source": [
    "#predicting the train data to check the performance\n",
    "y_train_predicted=model.predict(X_train)\n",
    "#calculating the MAE for the train data\n",
    "mse_train=mean_squared_error(y_train,y_train_predicted)\n",
    "#calculating the RMSE\n",
    "print('RMSE for Train data : ',np.sqrt(mse_train))\n"
   ]
  },
  {
   "cell_type": "code",
   "execution_count": 42,
   "id": "7d59f7fe",
   "metadata": {},
   "outputs": [
    {
     "name": "stdout",
     "output_type": "stream",
     "text": [
      "RMSE for Test data :  3166.573475224566\n"
     ]
    }
   ],
   "source": [
    "#predicting the test data to check the performance\n",
    "y_test_predicted=model.predict(X_test)\n",
    "#calculating the MAE for the test data\n",
    "mse_test=mean_squared_error(y_test,y_test_predicted)\n",
    "#calculating the RMSE\n",
    "print('RMSE for Test data : ',np.sqrt(mse_test))\n"
   ]
  },
  {
   "cell_type": "markdown",
   "id": "543dd00f",
   "metadata": {},
   "source": [
    "Since the RMSE for train and test data is same the model is performing good and the model explains 87% of data"
   ]
  },
  {
   "cell_type": "markdown",
   "id": "7bb9a989",
   "metadata": {},
   "source": [
    "### Fine Tune "
   ]
  },
  {
   "cell_type": "markdown",
   "id": "d89de481",
   "metadata": {},
   "source": [
    " We are going to fine tune to model by transforming  the features and using different models"
   ]
  },
  {
   "cell_type": "code",
   "execution_count": 44,
   "id": "6e248f75",
   "metadata": {},
   "outputs": [],
   "source": [
    "cat_var=pd.get_dummies(df['Name of State / UT'],drop_first=True)\n",
    "num_var=df.drop(['Name of State / UT','Total Confirmed cases'],axis=1)"
   ]
  },
  {
   "cell_type": "code",
   "execution_count": 45,
   "id": "8f1bca04",
   "metadata": {},
   "outputs": [
    {
     "data": {
      "text/plain": [
       "Death                        8.299677\n",
       "Cured/Discharged/Migrated    6.532905\n",
       "New cases                    5.698343\n",
       "New recovered                6.468866\n",
       "dtype: float64"
      ]
     },
     "execution_count": 45,
     "metadata": {},
     "output_type": "execute_result"
    }
   ],
   "source": [
    "#transforming the features as they have high positive skweness\n",
    "num_var.skew()"
   ]
  },
  {
   "cell_type": "code",
   "execution_count": 46,
   "id": "eba8805a",
   "metadata": {},
   "outputs": [],
   "source": [
    "#there seem to be negative data so cleaning that\n",
    "num_var['New recovered'].replace(-1,0,inplace=True)"
   ]
  },
  {
   "cell_type": "code",
   "execution_count": 47,
   "id": "d5d0db87",
   "metadata": {},
   "outputs": [],
   "source": [
    "num_var['Death']=np.sqrt(num_var['Death'])\n",
    "num_var['New cases']=np.sqrt(num_var['New cases'])\n",
    "num_var['New recovered']=np.sqrt(num_var['New recovered'])\n",
    "num_var['Cured/Discharged/Migrated']=np.sqrt(num_var['Cured/Discharged/Migrated'])"
   ]
  },
  {
   "cell_type": "code",
   "execution_count": 48,
   "id": "f183852e",
   "metadata": {},
   "outputs": [
    {
     "data": {
      "text/plain": [
       "Death                        3.665075\n",
       "Cured/Discharged/Migrated    2.963133\n",
       "New cases                    2.624091\n",
       "New recovered                2.882863\n",
       "dtype: float64"
      ]
     },
     "execution_count": 48,
     "metadata": {},
     "output_type": "execute_result"
    }
   ],
   "source": [
    "#after transforming the features\n",
    "num_var.skew()"
   ]
  },
  {
   "cell_type": "code",
   "execution_count": 49,
   "id": "9a63d313",
   "metadata": {},
   "outputs": [],
   "source": [
    "X=pd.concat([cat_var,num_var],axis=1)\n",
    "y=df['Total Confirmed cases']"
   ]
  },
  {
   "cell_type": "code",
   "execution_count": 50,
   "id": "c779780b",
   "metadata": {},
   "outputs": [],
   "source": [
    "X_train,X_test,y_train,y_test=train_test_split(X,y,test_size=0.3,random_state=101)\n",
    "#so we are splitting the data into train and test with test size 0.3"
   ]
  },
  {
   "cell_type": "code",
   "execution_count": 51,
   "id": "fdc64913",
   "metadata": {},
   "outputs": [],
   "source": [
    "X_train=X_train.reset_index(drop=True)\n",
    "X_test=X_test.reset_index(drop=True)\n",
    "y_train=y_train.reset_index(drop=True)\n",
    "y_test=y_test.reset_index(drop=True)"
   ]
  },
  {
   "cell_type": "code",
   "execution_count": 52,
   "id": "f3587a24",
   "metadata": {},
   "outputs": [],
   "source": [
    "#since there are null values in the data set and we have to conisder that also we cannot do scaling to the features"
   ]
  },
  {
   "cell_type": "code",
   "execution_count": 53,
   "id": "cb5632b7",
   "metadata": {},
   "outputs": [],
   "source": [
    "from sklearn.ensemble  import RandomForestRegressor\n",
    "from sklearn.model_selection import GridSearchCV\n",
    "from sklearn.linear_model import ElasticNet\n",
    "from sklearn.linear_model import SGDRegressor\n",
    "from sklearn.model_selection import cross_val_score\n",
    "from xgboost import XGBRegressor"
   ]
  },
  {
   "cell_type": "code",
   "execution_count": 54,
   "id": "792d5490",
   "metadata": {},
   "outputs": [
    {
     "data": {
      "text/plain": [
       "RandomForestRegressor(max_depth=6)"
      ]
     },
     "execution_count": 54,
     "metadata": {},
     "output_type": "execute_result"
    }
   ],
   "source": [
    "#Random Forest model(model:2)\n",
    "rf=RandomForestRegressor(n_estimators=100,max_depth=6)\n",
    "rf.fit(X_train,y_train)"
   ]
  },
  {
   "cell_type": "code",
   "execution_count": 55,
   "id": "4e4da3c4",
   "metadata": {},
   "outputs": [],
   "source": [
    "y_train_predict=rf.predict(X_train)\n",
    "y_test_predict=rf.predict(X_test)"
   ]
  },
  {
   "cell_type": "code",
   "execution_count": 56,
   "id": "fb1dfdb1",
   "metadata": {},
   "outputs": [
    {
     "name": "stdout",
     "output_type": "stream",
     "text": [
      "RMSE of train: 1761.6719538867637\n"
     ]
    }
   ],
   "source": [
    "print('RMSE of train:',np.sqrt(mean_squared_error(y_train,y_train_predict)))"
   ]
  },
  {
   "cell_type": "code",
   "execution_count": 57,
   "id": "f64d9c21",
   "metadata": {},
   "outputs": [
    {
     "name": "stdout",
     "output_type": "stream",
     "text": [
      "RMSE of test: 2921.0906607079337\n"
     ]
    }
   ],
   "source": [
    "print('RMSE of test:',np.sqrt(mean_squared_error(y_test,y_test_predict)))"
   ]
  },
  {
   "cell_type": "code",
   "execution_count": 58,
   "id": "bdbcbf93",
   "metadata": {},
   "outputs": [
    {
     "name": "stdout",
     "output_type": "stream",
     "text": [
      "[0.98969656 0.99289121 0.99512557 0.98844961 0.99392792 0.98906916\n",
      " 0.99453602 0.99392404 0.99248322 0.99536508]\n"
     ]
    }
   ],
   "source": [
    "#bias variance trade off\n",
    "\n",
    "scores = cross_val_score(rf,X_train,y_train,cv=10,scoring='r2')\n",
    "print(scores)"
   ]
  },
  {
   "cell_type": "code",
   "execution_count": 59,
   "id": "dc252d2d",
   "metadata": {},
   "outputs": [
    {
     "name": "stdout",
     "output_type": "stream",
     "text": [
      "Bias: 0.007453160869987152\n",
      "Variance: 0.0024571954627719233\n"
     ]
    }
   ],
   "source": [
    "print('Bias:',1-np.mean(scores))\n",
    "print('Variance:',np.std(scores)/np.mean(scores))"
   ]
  },
  {
   "cell_type": "code",
   "execution_count": 60,
   "id": "4dc9dedb",
   "metadata": {},
   "outputs": [
    {
     "name": "stdout",
     "output_type": "stream",
     "text": [
      "Best parameters for ELastic-net Regression:  {'alpha': 0.1, 'l1_ratio': 0.9} \n",
      "\n"
     ]
    }
   ],
   "source": [
    "#Elasticnet model(model:3)\n",
    "#create a dictionary with hyperparameters and its values\n",
    "tuned_paramaters = [{'alpha':[0.1,0.5,1,1.5,2,2.5,3,3.5,4,5,6,7,8],\n",
    "                      'l1_ratio':[0.5,0.55,0.6,0.65,0.7,0.75,0.8,0.85,0.9]}]\n",
    " \n",
    "# instantiate the ElasticNet() method\n",
    "enet = ElasticNet()\n",
    "\n",
    "# using GridSearchCV to find the optimal value of alpha and l1_ratio\n",
    "# estimator: pass the elastic net regression model\n",
    "# param_grid: pass the list 'tuned_parameters'\n",
    "# cv: number of folds in k-fold i.e. here cv = 10\n",
    "enet_grid = GridSearchCV(estimator = enet, \n",
    "                          param_grid = tuned_paramaters, \n",
    "                          cv = 10)\n",
    "\n",
    "# fit the model on X_train and y_train\n",
    "enet_grid.fit(X_train, y_train)\n",
    "\n",
    "# get the best parameters\n",
    "print('Best parameters for ELastic-net Regression: ', enet_grid.best_params_, '\\n')\n"
   ]
  },
  {
   "cell_type": "code",
   "execution_count": 61,
   "id": "050b66a7",
   "metadata": {},
   "outputs": [
    {
     "name": "stdout",
     "output_type": "stream",
     "text": [
      "Root Mean Squared Error (RMSE) on training set:  12569.8763\n",
      "Root Mean Squared Error (RMSE) on test set:  14994.7871\n"
     ]
    }
   ],
   "source": [
    "\n",
    "enet = ElasticNet(alpha = 0.1,l1_ratio=0.9)\n",
    "enet_model =enet.fit(X_train, y_train)\n",
    "train_pred = enet_model.predict(X_train)\n",
    "mse_train = mean_squared_error(y_train, train_pred)\n",
    "rmse_train = round(np.sqrt(mse_train), 4)\n",
    "print(\"Root Mean Squared Error (RMSE) on training set: \", rmse_train)\n",
    "test_pred = enet_model.predict(X_test)\n",
    "mse_test = mean_squared_error(y_test, test_pred)\n",
    "rmse_test = round(np.sqrt(mse_test), 4)\n",
    "print(\"Root Mean Squared Error (RMSE) on test set: \", rmse_test)"
   ]
  },
  {
   "cell_type": "code",
   "execution_count": 62,
   "id": "07d91e0a",
   "metadata": {},
   "outputs": [
    {
     "data": {
      "text/plain": [
       "0.8690414609575771"
      ]
     },
     "execution_count": 62,
     "metadata": {},
     "output_type": "execute_result"
    }
   ],
   "source": [
    "enet_model.score(X_train,y_train)"
   ]
  },
  {
   "cell_type": "code",
   "execution_count": 63,
   "id": "85c99e79",
   "metadata": {},
   "outputs": [
    {
     "name": "stdout",
     "output_type": "stream",
     "text": [
      "[0.86513822 0.86133697 0.89014797 0.86134314 0.86641001 0.836749\n",
      " 0.86250906 0.860596   0.89484625 0.79851393]\n"
     ]
    }
   ],
   "source": [
    "#bias variance trade off\n",
    "\n",
    "scores = cross_val_score(enet,X_train,y_train,cv=10,scoring='r2')\n",
    "print(scores)"
   ]
  },
  {
   "cell_type": "code",
   "execution_count": 64,
   "id": "d5e1f571",
   "metadata": {},
   "outputs": [
    {
     "name": "stdout",
     "output_type": "stream",
     "text": [
      "Bias: 0.1402409447198112\n",
      "Variance: 0.02970267526312369\n"
     ]
    }
   ],
   "source": [
    "print('Bias:',1-np.mean(scores))\n",
    "print('Variance:',np.std(scores)/np.mean(scores))"
   ]
  },
  {
   "cell_type": "code",
   "execution_count": 65,
   "id": "73266867",
   "metadata": {},
   "outputs": [
    {
     "data": {
      "text/plain": [
       "<AxesSubplot:>"
      ]
     },
     "execution_count": 65,
     "metadata": {},
     "output_type": "execute_result"
    },
    {
     "data": {
      "image/png": "[encoded data removed]",
      "text/plain": [
       "<Figure size 432x288 with 1 Axes>"
      ]
     },
     "metadata": {
      "needs_background": "light"
     },
     "output_type": "display_data"
    }
   ],
   "source": [
    "model.params.sort_values(ascending=True).head(10).plot(kind='bar')\n",
    "#these are the top 10  features which are contributing in negative coefficent we can also infer these states are responsible for more number of covid cases"
   ]
  },
  {
   "cell_type": "code",
   "execution_count": 66,
   "id": "a0de6b60",
   "metadata": {},
   "outputs": [
    {
     "data": {
      "text/plain": [
       "<AxesSubplot:>"
      ]
     },
     "execution_count": 66,
     "metadata": {},
     "output_type": "execute_result"
    },
    {
     "data": {
      "image/png": "[encoded data removed]",
      "text/plain": [
       "<Figure size 432x288 with 1 Axes>"
      ]
     },
     "metadata": {
      "needs_background": "light"
     },
     "output_type": "display_data"
    }
   ],
   "source": [
    "model.params.sort_values(ascending=False).head(10).plot(kind='bar')\n",
    "#these are the top 10 features are contriuting the most in positive coefficents "
   ]
  },
  {
   "cell_type": "code",
   "execution_count": 67,
   "id": "709e21d3",
   "metadata": {},
   "outputs": [],
   "source": [
    "df=pd.read_csv('CasesState&Date_wise.csv')"
   ]
  },
  {
   "cell_type": "code",
   "execution_count": 68,
   "id": "3db1946d",
   "metadata": {},
   "outputs": [],
   "source": [
    "df[['Month','Date','Year']]=df['Date'].str.split('/',expand=True)"
   ]
  },
  {
   "cell_type": "code",
   "execution_count": 69,
   "id": "308cbb39",
   "metadata": {},
   "outputs": [],
   "source": [
    "a=df.groupby(['Year','Name of State / UT'])['Total Confirmed cases'].sum()"
   ]
  },
  {
   "cell_type": "code",
   "execution_count": 70,
   "id": "25d4dbe9",
   "metadata": {},
   "outputs": [],
   "source": [
    "Month_7=df[df['Month']=='7'][['Name of State / UT','Total Confirmed cases']]"
   ]
  },
  {
   "cell_type": "code",
   "execution_count": 71,
   "id": "348d43cf",
   "metadata": {},
   "outputs": [],
   "source": [
    "e=Month_7.groupby('Name of State / UT')['Total Confirmed cases'].sum()"
   ]
  },
  {
   "cell_type": "code",
   "execution_count": 72,
   "id": "5e276ccf",
   "metadata": {},
   "outputs": [
    {
     "data": {
      "image/png": "[encoded data removed]",
      "text/plain": [
       "<Figure size 432x288 with 1 Axes>"
      ]
     },
     "metadata": {
      "needs_background": "light"
     },
     "output_type": "display_data"
    }
   ],
   "source": [
    "\n",
    "e.sort_values(ascending=False).head(10).plot(kind='bar')\n",
    "plt.tight_layout()"
   ]
  },
  {
   "cell_type": "code",
   "execution_count": 73,
   "id": "1c7fa866",
   "metadata": {},
   "outputs": [],
   "source": [
    "z=a.sort_values(ascending=False)"
   ]
  },
  {
   "cell_type": "code",
   "execution_count": 74,
   "id": "a21a77bf",
   "metadata": {},
   "outputs": [
    {
     "data": {
      "image/png": "[encoded data removed]",
      "text/plain": [
       "<Figure size 1224x576 with 1 Axes>"
      ]
     },
     "metadata": {
      "needs_background": "light"
     },
     "output_type": "display_data"
    }
   ],
   "source": [
    "#infrence (4)\n",
    "plt.figure(figsize=[17,8])\n",
    "z.head(60).sort_index().plot(kind='bar')\n",
    "plt.tight_layout()"
   ]
  },
  {
   "cell_type": "code",
   "execution_count": 75,
   "id": "eeee529a",
   "metadata": {},
   "outputs": [],
   "source": [
    "a1=df.groupby(['Month','Year','Name of State / UT'])['Total Confirmed cases'].sum()"
   ]
  },
  {
   "cell_type": "code",
   "execution_count": 76,
   "id": "7d296bf7",
   "metadata": {},
   "outputs": [
    {
     "data": {
      "text/plain": [
       "<AxesSubplot:xlabel='Month,Year,Name of State / UT'>"
      ]
     },
     "execution_count": 76,
     "metadata": {},
     "output_type": "execute_result"
    },
    {
     "data": {
      "image/png": "[encoded data removed]",
      "text/plain": [
       "<Figure size 1152x504 with 1 Axes>"
      ]
     },
     "metadata": {
      "needs_background": "light"
     },
     "output_type": "display_data"
    }
   ],
   "source": [
    "#infrence (try with medicine)\n",
    "plt.figure(figsize=(16,7))\n",
    "a1.sort_values(ascending=False).head(60).plot(kind='bar')"
   ]
  },
  {
   "cell_type": "code",
   "execution_count": 77,
   "id": "7ac3347c",
   "metadata": {},
   "outputs": [],
   "source": [
    "we=df.sort_values(ascending=False,by=['Month','Total Confirmed cases'])[['Name of State / UT','Total Confirmed cases']]"
   ]
  },
  {
   "cell_type": "code",
   "execution_count": 78,
   "id": "057171c2",
   "metadata": {},
   "outputs": [
    {
     "data": {
      "image/png": "[encoded data removed]",
      "text/plain": [
       "<Figure size 864x432 with 1 Axes>"
      ]
     },
     "metadata": {
      "needs_background": "light"
     },
     "output_type": "display_data"
    }
   ],
   "source": [
    "#infrence(4)\n",
    "plt.figure(figsize=[12,6])\n",
    "plt.xticks(rotation='vertical')\n",
    "sns.barplot(x=we['Name of State / UT'],y=we['Total Confirmed cases'])\n",
    "plt.tight_layout()"
   ]
  }
 ],
 "metadata": {
  "kernelspec": {
   "display_name": "Python 3",
   "language": "python",
   "name": "python3"
  },
  "language_info": {
   "codemirror_mode": {
    "name": "ipython",
    "version": 3
   },
   "file_extension": ".py",
   "mimetype": "text/x-python",
   "name": "python",
   "nbconvert_exporter": "python",
   "pygments_lexer": "ipython3",
   "version": "3.8.8"
  }
 },
 "nbformat": 4,
 "nbformat_minor": 5
}
