{
 "cells": [
  {
   "cell_type": "code",
   "execution_count": 1,
   "id": "9893b361",
   "metadata": {},
   "outputs": [],
   "source": [
    "import pandas as pd\n",
    "import seaborn as sns\n",
    "import matplotlib.pyplot as plt"
   ]
  },
  {
   "cell_type": "code",
   "execution_count": 2,
   "id": "dcf04ffb",
   "metadata": {},
   "outputs": [],
   "source": [
    "df=pd.read_excel('PharmaSales.xlsx')"
   ]
  },
  {
   "cell_type": "code",
   "execution_count": 3,
   "id": "c9dbcc52",
   "metadata": {},
   "outputs": [],
   "source": [
    "#inference\n",
    "#compare date of max sales with month of covid cases 1: dataset"
   ]
  },
  {
   "cell_type": "code",
   "execution_count": 4,
   "id": "eae3b3fe",
   "metadata": {},
   "outputs": [
    {
     "name": "stderr",
     "output_type": "stream",
     "text": [
      "C:\\Users\\chera\\anaconda3\\lib\\site-packages\\seaborn\\_decorators.py:36: FutureWarning: Pass the following variables as keyword args: x, y. From version 0.12, the only valid positional argument will be `data`, and passing other arguments without an explicit keyword will result in an error or misinterpretation.\n",
      "  warnings.warn(\n"
     ]
    },
    {
     "data": {
      "image/png": "[encoded data removed]",
      "text/plain": [
       "<Figure size 720x360 with 1 Axes>"
      ]
     },
     "metadata": {
      "needs_background": "light"
     },
     "output_type": "display_data"
    }
   ],
   "source": [
    "plt.figure(figsize=[10,5])\n",
    "sns.scatterplot(df['Date\\xa0'],df['Gross\\xa0Purchase'])\n",
    "plt.tight_layout()"
   ]
  },
  {
   "cell_type": "code",
   "execution_count": 5,
   "id": "13df5fba",
   "metadata": {},
   "outputs": [
    {
     "name": "stderr",
     "output_type": "stream",
     "text": [
      "C:\\Users\\chera\\anaconda3\\lib\\site-packages\\seaborn\\_decorators.py:36: FutureWarning: Pass the following variables as keyword args: x, y. From version 0.12, the only valid positional argument will be `data`, and passing other arguments without an explicit keyword will result in an error or misinterpretation.\n",
      "  warnings.warn(\n"
     ]
    },
    {
     "data": {
      "image/png": "[encoded data removed]",
      "text/plain": [
       "<Figure size 720x360 with 1 Axes>"
      ]
     },
     "metadata": {
      "needs_background": "light"
     },
     "output_type": "display_data"
    }
   ],
   "source": [
    "plt.figure(figsize=[10,5])\n",
    "sns.scatterplot(df['Date\\xa0'],df['Gross\\xa0Sales'])\n",
    "plt.tight_layout()"
   ]
  },
  {
   "cell_type": "markdown",
   "id": "edcac35d",
   "metadata": {},
   "source": [
    "since this data set has no target variable we will be doing a unsupervised Algorithm on the data set .we will try to label the data into different clusters and then compare it with the total number of covid cases."
   ]
  },
  {
   "cell_type": "code",
   "execution_count": 6,
   "id": "906b761c",
   "metadata": {},
   "outputs": [],
   "source": [
    "from sklearn.metrics import silhouette_score \n",
    "from yellowbrick.cluster import SilhouetteVisualizer\n",
    "from sklearn.cluster import AgglomerativeClustering\n",
    "from sklearn.metrics.pairwise import euclidean_distances\n",
    "from sklearn.cluster import DBSCAN\n",
    "from sklearn.cluster import KMeans"
   ]
  },
  {
   "cell_type": "code",
   "execution_count": 7,
   "id": "ac7a6eee",
   "metadata": {},
   "outputs": [],
   "source": [
    "#removing date feature for now \n",
    "X=df.drop('Date\\xa0',axis=1)"
   ]
  },
  {
   "cell_type": "code",
   "execution_count": 8,
   "id": "52a355dc",
   "metadata": {},
   "outputs": [],
   "source": [
    "#scaling the data\n",
    "from sklearn.preprocessing import StandardScaler\n",
    "ss=StandardScaler()\n",
    "X=pd.DataFrame(ss.fit_transform(X),columns=X.columns)"
   ]
  },
  {
   "cell_type": "code",
   "execution_count": 9,
   "id": "5b770ef1",
   "metadata": {},
   "outputs": [
    {
     "name": "stdout",
     "output_type": "stream",
     "text": [
      "2 0.46889208673152777\n",
      "3 0.5072224931614634\n",
      "4 0.4703663877367394\n",
      "5 0.29817854556483514\n",
      "6 0.329594540213147\n",
      "7 0.34055603373044113\n",
      "8 0.3438086743588611\n",
      "9 0.3406530112130219\n"
     ]
    }
   ],
   "source": [
    "#finding a optimal cluslter for the data\n",
    "for cls in [2,3,4,5,6,7,8,9]:\n",
    "    km = KMeans(n_clusters=cls,random_state=10)\n",
    "    km.fit(X)\n",
    "    x_pred = km.predict(X)\n",
    "    print(cls,silhouette_score(X,x_pred))"
   ]
  },
  {
   "cell_type": "code",
   "execution_count": 10,
   "id": "60cf75bb",
   "metadata": {},
   "outputs": [],
   "source": [
    "#as we see the number of clusters are 3 building a model with 3 clusters\n",
    "kmeans = KMeans(n_clusters=3,random_state=10)\n",
    "kmeans.fit(X)\n",
    "df['lables']=kmeans.predict(X)"
   ]
  },
  {
   "cell_type": "code",
   "execution_count": 11,
   "id": "4cc0b44a",
   "metadata": {},
   "outputs": [
    {
     "data": {
      "text/html": [
       "<div>\n",
       "<style scoped>\n",
       "    .dataframe tbody tr th:only-of-type {\n",
       "        vertical-align: middle;\n",
       "    }\n",
       "\n",
       "    .dataframe tbody tr th {\n",
       "        vertical-align: top;\n",
       "    }\n",
       "\n",
       "    .dataframe thead th {\n",
       "        text-align: right;\n",
       "    }\n",
       "</style>\n",
       "<table border=\"1\" class=\"dataframe\">\n",
       "  <thead>\n",
       "    <tr style=\"text-align: right;\">\n",
       "      <th></th>\n",
       "      <th>Gross Purchase</th>\n",
       "      <th>Gross Sales</th>\n",
       "      <th>Net Purchase / Sales</th>\n",
       "      <th>Gross Purchase.1</th>\n",
       "      <th>Gross Sales.1</th>\n",
       "      <th>Net Purchase / Sales.1</th>\n",
       "      <th>lables</th>\n",
       "    </tr>\n",
       "  </thead>\n",
       "  <tbody>\n",
       "    <tr>\n",
       "      <th>count</th>\n",
       "      <td>3.000000</td>\n",
       "      <td>3.000000</td>\n",
       "      <td>3.000000</td>\n",
       "      <td>3.000000</td>\n",
       "      <td>3.000000</td>\n",
       "      <td>3.000000</td>\n",
       "      <td>3.0</td>\n",
       "    </tr>\n",
       "    <tr>\n",
       "      <th>mean</th>\n",
       "      <td>221779.520000</td>\n",
       "      <td>169917.676667</td>\n",
       "      <td>51861.843333</td>\n",
       "      <td>86897.676667</td>\n",
       "      <td>120887.943333</td>\n",
       "      <td>-33990.266667</td>\n",
       "      <td>0.0</td>\n",
       "    </tr>\n",
       "    <tr>\n",
       "      <th>std</th>\n",
       "      <td>38640.669653</td>\n",
       "      <td>31569.341847</td>\n",
       "      <td>12055.291275</td>\n",
       "      <td>16305.986137</td>\n",
       "      <td>1015.608843</td>\n",
       "      <td>16234.566837</td>\n",
       "      <td>0.0</td>\n",
       "    </tr>\n",
       "    <tr>\n",
       "      <th>min</th>\n",
       "      <td>182528.470000</td>\n",
       "      <td>134304.530000</td>\n",
       "      <td>42044.460000</td>\n",
       "      <td>71778.070000</td>\n",
       "      <td>120097.240000</td>\n",
       "      <td>-48319.170000</td>\n",
       "      <td>0.0</td>\n",
       "    </tr>\n",
       "    <tr>\n",
       "      <th>25%</th>\n",
       "      <td>202779.570000</td>\n",
       "      <td>157645.370000</td>\n",
       "      <td>45134.200000</td>\n",
       "      <td>78258.935000</td>\n",
       "      <td>120315.250000</td>\n",
       "      <td>-42806.350000</td>\n",
       "      <td>0.0</td>\n",
       "    </tr>\n",
       "    <tr>\n",
       "      <th>50%</th>\n",
       "      <td>223030.670000</td>\n",
       "      <td>180986.210000</td>\n",
       "      <td>48223.940000</td>\n",
       "      <td>84739.800000</td>\n",
       "      <td>120533.260000</td>\n",
       "      <td>-37293.530000</td>\n",
       "      <td>0.0</td>\n",
       "    </tr>\n",
       "    <tr>\n",
       "      <th>75%</th>\n",
       "      <td>241405.045000</td>\n",
       "      <td>187724.250000</td>\n",
       "      <td>56770.535000</td>\n",
       "      <td>94457.480000</td>\n",
       "      <td>121283.295000</td>\n",
       "      <td>-26825.815000</td>\n",
       "      <td>0.0</td>\n",
       "    </tr>\n",
       "    <tr>\n",
       "      <th>max</th>\n",
       "      <td>259779.420000</td>\n",
       "      <td>194462.290000</td>\n",
       "      <td>65317.130000</td>\n",
       "      <td>104175.160000</td>\n",
       "      <td>122033.330000</td>\n",
       "      <td>-16358.100000</td>\n",
       "      <td>0.0</td>\n",
       "    </tr>\n",
       "  </tbody>\n",
       "</table>\n",
       "</div>"
      ],
      "text/plain": [
       "       Gross Purchase    Gross Sales  Net Purchase / Sales  Gross Purchase.1  \\\n",
       "count        3.000000       3.000000              3.000000          3.000000   \n",
       "mean    221779.520000  169917.676667          51861.843333      86897.676667   \n",
       "std      38640.669653   31569.341847          12055.291275      16305.986137   \n",
       "min     182528.470000  134304.530000          42044.460000      71778.070000   \n",
       "25%     202779.570000  157645.370000          45134.200000      78258.935000   \n",
       "50%     223030.670000  180986.210000          48223.940000      84739.800000   \n",
       "75%     241405.045000  187724.250000          56770.535000      94457.480000   \n",
       "max     259779.420000  194462.290000          65317.130000     104175.160000   \n",
       "\n",
       "       Gross Sales.1  Net Purchase / Sales.1  lables  \n",
       "count       3.000000                3.000000     3.0  \n",
       "mean   120887.943333           -33990.266667     0.0  \n",
       "std      1015.608843            16234.566837     0.0  \n",
       "min    120097.240000           -48319.170000     0.0  \n",
       "25%    120315.250000           -42806.350000     0.0  \n",
       "50%    120533.260000           -37293.530000     0.0  \n",
       "75%    121283.295000           -26825.815000     0.0  \n",
       "max    122033.330000           -16358.100000     0.0  "
      ]
     },
     "execution_count": 11,
     "metadata": {},
     "output_type": "execute_result"
    }
   ],
   "source": [
    "df[df['lables']==0].describe()"
   ]
  },
  {
   "cell_type": "code",
   "execution_count": 12,
   "id": "22b6441d",
   "metadata": {},
   "outputs": [
    {
     "data": {
      "text/html": [
       "<div>\n",
       "<style scoped>\n",
       "    .dataframe tbody tr th:only-of-type {\n",
       "        vertical-align: middle;\n",
       "    }\n",
       "\n",
       "    .dataframe tbody tr th {\n",
       "        vertical-align: top;\n",
       "    }\n",
       "\n",
       "    .dataframe thead th {\n",
       "        text-align: right;\n",
       "    }\n",
       "</style>\n",
       "<table border=\"1\" class=\"dataframe\">\n",
       "  <thead>\n",
       "    <tr style=\"text-align: right;\">\n",
       "      <th></th>\n",
       "      <th>Gross Purchase</th>\n",
       "      <th>Gross Sales</th>\n",
       "      <th>Net Purchase / Sales</th>\n",
       "      <th>Gross Purchase.1</th>\n",
       "      <th>Gross Sales.1</th>\n",
       "      <th>Net Purchase / Sales.1</th>\n",
       "      <th>lables</th>\n",
       "    </tr>\n",
       "  </thead>\n",
       "  <tbody>\n",
       "    <tr>\n",
       "      <th>count</th>\n",
       "      <td>34.000000</td>\n",
       "      <td>34.000000</td>\n",
       "      <td>34.000000</td>\n",
       "      <td>34.000000</td>\n",
       "      <td>34.000000</td>\n",
       "      <td>34.000000</td>\n",
       "      <td>34.0</td>\n",
       "    </tr>\n",
       "    <tr>\n",
       "      <th>mean</th>\n",
       "      <td>115928.180000</td>\n",
       "      <td>116747.270000</td>\n",
       "      <td>-819.090000</td>\n",
       "      <td>80753.116471</td>\n",
       "      <td>76116.846765</td>\n",
       "      <td>4636.269706</td>\n",
       "      <td>1.0</td>\n",
       "    </tr>\n",
       "    <tr>\n",
       "      <th>std</th>\n",
       "      <td>18576.368723</td>\n",
       "      <td>16957.251316</td>\n",
       "      <td>12528.027685</td>\n",
       "      <td>11038.860312</td>\n",
       "      <td>10911.102195</td>\n",
       "      <td>10214.834885</td>\n",
       "      <td>0.0</td>\n",
       "    </tr>\n",
       "    <tr>\n",
       "      <th>min</th>\n",
       "      <td>82545.460000</td>\n",
       "      <td>83648.830000</td>\n",
       "      <td>-29201.200000</td>\n",
       "      <td>58637.910000</td>\n",
       "      <td>54994.600000</td>\n",
       "      <td>-17318.440000</td>\n",
       "      <td>1.0</td>\n",
       "    </tr>\n",
       "    <tr>\n",
       "      <th>25%</th>\n",
       "      <td>101821.310000</td>\n",
       "      <td>102112.527500</td>\n",
       "      <td>-10092.017500</td>\n",
       "      <td>74661.655000</td>\n",
       "      <td>68440.022500</td>\n",
       "      <td>-60.175000</td>\n",
       "      <td>1.0</td>\n",
       "    </tr>\n",
       "    <tr>\n",
       "      <th>50%</th>\n",
       "      <td>112269.615000</td>\n",
       "      <td>114428.575000</td>\n",
       "      <td>-1619.610000</td>\n",
       "      <td>80169.880000</td>\n",
       "      <td>73715.480000</td>\n",
       "      <td>3233.015000</td>\n",
       "      <td>1.0</td>\n",
       "    </tr>\n",
       "    <tr>\n",
       "      <th>75%</th>\n",
       "      <td>130376.482500</td>\n",
       "      <td>127662.520000</td>\n",
       "      <td>8422.957500</td>\n",
       "      <td>88913.287500</td>\n",
       "      <td>85943.090000</td>\n",
       "      <td>12441.405000</td>\n",
       "      <td>1.0</td>\n",
       "    </tr>\n",
       "    <tr>\n",
       "      <th>max</th>\n",
       "      <td>155977.410000</td>\n",
       "      <td>149722.850000</td>\n",
       "      <td>32371.430000</td>\n",
       "      <td>100992.390000</td>\n",
       "      <td>99381.710000</td>\n",
       "      <td>26033.900000</td>\n",
       "      <td>1.0</td>\n",
       "    </tr>\n",
       "  </tbody>\n",
       "</table>\n",
       "</div>"
      ],
      "text/plain": [
       "       Gross Purchase    Gross Sales  Net Purchase / Sales  Gross Purchase.1  \\\n",
       "count       34.000000      34.000000             34.000000         34.000000   \n",
       "mean    115928.180000  116747.270000           -819.090000      80753.116471   \n",
       "std      18576.368723   16957.251316          12528.027685      11038.860312   \n",
       "min      82545.460000   83648.830000         -29201.200000      58637.910000   \n",
       "25%     101821.310000  102112.527500         -10092.017500      74661.655000   \n",
       "50%     112269.615000  114428.575000          -1619.610000      80169.880000   \n",
       "75%     130376.482500  127662.520000           8422.957500      88913.287500   \n",
       "max     155977.410000  149722.850000          32371.430000     100992.390000   \n",
       "\n",
       "       Gross Sales.1  Net Purchase / Sales.1  lables  \n",
       "count      34.000000               34.000000    34.0  \n",
       "mean    76116.846765             4636.269706     1.0  \n",
       "std     10911.102195            10214.834885     0.0  \n",
       "min     54994.600000           -17318.440000     1.0  \n",
       "25%     68440.022500              -60.175000     1.0  \n",
       "50%     73715.480000             3233.015000     1.0  \n",
       "75%     85943.090000            12441.405000     1.0  \n",
       "max     99381.710000            26033.900000     1.0  "
      ]
     },
     "execution_count": 12,
     "metadata": {},
     "output_type": "execute_result"
    }
   ],
   "source": [
    "df[df['lables']==1].describe()"
   ]
  },
  {
   "cell_type": "code",
   "execution_count": 13,
   "id": "58809086",
   "metadata": {},
   "outputs": [
    {
     "data": {
      "text/html": [
       "<div>\n",
       "<style scoped>\n",
       "    .dataframe tbody tr th:only-of-type {\n",
       "        vertical-align: middle;\n",
       "    }\n",
       "\n",
       "    .dataframe tbody tr th {\n",
       "        vertical-align: top;\n",
       "    }\n",
       "\n",
       "    .dataframe thead th {\n",
       "        text-align: right;\n",
       "    }\n",
       "</style>\n",
       "<table border=\"1\" class=\"dataframe\">\n",
       "  <thead>\n",
       "    <tr style=\"text-align: right;\">\n",
       "      <th></th>\n",
       "      <th>Gross Purchase</th>\n",
       "      <th>Gross Sales</th>\n",
       "      <th>Net Purchase / Sales</th>\n",
       "      <th>Gross Purchase.1</th>\n",
       "      <th>Gross Sales.1</th>\n",
       "      <th>Net Purchase / Sales.1</th>\n",
       "      <th>lables</th>\n",
       "    </tr>\n",
       "  </thead>\n",
       "  <tbody>\n",
       "    <tr>\n",
       "      <th>count</th>\n",
       "      <td>11.000000</td>\n",
       "      <td>11.000000</td>\n",
       "      <td>11.000000</td>\n",
       "      <td>11.000000</td>\n",
       "      <td>11.000000</td>\n",
       "      <td>11.000000</td>\n",
       "      <td>11.0</td>\n",
       "    </tr>\n",
       "    <tr>\n",
       "      <th>mean</th>\n",
       "      <td>173237.940909</td>\n",
       "      <td>190278.644545</td>\n",
       "      <td>-17040.703636</td>\n",
       "      <td>128560.163636</td>\n",
       "      <td>114429.293636</td>\n",
       "      <td>14130.870000</td>\n",
       "      <td>2.0</td>\n",
       "    </tr>\n",
       "    <tr>\n",
       "      <th>std</th>\n",
       "      <td>26041.343578</td>\n",
       "      <td>29244.371862</td>\n",
       "      <td>23037.464668</td>\n",
       "      <td>18271.920006</td>\n",
       "      <td>15783.624326</td>\n",
       "      <td>18625.660173</td>\n",
       "      <td>0.0</td>\n",
       "    </tr>\n",
       "    <tr>\n",
       "      <th>min</th>\n",
       "      <td>125896.680000</td>\n",
       "      <td>149090.070000</td>\n",
       "      <td>-65816.700000</td>\n",
       "      <td>105544.290000</td>\n",
       "      <td>99516.180000</td>\n",
       "      <td>-11970.540000</td>\n",
       "      <td>2.0</td>\n",
       "    </tr>\n",
       "    <tr>\n",
       "      <th>25%</th>\n",
       "      <td>160940.625000</td>\n",
       "      <td>171603.460000</td>\n",
       "      <td>-30532.890000</td>\n",
       "      <td>114017.740000</td>\n",
       "      <td>104161.845000</td>\n",
       "      <td>4837.705000</td>\n",
       "      <td>2.0</td>\n",
       "    </tr>\n",
       "    <tr>\n",
       "      <th>50%</th>\n",
       "      <td>170188.950000</td>\n",
       "      <td>181567.490000</td>\n",
       "      <td>-6015.340000</td>\n",
       "      <td>131185.180000</td>\n",
       "      <td>107246.160000</td>\n",
       "      <td>6894.690000</td>\n",
       "      <td>2.0</td>\n",
       "    </tr>\n",
       "    <tr>\n",
       "      <th>75%</th>\n",
       "      <td>188163.170000</td>\n",
       "      <td>213930.830000</td>\n",
       "      <td>443.940000</td>\n",
       "      <td>140112.505000</td>\n",
       "      <td>121004.260000</td>\n",
       "      <td>24477.095000</td>\n",
       "      <td>2.0</td>\n",
       "    </tr>\n",
       "    <tr>\n",
       "      <th>max</th>\n",
       "      <td>217636.410000</td>\n",
       "      <td>244105.960000</td>\n",
       "      <td>8980.810000</td>\n",
       "      <td>157856.930000</td>\n",
       "      <td>147136.750000</td>\n",
       "      <td>55595.180000</td>\n",
       "      <td>2.0</td>\n",
       "    </tr>\n",
       "  </tbody>\n",
       "</table>\n",
       "</div>"
      ],
      "text/plain": [
       "       Gross Purchase    Gross Sales  Net Purchase / Sales  Gross Purchase.1  \\\n",
       "count       11.000000      11.000000             11.000000         11.000000   \n",
       "mean    173237.940909  190278.644545         -17040.703636     128560.163636   \n",
       "std      26041.343578   29244.371862          23037.464668      18271.920006   \n",
       "min     125896.680000  149090.070000         -65816.700000     105544.290000   \n",
       "25%     160940.625000  171603.460000         -30532.890000     114017.740000   \n",
       "50%     170188.950000  181567.490000          -6015.340000     131185.180000   \n",
       "75%     188163.170000  213930.830000            443.940000     140112.505000   \n",
       "max     217636.410000  244105.960000           8980.810000     157856.930000   \n",
       "\n",
       "       Gross Sales.1  Net Purchase / Sales.1  lables  \n",
       "count      11.000000               11.000000    11.0  \n",
       "mean   114429.293636            14130.870000     2.0  \n",
       "std     15783.624326            18625.660173     0.0  \n",
       "min     99516.180000           -11970.540000     2.0  \n",
       "25%    104161.845000             4837.705000     2.0  \n",
       "50%    107246.160000             6894.690000     2.0  \n",
       "75%    121004.260000            24477.095000     2.0  \n",
       "max    147136.750000            55595.180000     2.0  "
      ]
     },
     "execution_count": 13,
     "metadata": {},
     "output_type": "execute_result"
    }
   ],
   "source": [
    "df[df['lables']==2].describe()"
   ]
  },
  {
   "cell_type": "code",
   "execution_count": 14,
   "id": "f5cab5d0",
   "metadata": {},
   "outputs": [],
   "source": [
    "#since most of the data in from the 1st label we are analysing it\n",
    "z=df[df['lables']==1]"
   ]
  },
  {
   "cell_type": "code",
   "execution_count": 15,
   "id": "18481e75",
   "metadata": {},
   "outputs": [
    {
     "name": "stderr",
     "output_type": "stream",
     "text": [
      "C:\\Users\\chera\\anaconda3\\lib\\site-packages\\seaborn\\_decorators.py:36: FutureWarning: Pass the following variables as keyword args: x, y. From version 0.12, the only valid positional argument will be `data`, and passing other arguments without an explicit keyword will result in an error or misinterpretation.\n",
      "  warnings.warn(\n"
     ]
    },
    {
     "data": {
      "text/plain": [
       "<AxesSubplot:xlabel='Date\\xa0', ylabel='Gross\\xa0Sales'>"
      ]
     },
     "execution_count": 15,
     "metadata": {},
     "output_type": "execute_result"
    },
    {
     "data": {
      "image/png": "[encoded data removed]",
      "text/plain": [
       "<Figure size 576x396 with 1 Axes>"
      ]
     },
     "metadata": {},
     "output_type": "display_data"
    }
   ],
   "source": [
    "sns.scatterplot(z['Date\\xa0'],z['Gross\\xa0Sales'])"
   ]
  },
  {
   "cell_type": "code",
   "execution_count": 16,
   "id": "c64a6470",
   "metadata": {},
   "outputs": [
    {
     "name": "stderr",
     "output_type": "stream",
     "text": [
      "C:\\Users\\chera\\anaconda3\\lib\\site-packages\\seaborn\\_decorators.py:36: FutureWarning: Pass the following variables as keyword args: x, y. From version 0.12, the only valid positional argument will be `data`, and passing other arguments without an explicit keyword will result in an error or misinterpretation.\n",
      "  warnings.warn(\n"
     ]
    },
    {
     "data": {
      "text/plain": [
       "<AxesSubplot:xlabel='Date\\xa0', ylabel='Gross\\xa0Sales'>"
      ]
     },
     "execution_count": 16,
     "metadata": {},
     "output_type": "execute_result"
    },
    {
     "data": {
      "image/png": "[encoded data removed]",
      "text/plain": [
       "<Figure size 576x396 with 1 Axes>"
      ]
     },
     "metadata": {},
     "output_type": "display_data"
    }
   ],
   "source": [
    "#infrence***(1)\n",
    "sns.scatterplot(df['Date\\xa0'],df['Gross\\xa0Sales'],hue=df['lables'])"
   ]
  }
 ],
 "metadata": {
  "kernelspec": {
   "display_name": "Python 3",
   "language": "python",
   "name": "python3"
  },
  "language_info": {
   "codemirror_mode": {
    "name": "ipython",
    "version": 3
   },
   "file_extension": ".py",
   "mimetype": "text/x-python",
   "name": "python",
   "nbconvert_exporter": "python",
   "pygments_lexer": "ipython3",
   "version": "3.8.8"
  }
 },
 "nbformat": 4,
 "nbformat_minor": 5
}
